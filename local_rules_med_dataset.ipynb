{
  "cells": [
    {
      "cell_type": "markdown",
      "metadata": {
        "id": "RZLyHLtN8bQB"
      },
      "source": [
        "# Правило Ойи и затем классификация/кластеризация c помощью SoftHebb"
      ]
    },
    {
      "cell_type": "code",
      "execution_count": null,
      "metadata": {
        "colab": {
          "base_uri": "https://localhost:8080/"
        },
        "id": "BDZMPjy5AQCJ",
        "outputId": "ba436bb7-9f79-47ed-a2e4-970bcee93da8"
      },
      "outputs": [
        {
          "output_type": "stream",
          "name": "stdout",
          "text": [
            "Mounted at /content/drive\n"
          ]
        }
      ],
      "source": [
        "from google.colab import drive\n",
        "drive.mount('/content/drive')"
      ]
    },
    {
      "cell_type": "code",
      "execution_count": null,
      "metadata": {
        "id": "UopS96nGAVXW"
      },
      "outputs": [],
      "source": [
        "import pandas as pd\n",
        "data = pd.read_csv(\"drive/MyDrive/brca.csv\")"
      ]
    },
    {
      "cell_type": "code",
      "execution_count": null,
      "metadata": {
        "colab": {
          "base_uri": "https://localhost:8080/"
        },
        "id": "tRckTRrPBRPd",
        "outputId": "edea092e-adfc-43c1-e884-8723dcd2ac3f"
      },
      "outputs": [
        {
          "output_type": "stream",
          "name": "stdout",
          "text": [
            "(569, 32)\n"
          ]
        }
      ],
      "source": [
        "print(data.shape)"
      ]
    },
    {
      "cell_type": "code",
      "execution_count": null,
      "metadata": {
        "colab": {
          "base_uri": "https://localhost:8080/"
        },
        "id": "OFN9fuMGBnq0",
        "outputId": "100743fa-97c1-4023-df03-5842443541de"
      },
      "outputs": [
        {
          "output_type": "stream",
          "name": "stdout",
          "text": [
            "В данных нет пропусков, строить график пропусков не требуется.\n"
          ]
        }
      ],
      "source": [
        "import matplotlib.pyplot as plt\n",
        "df = data\n",
        "missing_counts = df.isnull().sum()\n",
        "missing_counts = missing_counts[missing_counts > 0]  # Оставляем только признаки с пропусками\n",
        "\n",
        "if missing_counts.empty:\n",
        "    print(\"В данных нет пропусков, строить график пропусков не требуется.\")\n",
        "else:\n",
        "    plt.figure(figsize=(12,6))\n",
        "    missing_counts.plot(kind='bar', color='skyblue')\n",
        "    plt.title('Количество пропусков по признакам')\n",
        "    plt.xlabel('Признаки')\n",
        "    plt.ylabel('Количество пропусков')\n",
        "    plt.xticks(rotation=45, ha='right')\n",
        "    plt.grid(axis='y', linestyle='--', alpha=0.7)\n",
        "    plt.tight_layout()\n",
        "    plt.show()\n"
      ]
    },
    {
      "cell_type": "code",
      "execution_count": null,
      "metadata": {
        "colab": {
          "base_uri": "https://localhost:8080/"
        },
        "id": "0iVvmG_gEJJj",
        "outputId": "973bfd69-ef24-46b9-f346-b17e6edfe184"
      },
      "outputs": [
        {
          "output_type": "stream",
          "name": "stdout",
          "text": [
            "[0. 1.]\n"
          ]
        }
      ],
      "source": [
        "last_col = df.columns[-1]\n",
        "\n",
        "df[last_col] = df[last_col].map({'M': 1.0, 'B': 0.0})\n",
        "\n",
        "print(df[last_col].unique())\n"
      ]
    },
    {
      "cell_type": "code",
      "execution_count": null,
      "metadata": {
        "colab": {
          "base_uri": "https://localhost:8080/"
        },
        "id": "slxBA5RTEVxd",
        "outputId": "dd19b919-b424-4ac5-e337-69e6eb861e5c"
      },
      "outputs": [
        {
          "output_type": "stream",
          "name": "stdout",
          "text": [
            "(455, 32)\n",
            "(114, 32)\n"
          ]
        },
        {
          "output_type": "stream",
          "name": "stderr",
          "text": [
            "100%|██████████| 30/30 [00:25<00:00,  1.16it/s]\n"
          ]
        }
      ],
      "source": [
        "import numpy as np\n",
        "import pandas as pd\n",
        "from sklearn.model_selection import train_test_split\n",
        "from tqdm import tqdm\n",
        "import torch\n",
        "import torch.nn as nn\n",
        "import torch.optim as optim\n",
        "from torchvision import datasets, transforms\n",
        "\n",
        "class DataLoader:\n",
        "    def __init__(self, df, target_col, batch_size=32, shuffle=True, device='cpu'):\n",
        "        \"\"\"\n",
        "        :param df: pandas DataFrame с данными\n",
        "        :param target_col: имя столбца с целевой переменной\n",
        "        :param batch_size: размер батча\n",
        "        :param shuffle: перемешивать данные перед каждой эпохой\n",
        "        :param device: устройство для тензоров ('cpu' или 'cuda')\n",
        "        \"\"\"\n",
        "        self.df = df.reset_index(drop=True)\n",
        "        self.target_col = target_col\n",
        "        self.dataset = self.df\n",
        "        self.batch_size = batch_size\n",
        "        self.shuffle = shuffle\n",
        "        self.device = device\n",
        "        self.num_samples = len(df)\n",
        "        self.indices = np.arange(self.num_samples)\n",
        "        self.current_idx = 0\n",
        "        if self.shuffle:\n",
        "            np.random.shuffle(self.indices)\n",
        "\n",
        "    def __iter__(self):\n",
        "        self.current_idx = 0\n",
        "        if self.shuffle:\n",
        "            np.random.shuffle(self.indices)\n",
        "        return self\n",
        "\n",
        "    def __next__(self):\n",
        "        if self.current_idx >= self.num_samples:\n",
        "            raise StopIteration\n",
        "\n",
        "        batch_indices = self.indices[self.current_idx:self.current_idx + self.batch_size]\n",
        "        batch_data = self.df.iloc[batch_indices]\n",
        "\n",
        "        X_np = batch_data.drop(columns=[self.target_col]).values.astype(np.float32)\n",
        "        y_np = batch_data[self.target_col].values\n",
        "\n",
        "\n",
        "        y_np = y_np.astype(np.int64)\n",
        "\n",
        "        X = torch.from_numpy(X_np).to(self.device)\n",
        "        y = torch.from_numpy(y_np).to(self.device)\n",
        "\n",
        "        self.current_idx += self.batch_size\n",
        "        return X, y\n",
        "\n",
        "    def __len__(self):\n",
        "        return (self.num_samples + self.batch_size - 1) // self.batch_size\n",
        "# --- Пример использования ---\n",
        "\n",
        "# Предположим, у вас есть DataFrame df и целевой столбец 'target'\n",
        "target_col = df.columns[-1]  # например, последний столбец\n",
        "\n",
        "# Разделяем на train и test (например, 80%/20%)\n",
        "train_df, test_df = train_test_split(df, test_size=0.2, random_state=42, stratify=df[target_col])\n",
        "\n",
        "# Создаём DataLoader для train и test\n",
        "train_loader = DataLoader(train_df, target_col=target_col, batch_size=1, shuffle=True)\n",
        "test_loader = DataLoader(test_df, target_col=target_col, batch_size=1, shuffle=False)\n",
        "print(train_df.shape)\n",
        "print(test_df.shape)\n",
        "device = \"cuda\"\n",
        "n_components = 10\n",
        "num_epochs_oj = 30\n",
        "DATA_SHAPE = 31\n",
        "eta_oja = 0.01\n",
        "device = \"cuda\"\n",
        "W_oja = 0.01*torch.randn((DATA_SHAPE, n_components), device = device)\n",
        "# Пример итерации по train_loader\n",
        "for i in tqdm(range(num_epochs_oj)):\n",
        "  for i, (img, label) in enumerate(train_loader):\n",
        "    img = torch.squeeze(img).to(device)  # Перемещаем изображение на устройство\n",
        "    img = img.reshape(-1,1)  # Преобразуем в одномерный тензор\n",
        "    x = img/torch.linalg.norm(img)\n",
        "    y = W_oja.T @ x\n",
        "    delta_W = eta_oja * (x @ y.T - W_oja @ (y @ y.T))\n",
        "    W_oja += delta_W\n",
        "\n",
        "  W_oja = W_oja / torch.linalg.norm(W_oja, axis=0)\n",
        "\n",
        "\n"
      ]
    },
    {
      "cell_type": "code",
      "source": [
        "print(W_oja.shape)"
      ],
      "metadata": {
        "colab": {
          "base_uri": "https://localhost:8080/"
        },
        "id": "cNssTaM8cKco",
        "outputId": "df126752-2217-4ac6-950e-1a1ac157b2af"
      },
      "execution_count": null,
      "outputs": [
        {
          "output_type": "stream",
          "name": "stdout",
          "text": [
            "torch.Size([31, 10])\n"
          ]
        }
      ]
    },
    {
      "cell_type": "code",
      "execution_count": null,
      "metadata": {
        "id": "p3w5ITfE8bQB"
      },
      "outputs": [],
      "source": [
        "import torch\n",
        "import torch.nn as nn\n",
        "import torch.optim as optim\n",
        "from tqdm import tqdm\n",
        "import torch.nn.functional as F\n",
        "\n",
        "import torch\n",
        "import torch.nn as nn\n",
        "\n",
        "class SingleLayerNet(nn.Module):\n",
        "    def __init__(self, num_digits):\n",
        "        super().__init__()\n",
        "        self.num_digits = num_digits\n",
        "        self.fc = nn.Linear(self.num_digits, 1)\n",
        "\n",
        "    def forward(self, x):\n",
        "        x = x.view(-1, self.num_digits)\n",
        "        x = self.fc(x)\n",
        "        return x\n",
        "\n",
        "\n",
        "class Layer:\n",
        "    def __init__(self, num_neuron, num_synapses, eta, base, device, lr_decay=\"exp\", w_ch1=[], w_ch2=[], bias=[]):\n",
        "        self.num_neuron = num_neuron\n",
        "        self.num_synapses = num_synapses\n",
        "        self.neurons = []\n",
        "        self.eta = eta.reshape(-1,1).to(device)\n",
        "        self.w_ch1 = w_ch1\n",
        "        self.w_ch2 = w_ch2\n",
        "        self.bias = bias\n",
        "        self.device = device\n",
        "        self.lr_decay = lr_decay\n",
        "        self.eta_0 = self.eta\n",
        "        self.W = (0.1*torch.randn((num_synapses, num_neuron))).to(device)\n",
        "        self.y_get = []\n",
        "        self.b_get = []\n",
        "\n",
        "        self.b = 0.1*torch.zeros((num_neuron,1), device = self.device)\n",
        "        self.dicts = [{} for i in range(self.num_neuron)]\n",
        "        self.base = base\n",
        "\n",
        "\n",
        "    def get_weights(self):\n",
        "        return self.W\n",
        "\n",
        "    def get_bias(self):\n",
        "        return self.b\n",
        "\n",
        "    def get_vote(self):\n",
        "        return self.dicts\n",
        "\n",
        "    def voting_of_neurons(self, x, label):\n",
        "\n",
        "        u = torch.zeros((self.num_neuron, 1), device=self.device)  # взвешенные суммы нейронов\n",
        "        y = torch.zeros((self.num_neuron, 1), device=self.device)  # активации нейронов\n",
        "        x = x / torch.linalg.norm(x)\n",
        "        x = torch.reshape(x, (-1, 1))\n",
        "        y = torch.reshape(y, (-1, 1))\n",
        "        u = torch.reshape(u, (-1, 1))\n",
        "        u = self.W.T @ x\n",
        "        y = self.base ** (u + self.b) / torch.sum(self.base ** (u + self.b))\n",
        "        label = label.item()\n",
        "        max_activ = torch.argmax(y)  # .to(\"cpu\").numpy() # возвращаем индекс наиболее активного нейрона\n",
        "        self.dicts[max_activ][label] = self.dicts[max_activ].get(label, 0) + 1\n",
        "\n",
        "    def get_predict(self, x):\n",
        "\n",
        "        u = torch.zeros((self.num_neuron, 1), device=self.device)  # взвешенные суммы нейронов\n",
        "        y = torch.zeros((self.num_neuron, 1), device=self.device)  # активации нейронов\n",
        "        x = x / torch.linalg.norm(x)\n",
        "        x = torch.reshape(x, (-1, 1))\n",
        "        # print(max(self.b) - min(self.b))\n",
        "        u = self.W.T @ x\n",
        "        y = self.base ** (u + self.b) / torch.sum(self.base ** (u + self.b))\n",
        "        a = torch.argmax(y)\n",
        "        if (self.dicts[a]):\n",
        "            label = max(self.dicts[a], key=self.dicts[a].get)  # Находим ключ с максимальным значением\n",
        "        else:\n",
        "            label = -1\n",
        "        return label\n",
        "\n",
        "    def train(self, x):\n",
        "\n",
        "        u = torch.zeros((self.num_neuron, 1), device=self.device)  # взвешенные суммы нейронов\n",
        "        y = torch.zeros((self.num_neuron, 1), device=self.device)  # активации нейронов\n",
        "        x = x / torch.linalg.norm(x)\n",
        "        x = torch.reshape(x, (-1, 1))\n",
        "        y = torch.reshape(y, (-1, 1))\n",
        "        u = torch.reshape(u, (-1, 1))\n",
        "\n",
        "        u = self.W.T @ x\n",
        "\n",
        "        # --- старые вычисления\n",
        "        y = self.base ** (u + self.b) / torch.sum(self.base ** (u + self.b))\n",
        "        # для графиков ///////////////////////////////////////\n",
        "        self.y_get.append(y)\n",
        "\n",
        "        term1 = self.eta.T * (x @ y.T)  # [num_synapses, num_neuron]\n",
        "        term2 = self.eta.T * self.W * (u.T * y.T)  # [num_synapses, num_neuron]\n",
        "        delta_W = term1-term2\n",
        "        self.W = self.W + delta_W\n",
        "\n",
        "        # self.b = self.b + self.eta * ( y * torch.exp(-self.b)  - 1.0)# - 0.1*self.b) член регуляризации (doesn't work at all)\n",
        "        # self.b = torch.softmax(self.b, dim = 0)\n",
        "        # self.b  = torch.clip(self.b, min = -20, max = 20)\n",
        "        # для графиков ///////////////////////////\n",
        "        self.b_get.append(self.b)\n",
        "        return y\n",
        "    def get_activations(self, x):\n",
        "        u = torch.zeros((self.num_neuron, 1), device=self.device)  # взвешенные суммы нейронов\n",
        "        y = torch.zeros((self.num_neuron, 1), device=self.device)  # активации нейронов\n",
        "        x = x / torch.linalg.norm(x)\n",
        "        x = torch.reshape(x, (-1, 1))\n",
        "        y = torch.reshape(y, (-1, 1))\n",
        "        u = torch.reshape(u, (-1, 1))\n",
        "\n",
        "\n",
        "        u = self.W.T @ x\n",
        "        y = self.base ** (u + self.b) / torch.sum(self.base ** (u + self.b))\n",
        "\n",
        "\n",
        "        return y\n",
        "    def w_plt1(self):\n",
        "        return self.w_ch1\n",
        "\n",
        "    def w_plt2(self):\n",
        "        return self.w_ch2\n",
        "\n",
        "    def y_get(self):\n",
        "        return self.y_get\n",
        "\n",
        "    def b_get(self):\n",
        "        return self.b_get\n",
        "\n",
        "    def w_plt2(self):\n",
        "        return self.w_ch2\n",
        "\n",
        "    def lr_update(self):\n",
        "        norm = torch.linalg.norm(self.W, axis = 0, keepdims = True).reshape(-1,1)\n",
        "        nc = 1e-10\n",
        "        self.eta = (self.eta_0 * (pow(torch.abs(norm - torch.ones_like(norm)), 2))+nc).reshape(-1,1)\n",
        "    def update_lr(self, t):\n",
        "        if(self.lr_decay == \"exp\"):\n",
        "            gamma_exp = 0.4\n",
        "            self.eta = self.eta_0*np.exp(-gamma_exp*t)\n",
        "            self.eta = torch.clip(self.eta, a_min = 0.0055, a_max = 1)\n",
        "        elif(self.lr_decay == \"linear\"):\n",
        "            gamma_lin = 0.95\n",
        "            self.eta = self.eta_0*(gamma_lin)**t\n",
        "            self.eta = torch.clip(self.eta, a_min = 0.0055, a_max = 1)\n",
        "        elif(self.lr_decay == \"None\"):\n",
        "            self.eta = self.eta\n"
      ]
    },
    {
      "cell_type": "code",
      "execution_count": null,
      "metadata": {
        "id": "Byuj1kgB8bQC"
      },
      "outputs": [],
      "source": [
        "from tqdm import tqdm\n",
        "import torch\n",
        "import torch.nn as nn\n",
        "import torch.optim as optim\n",
        "from torchvision import datasets, transforms\n",
        "\n",
        "num_neuron = 10\n",
        "num_synapses = W_oja.shape[1]\n",
        "eta = 0.15 * torch.ones(num_neuron)\n",
        "\n",
        "\n",
        "device = torch.device(\"cuda\" if torch.cuda.is_available() else \"cpu\")\n",
        "model = SingleLayerNet(num_digits = num_neuron)\n",
        "model.to(device)\n",
        "criterion = nn.BCEWithLogitsLoss()\n",
        "optimizer = optim.Adam(model.parameters(), lr=0.001)\n",
        "layer = Layer(num_neuron, num_synapses, eta, base = 2.71828, device = device, lr_decay = \"None\")\n",
        "norms = []\n",
        "preds = []\n",
        "num_epochs = 2\n",
        "num_epochs_classifier_head = 2\n",
        "cnt = 0\n",
        "eps = 0.01\n",
        "metrics = []\n",
        "losses = []\n",
        "\n",
        "for _ in tqdm(range(num_epochs), desc = \"Номер эпохи\"):\n",
        "    for i, (img, label) in enumerate(train_loader):\n",
        "        img = torch.squeeze(img).to(device)  # Перемещаем изображение на устройство\n",
        "        img = img.reshape(-1)  # Преобразуем в одномерный тензор\n",
        "        img = W_oja.T @ img\n",
        "        layer.lr_update()\n",
        "        y = layer.train(img)\n",
        "        if(i % 100 == 0):\n",
        "            norms.append(torch.linalg.norm(layer.get_weights(), axis = 0).mean())\n",
        "            print(torch.linalg.norm(layer.get_weights(), axis = 0).mean())\n",
        "print(y)\n",
        "for img, label in train_loader:\n",
        "    img = torch.squeeze(img).to(device)\n",
        "    img = img.reshape(-1)\n",
        "    img = W_oja.T @ img\n",
        "    layer.voting_of_neurons(img,label)\n",
        "\n",
        "list_of_dicts = layer.get_vote() # выводит результаты голосования нейронов\n",
        "print(list_of_dicts)\n",
        "\n",
        "model.train()\n",
        "for _ in tqdm(range(num_epochs_classifier_head), desc = \"Номер эпохи\"):\n",
        "    for i, (img, label) in enumerate(train_loader):\n",
        "        img = torch.squeeze(img).to(device)\n",
        "        label = label.to(device)\n",
        "        img = img.reshape(-1)\n",
        "        img = W_oja.T @ img\n",
        "        y = layer.get_activations(img)\n",
        "        y = y/torch.linalg.norm(y)\n",
        "        optimizer.zero_grad()\n",
        "        output = model(y)\n",
        "        loss = criterion(output, label.float().unsqueeze(1)) #label.float()\n",
        "        loss.backward()\n",
        "        optimizer.step()\n",
        "\n",
        "    model.eval()\n",
        "    test_loss = 0\n",
        "    correct = 0\n",
        "    total_samples = 0  # Счетчик всех обработанных примеров\n",
        "\n",
        "    with torch.no_grad():\n",
        "        for i, (img, label) in enumerate(test_loader):\n",
        "            img = torch.squeeze(img).to(device)\n",
        "            label = label.to(device).float()  # Приводим к float для BCE\n",
        "            img = img.reshape(-1)\n",
        "            img = W_oja.T @ img\n",
        "            y = layer.get_activations(img)\n",
        "            y = y/torch.linalg.norm(y)\n",
        "\n",
        "            output = model(y)\n",
        "\n",
        "            # Рассчитываем loss\n",
        "            loss = criterion(output, label.float().unsqueeze(1))\n",
        "            test_loss += loss.item()\n",
        "\n",
        "            # Рассчитываем предсказания\n",
        "            preds = torch.sigmoid(output)  # Применяем сигмоиду для получения вероятностей\n",
        "            preds = (preds > 0.5).long()  # Конвертируем в 0/1\n",
        "            # print(preds)\n",
        "            # Обновляем счетчики\n",
        "            correct += (preds.squeeze() == label.long()).sum().item()\n",
        "            total_samples += label.size(0)  # Учитываем размер батча\n",
        "\n",
        "    # 4. Корректный расчет метрик\n",
        "    test_loss /= len(test_loader)\n",
        "    accuracy = 100. * correct / total_samples  # Используем total_samples вместо len(test_loader.dataset)\n",
        "    metrics.append(accuracy)\n",
        "    losses.append(test_loss)\n",
        "    print(f'\\nTest set: Average loss: {test_loss:.4f}, Accuracy: {correct}/{total_samples} ({accuracy:.2f}%)\\n')\n",
        "\n",
        "\n"
      ]
    },
    {
      "cell_type": "code",
      "execution_count": null,
      "metadata": {
        "id": "2czEWL3M8bQD"
      },
      "outputs": [],
      "source": [
        "import numpy as np\n",
        "import torch\n",
        "import gc\n",
        "\n",
        "\n",
        "pred_labels = []\n",
        "true_labels = []\n",
        "\n",
        "for img, label in test_loader:\n",
        "    img = torch.squeeze(img).to(device)\n",
        "    img = img.reshape(-1)\n",
        "    img = W_oja.T @ img\n",
        "    true_labels.append(label)\n",
        "    pred_labels.append(layer.get_predict(img))\n",
        "\n",
        "\n",
        "\n",
        "from sklearn.metrics import accuracy_score, precision_score, recall_score, f1_score, confusion_matrix, classification_report\n",
        "\n",
        "\n",
        "accuracy = accuracy_score(true_labels, pred_labels)\n",
        "\n",
        "precision = precision_score(true_labels, pred_labels, average='weighted')\n",
        "\n",
        "recall = recall_score(true_labels, pred_labels, average='weighted')\n",
        "\n",
        "f1 = f1_score(true_labels, pred_labels, average='weighted')\n",
        "\n",
        "conf_matrix = confusion_matrix(true_labels, pred_labels)\n",
        "\n",
        "accuracy = accuracy_score(true_labels, pred_labels)\n",
        "\n",
        "f1 = f1_score(true_labels, pred_labels, average='weighted')\n",
        "\n",
        "conf_matrix = confusion_matrix(true_labels, pred_labels)\n",
        "\n",
        "classification_rep = classification_report(true_labels, pred_labels)\n",
        "\n",
        "print(f\"Accuracy: {accuracy:.4f}\")\n",
        "print(f\"Precision: {precision:.4f}\")\n",
        "print(f\"Recall: {recall:.4f}\")\n",
        "print(f\"F1-score: {f1:.4f}\")\n",
        "print(\"\\nConfusion Matrix:\")\n",
        "print(conf_matrix)\n",
        "print(\"\\nClassification Report:\")\n",
        "print(classification_rep)\n"
      ]
    },
    {
      "cell_type": "code",
      "execution_count": null,
      "metadata": {
        "id": "qal-6T-Y8bQD",
        "outputId": "14ebf77c-8c22-4e75-c90a-9f8a85d683bd"
      },
      "outputs": [
        {
          "name": "stdout",
          "output_type": "stream",
          "text": [
            "[{8: 1, 3: 1}, {1: 127, 2: 12, 3: 2, 8: 3}, {4: 1}, {2: 1, 7: 1}, {8: 6, 7: 5, 9: 2, 2: 1}, {4: 2}, {5: 6, 6: 11, 2: 1, 3: 1, 4: 2}, {4: 16, 9: 41, 8: 7, 7: 1, 2: 5, 5: 1}, {5: 5, 6: 7, 8: 4}, {5: 3, 3: 3, 6: 1}, {4: 2, 8: 2, 6: 7, 5: 1}, {1: 13, 8: 6, 2: 2, 4: 1}, {0: 2}, {5: 9, 8: 28, 7: 6, 2: 12, 3: 5, 6: 1}, {5: 3, 6: 13, 7: 1, 9: 3, 0: 1, 8: 2, 2: 2, 4: 1}, {7: 3, 3: 3, 5: 10}, {3: 26, 7: 21, 8: 4, 9: 8, 4: 4, 5: 3, 6: 1}, {3: 2, 6: 2, 0: 7}, {8: 64, 5: 66, 3: 84, 0: 1, 2: 4}, {5: 4, 2: 4, 1: 1, 3: 2, 9: 1, 7: 1}, {4: 6, 9: 5, 3: 1, 7: 1}, {}, {4: 9, 8: 117, 2: 16, 1: 8, 7: 21, 3: 39, 9: 8, 5: 1}, {0: 27, 9: 33, 8: 14, 7: 83, 4: 1, 3: 3, 5: 2}, {2: 1, 9: 25, 7: 31, 5: 2, 8: 10, 4: 1}, {}, {7: 87, 3: 14, 8: 3, 5: 1, 1: 1, 2: 2}, {4: 11, 8: 2, 3: 8, 5: 2, 7: 2, 6: 1, 1: 1, 9: 1}, {8: 28, 3: 2, 5: 1, 9: 1, 2: 2}, {7: 67, 4: 19, 9: 9, 2: 5, 1: 4}, {6: 71, 4: 13, 9: 5, 8: 1, 2: 2}, {3: 23, 0: 19, 8: 1, 2: 4}, {7: 2, 0: 1, 8: 3, 5: 2, 4: 1}, {9: 3, 3: 12, 8: 4, 5: 3}, {6: 41, 8: 4, 2: 5, 3: 10, 5: 3, 4: 11, 1: 5, 9: 2}, {8: 6}, {9: 19, 3: 18, 5: 3, 4: 5}, {8: 2, 2: 2}, {1: 1, 3: 55, 5: 1, 9: 1, 0: 3, 7: 1, 8: 1}, {5: 6, 6: 1, 0: 1}, {2: 7, 3: 3, 8: 5, 7: 2, 4: 1}, {7: 1, 8: 1}, {9: 1, 8: 1}, {2: 9, 8: 5, 3: 8}, {8: 6, 2: 1, 9: 2}, {2: 4, 3: 2, 8: 1}, {4: 1, 6: 1}, {5: 36, 2: 1, 0: 5, 3: 47, 8: 9, 9: 2}, {}, {2: 2, 8: 3, 9: 3, 7: 1, 4: 4}, {8: 15, 7: 7, 3: 3, 2: 7, 6: 4, 0: 2, 1: 1}, {6: 1}, {8: 7, 2: 9, 1: 1, 5: 3, 9: 1}, {5: 1}, {8: 5, 2: 9, 3: 1}, {6: 29, 3: 3, 2: 5, 0: 1, 1: 9, 8: 120, 4: 2, 9: 4, 5: 7, 7: 4}, {2: 4, 4: 1, 7: 1, 5: 3, 8: 1}, {6: 141, 0: 396, 7: 13, 9: 17, 4: 10, 5: 36, 2: 8, 3: 1, 8: 2}, {0: 80, 5: 11, 9: 3, 3: 1, 7: 4}, {4: 1}, {5: 28, 9: 66, 8: 45, 6: 5, 0: 16, 1: 7, 3: 2, 4: 4, 7: 4, 2: 2}, {7: 60, 9: 109, 4: 90, 5: 24, 2: 1, 3: 4, 8: 1}, {8: 2, 4: 6, 5: 1, 9: 2, 7: 5, 6: 1, 0: 1}, {5: 1, 4: 16, 8: 1}, {8: 32, 3: 1, 6: 2, 4: 5, 2: 2, 5: 4, 7: 2}, {9: 182, 4: 211, 7: 205, 8: 38, 5: 73, 3: 7, 1: 4, 6: 1}, {5: 2, 4: 1, 9: 2, 2: 1}, {2: 7, 4: 2, 6: 1, 5: 1}, {8: 2, 7: 5, 2: 1}, {0: 2, 2: 2, 9: 1}, {5: 43, 8: 11, 3: 6, 2: 2}, {9: 2, 5: 1}, {5: 1, 8: 5, 7: 4, 9: 7, 3: 1, 4: 1}, {2: 10, 3: 25, 4: 1}, {9: 7, 7: 2, 4: 6}, {5: 45, 7: 4, 0: 9, 3: 8, 6: 4, 8: 6, 2: 1}, {7: 3, 9: 1, 6: 1}, {4: 12, 7: 3, 5: 7, 2: 13, 3: 2, 9: 3, 8: 1}, {8: 2, 4: 3, 9: 1}, {9: 3, 7: 1, 5: 4, 4: 5, 3: 1}, {9: 12, 4: 11, 7: 3, 8: 1}, {6: 9, 3: 43, 5: 29, 8: 7, 0: 27, 9: 1}, {2: 3, 4: 1, 5: 4, 0: 1}, {3: 17, 5: 45, 8: 18, 2: 10, 6: 1}, {7: 37, 8: 5, 5: 12, 9: 2, 3: 1, 4: 1}, {8: 1, 3: 1}, {3: 45, 5: 24, 2: 1}, {5: 1, 8: 1}, {2: 68, 3: 16, 4: 1, 1: 5}, {9: 2, 5: 14, 8: 1, 4: 6}, {4: 1, 8: 66, 5: 33, 3: 49, 6: 2, 9: 1, 0: 1, 1: 1, 2: 3}, {2: 97, 6: 32, 9: 1, 8: 2, 4: 19, 7: 1, 0: 4}, {3: 3, 5: 4, 7: 7, 1: 5, 8: 11}, {8: 10, 3: 5, 4: 3, 5: 4, 9: 1, 2: 1}, {2: 3, 4: 1, 8: 1}, {8: 1, 2: 1}, {4: 48, 7: 78, 9: 59, 5: 1, 0: 1}, {3: 5, 5: 1, 0: 1, 2: 2, 8: 2}, {7: 31, 8: 15, 5: 8, 3: 11, 2: 8}, {4: 2}, {2: 2, 5: 2, 8: 1}, {2: 1}, {2: 3, 1: 1}, {4: 5, 9: 3}, {9: 4, 4: 1, 7: 1, 5: 5, 3: 4, 8: 1}, {2: 13, 1: 38, 3: 8, 7: 10, 9: 1, 8: 3, 5: 4}, {2: 3, 4: 1, 7: 1}, {5: 3, 9: 27, 3: 4, 8: 17, 7: 1, 4: 2}, {5: 2, 8: 1, 4: 2}, {1: 1424, 3: 83, 7: 9, 6: 25, 2: 157, 8: 69, 5: 8}, {8: 12, 7: 6, 9: 11, 0: 11, 6: 17, 5: 11, 4: 2, 3: 8}, {4: 21, 9: 81, 5: 79, 8: 15, 3: 6, 6: 1}, {6: 165, 4: 5, 5: 3, 8: 4, 3: 2, 2: 3, 9: 2}, {}, {2: 2, 7: 2, 8: 1, 4: 1}, {3: 36, 1: 51, 5: 36, 8: 3, 2: 9, 6: 2, 9: 1}, {4: 6, 5: 2, 8: 2, 9: 1}, {2: 2, 5: 3, 7: 1, 3: 3, 6: 3}, {9: 6, 7: 13, 4: 3, 8: 3, 2: 1}, {2: 1, 8: 3}, {9: 98, 8: 34, 0: 5, 4: 82, 7: 8, 5: 19, 3: 1}, {8: 1}, {4: 1, 2: 7, 9: 2, 0: 1, 3: 2, 1: 1, 8: 1}, {0: 238, 8: 22, 2: 10, 5: 24, 9: 1}, {1: 1, 5: 1, 4: 1}, {0: 8, 4: 2, 6: 2, 5: 4, 8: 1}, {4: 2, 2: 18, 7: 2, 1: 3}, {8: 14, 5: 3, 2: 1, 3: 1, 7: 1}, {8: 1, 5: 3, 6: 2, 7: 1}, {9: 2, 2: 1, 6: 1}, {2: 1, 8: 1}, {8: 5, 1: 27}, {5: 8, 3: 3, 8: 1, 6: 2, 0: 4}, {8: 41, 6: 1, 3: 4, 5: 15, 4: 1, 0: 2, 2: 1, 9: 1}, {3: 256, 2: 16, 8: 15, 5: 2, 9: 1, 0: 1}, {5: 1, 8: 2}, {5: 31, 2: 2, 8: 9, 0: 6, 3: 2}, {3: 9, 2: 3, 9: 1}, {6: 17, 2: 12, 8: 10, 9: 3, 1: 2, 5: 6, 4: 1, 3: 1}, {3: 7, 8: 3, 4: 1, 2: 2, 5: 3, 0: 1}, {8: 22, 5: 10, 6: 15, 7: 1, 0: 3, 3: 1}, {4: 7}, {8: 2, 2: 3, 5: 1, 3: 1}, {5: 3, 8: 1}, {5: 16, 3: 2, 6: 30, 0: 45, 8: 7, 7: 2, 9: 1, 4: 4, 2: 1}, {3: 2}, {6: 7, 7: 3, 8: 4, 2: 8, 4: 6}, {6: 66, 1: 1}, {5: 95, 9: 5, 4: 8, 8: 21, 2: 4, 7: 15, 6: 4}, {9: 3, 0: 3, 2: 2, 4: 1, 7: 13, 3: 1, 5: 1, 8: 1}, {3: 1}, {3: 23, 5: 8, 0: 1, 8: 1}, {8: 3, 7: 2, 9: 3}, {5: 9, 1: 50, 3: 22, 8: 1}, {2: 21, 8: 1, 6: 4, 5: 1}, {7: 2, 4: 1}, {8: 1, 4: 1, 2: 1}, {6: 3}, {6: 3}, {9: 4, 4: 1, 7: 4, 8: 1}, {1: 436, 9: 12, 7: 35, 3: 27, 8: 3, 2: 19, 5: 1}, {8: 1}, {7: 4, 6: 2}, {6: 6}, {5: 29, 3: 5, 6: 8, 9: 1, 1: 1}, {5: 13, 6: 4, 2: 6}, {8: 1}, {7: 2, 9: 5, 8: 2, 4: 1, 2: 1}, {4: 94, 9: 28, 2: 2, 6: 12, 5: 3, 8: 1, 7: 2, 0: 4}, {2: 6, 3: 1, 8: 1, 0: 1}, {9: 19, 4: 12, 2: 1, 6: 4}, {5: 1}, {5: 2}, {8: 1}, {4: 49, 8: 4, 6: 99, 9: 61, 7: 39, 0: 35, 2: 8, 5: 2, 3: 1}, {6: 1}, {8: 5, 4: 1, 9: 6, 5: 1}, {8: 4, 3: 4, 2: 1, 4: 3, 7: 6}, {7: 4, 3: 4, 5: 3, 0: 1}, {3: 13, 8: 1, 2: 5, 9: 2, 7: 1, 4: 2, 5: 1}, {2: 4, 4: 1, 9: 1, 7: 2, 3: 1}, {3: 14, 8: 7, 1: 2, 9: 1, 7: 1}, {}, {4: 4, 8: 1, 6: 6}, {3: 4, 8: 1, 2: 1}, {6: 9, 2: 6, 3: 1, 0: 1}, {3: 2, 5: 2}, {6: 17, 4: 2, 9: 3, 0: 1}, {5: 5, 8: 2}, {4: 1, 0: 1}, {9: 3, 2: 1, 6: 1, 8: 1}, {2: 4, 6: 2, 0: 1}, {9: 2}, {0: 2, 2: 1, 5: 1}, {9: 33, 4: 58, 8: 1, 6: 1}, {7: 8, 5: 19, 0: 9, 4: 50, 6: 20, 2: 15, 9: 11, 8: 1, 3: 2}, {3: 2, 5: 1, 8: 1}, {8: 1}, {3: 22, 4: 5, 2: 2, 9: 2, 7: 1, 8: 1}, {8: 6, 3: 1, 1: 1}, {8: 62, 3: 36, 2: 2, 5: 2, 6: 1, 9: 1}, {5: 2, 6: 1, 0: 1, 3: 1, 2: 2}, {2: 68, 3: 3, 9: 1, 7: 1, 8: 2, 6: 3, 4: 1}, {5: 2}, {4: 57, 8: 45, 1: 16, 2: 7, 5: 4, 7: 2, 9: 1, 6: 1}, {}, {7: 1}, {4: 1, 8: 3, 9: 1, 5: 3, 6: 1}, {6: 24, 8: 19, 5: 2, 2: 4, 4: 1}, {8: 20, 3: 6}, {9: 3, 4: 1, 2: 4, 6: 1, 3: 2}, {7: 41, 1: 158, 9: 2, 3: 14, 2: 5, 4: 3, 8: 12}, {0: 59, 4: 11, 7: 1, 6: 9, 9: 2, 8: 1, 2: 2}, {}, {9: 25, 6: 53, 7: 12, 4: 43, 2: 35, 3: 3, 8: 2}, {9: 18, 8: 1}, {}, {7: 94, 9: 21, 1: 2, 4: 8, 2: 1}, {5: 138, 3: 23, 2: 2, 8: 8, 6: 4, 1: 1, 0: 2}, {9: 1, 3: 5, 0: 1}, {5: 33, 3: 4, 8: 8, 6: 4, 4: 1, 0: 3}, {5: 2, 3: 2}, {2: 1}, {2: 2, 3: 2, 7: 2, 4: 1}, {0: 3}, {4: 25, 1: 16, 5: 2, 7: 3, 9: 15, 2: 7, 8: 2, 3: 4}, {7: 204, 4: 34, 9: 8, 8: 2}, {7: 34, 3: 10, 8: 2}, {9: 12, 4: 4, 7: 2, 5: 2}, {6: 37, 0: 12, 5: 12, 8: 2, 3: 1}, {6: 9, 8: 2, 5: 1}, {2: 7, 5: 1, 6: 2}, {3: 5, 6: 60, 4: 4, 2: 4, 1: 1, 5: 1, 0: 1}, {}, {5: 1, 2: 1}, {8: 11, 9: 2}, {1: 1108, 6: 5, 9: 31, 7: 30, 3: 4, 4: 12, 5: 11, 2: 2, 8: 1}, {4: 1}, {7: 36, 8: 14, 9: 7, 1: 7, 4: 1, 2: 2}, {2: 6, 3: 1, 0: 2, 8: 1}, {8: 38, 1: 131, 3: 9, 6: 6, 9: 2, 5: 7, 2: 5, 4: 3}, {3: 1, 7: 5}, {0: 25, 7: 3, 5: 3, 9: 1}, {5: 4, 4: 1, 9: 5, 8: 3}, {4: 5, 9: 2, 7: 1, 5: 1}, {8: 3, 5: 1}, {9: 2, 6: 76, 4: 7, 5: 2, 0: 8, 2: 5}, {2: 3, 8: 1}, {7: 10, 2: 5, 9: 1, 3: 1, 4: 1}, {4: 12, 7: 2, 5: 8, 6: 3, 3: 3, 2: 1, 9: 2}, {8: 53, 5: 72, 3: 1}, {7: 5, 3: 10, 0: 1, 5: 2, 9: 1}, {1: 4, 6: 1, 8: 1}, {4: 12, 8: 1, 6: 20, 9: 5, 5: 1}, {4: 3}, {6: 3, 0: 7, 2: 1, 3: 3}, {7: 107, 1: 154, 8: 63, 9: 68, 4: 17, 2: 17, 3: 3, 5: 1, 6: 1}, {4: 53, 2: 10, 6: 5, 9: 1, 8: 1, 5: 1}, {9: 1, 8: 1}, {3: 30, 8: 7, 5: 1, 2: 2}, {0: 13, 7: 17, 2: 19, 5: 2, 8: 2, 9: 4, 6: 1, 3: 1}, {1: 876, 2: 115, 8: 40, 3: 23, 5: 4, 6: 2}, {9: 3, 6: 1, 4: 6, 8: 3}, {8: 2, 3: 1, 0: 1, 2: 1, 5: 1}, {7: 8, 5: 2, 9: 2, 8: 1, 3: 1, 6: 1}, {5: 2, 6: 2, 3: 67, 8: 11, 2: 1, 9: 2, 7: 1, 0: 1}, {2: 216, 8: 8, 7: 2, 6: 6, 5: 3}, {6: 14, 0: 3, 2: 1, 3: 7, 5: 2, 8: 1}, {2: 8, 3: 4, 5: 1, 8: 1}, {3: 2, 8: 1}, {8: 1}, {7: 6, 4: 8, 3: 1, 8: 8, 6: 1}, {8: 2, 3: 1, 2: 2}, {7: 5, 9: 3, 0: 3, 4: 4, 3: 1}, {5: 4, 4: 6, 3: 1, 2: 1, 9: 1}, {2: 1, 8: 3, 5: 1}, {9: 186, 4: 232, 5: 16, 8: 6, 2: 2}, {2: 45, 3: 7, 9: 1, 7: 1, 8: 1, 5: 1}, {0: 1}, {5: 4, 7: 1}, {8: 4, 5: 1}, {6: 5, 2: 1}, {7: 9, 3: 1}, {2: 4, 8: 1, 6: 1}, {7: 588, 3: 3, 5: 9, 9: 45, 0: 21, 2: 13, 4: 6, 6: 1, 8: 1}, {8: 7, 6: 1}, {5: 4, 3: 1, 8: 2}, {4: 30, 6: 13, 9: 5, 5: 1, 8: 3}, {8: 27, 3: 4, 4: 1}, {5: 1, 8: 2, 4: 1}, {4: 5, 7: 16, 1: 3, 5: 1}, {9: 36, 2: 8, 6: 3, 7: 5, 4: 13, 3: 2, 5: 5}, {1: 300, 5: 47, 4: 10, 2: 22, 7: 48, 8: 23, 3: 8, 9: 14, 6: 14, 0: 1}, {8: 1}, {9: 3, 4: 12, 5: 8, 7: 3}, {7: 6, 5: 3, 8: 1, 2: 1}, {3: 14, 5: 1, 6: 1, 2: 1, 8: 1}, {4: 1, 2: 6, 6: 2, 8: 16, 3: 10, 5: 1}, {8: 2, 4: 11}, {3: 6, 7: 20, 9: 8, 0: 1}, {4: 1, 8: 3, 6: 1, 3: 1}, {}, {0: 6, 8: 1, 5: 5, 3: 7, 9: 1, 7: 2}, {4: 72, 2: 11, 0: 3, 9: 15, 7: 2, 8: 4, 5: 1}, {2: 2, 3: 5}, {7: 1, 2: 1, 3: 2, 6: 1}, {5: 1}, {3: 16, 6: 1, 0: 3, 5: 1, 7: 2}, {9: 11, 5: 8, 0: 1}, {5: 64, 3: 192, 1: 1, 9: 7, 4: 1, 8: 1}, {0: 18, 6: 4, 5: 1, 2: 1}, {3: 223, 5: 51, 0: 5, 8: 21, 2: 5, 9: 2}, {7: 45, 3: 20, 8: 7, 9: 72, 4: 24, 5: 14, 2: 2, 6: 4}, {8: 21, 9: 1, 2: 3, 3: 3}, {4: 10, 7: 3, 9: 7, 6: 2, 5: 4, 8: 4, 2: 1}, {5: 4, 8: 8, 2: 1}, {4: 27, 7: 18, 5: 3, 9: 13, 0: 2, 8: 1}, {5: 2, 8: 1}, {8: 52, 7: 2, 4: 2, 5: 2}, {0: 16, 9: 1, 8: 5, 5: 1, 2: 3}, {2: 17, 0: 1, 3: 19, 5: 2, 7: 1}, {5: 4, 1: 3, 7: 4, 4: 3, 6: 2, 9: 1}, {}, {9: 1, 2: 1, 6: 1}, {8: 7}, {2: 4, 1: 3, 4: 1, 8: 1, 9: 1, 6: 1}, {7: 9, 9: 74, 5: 7, 3: 5, 8: 1, 4: 13}, {0: 11, 3: 4, 2: 1, 5: 1}, {2: 3, 8: 2, 3: 1, 5: 1}, {2: 7, 6: 2}, {2: 4, 8: 2, 4: 1, 9: 1}, {5: 2, 8: 3, 0: 1, 3: 4}, {8: 1, 3: 1}, {4: 1, 9: 1}, {7: 36, 9: 48, 6: 1, 4: 21, 5: 14, 2: 1}, {0: 113, 5: 35, 2: 2, 3: 7, 9: 1, 6: 1, 8: 3}, {3: 17, 5: 4, 8: 4, 9: 2, 0: 1, 7: 1}, {8: 4, 5: 22, 3: 4}, {3: 12, 8: 19, 5: 1}, {7: 1, 9: 8, 8: 1}, {6: 42, 4: 21, 2: 2, 5: 2, 0: 1, 7: 1}, {7: 9, 9: 6, 4: 3, 2: 1, 8: 2, 5: 2}, {8: 96, 3: 22, 9: 4, 5: 64, 6: 1}, {3: 53, 5: 69, 9: 1, 8: 5, 0: 5, 2: 2}, {3: 43, 2: 73, 8: 22, 9: 2}, {9: 56, 4: 88, 7: 8, 8: 1, 6: 26, 0: 4, 5: 1}, {3: 3, 9: 1, 4: 1, 2: 3, 8: 1}, {8: 13, 7: 3, 2: 2}, {0: 121, 2: 38, 3: 2, 9: 5, 8: 4}, {5: 6, 7: 9, 9: 1, 3: 1, 4: 1}, {4: 11, 6: 32, 2: 25, 0: 1}, {5: 4, 8: 2, 2: 2}, {7: 7, 4: 2, 6: 1, 2: 3}, {6: 2, 4: 2, 1: 2, 8: 1}, {8: 15, 2: 1, 5: 1}, {4: 18, 7: 4, 8: 2, 2: 2}, {8: 2, 5: 1}, {8: 1, 2: 1}, {2: 3, 4: 2}, {5: 15, 0: 6, 2: 1, 8: 9, 3: 4}, {9: 3, 5: 7, 3: 9, 8: 9, 4: 1}, {4: 8, 9: 51, 7: 4, 5: 3, 3: 4}, {6: 32, 7: 4, 5: 6, 3: 5, 2: 2, 4: 4, 8: 1, 1: 2}, {6: 144, 2: 2, 4: 78, 5: 90, 9: 9, 3: 28, 0: 3, 8: 1}, {2: 1}, {0: 1, 2: 1, 9: 2, 7: 1}, {3: 20, 8: 14, 2: 34, 0: 1}, {3: 1, 2: 2}, {}, {3: 2, 5: 8, 8: 1}, {9: 404, 5: 119, 4: 74, 8: 53, 7: 32, 3: 15, 2: 3, 0: 2, 6: 1}, {2: 2, 9: 1}, {5: 20, 3: 1}, {7: 55, 1: 40, 4: 48, 9: 27, 2: 12, 3: 3, 8: 1}, {2: 1}, {2: 12, 8: 3, 3: 1}, {8: 6, 2: 5, 0: 1}, {8: 89, 3: 2, 9: 5, 5: 6, 6: 5, 2: 3, 0: 1}, {8: 9, 0: 1}, {0: 25, 7: 3, 9: 2}, {8: 10, 2: 11, 9: 1, 6: 7, 4: 1}, {3: 1, 6: 54, 0: 10, 2: 9, 7: 2, 4: 12, 5: 3}, {8: 1, 5: 3, 3: 3}, {6: 10, 7: 12, 9: 2, 4: 6, 3: 2}, {7: 2, 2: 2, 9: 1}, {2: 7, 6: 6, 0: 2}, {3: 106, 8: 7, 5: 4, 2: 2}, {7: 2, 5: 10, 2: 6, 3: 3, 8: 1, 1: 5, 6: 2, 0: 2}, {4: 4, 6: 60, 2: 3, 0: 13, 5: 7, 8: 1, 3: 1}, {2: 6, 9: 60, 8: 10, 4: 47, 7: 1, 3: 1}, {9: 5, 4: 10, 8: 2}, {4: 89, 1: 41, 7: 44, 9: 24, 2: 3, 8: 3, 6: 1, 3: 1}, {6: 13, 1: 1, 3: 1, 4: 3, 5: 9, 9: 1}, {4: 3, 6: 1, 0: 7, 7: 4, 2: 1}, {5: 8, 8: 28, 3: 15, 2: 3}, {6: 8, 1: 2, 5: 4, 8: 6}, {5: 1}, {2: 15, 5: 32, 3: 4, 1: 8, 7: 3, 0: 1, 8: 7, 6: 11, 4: 1}, {2: 20, 8: 10, 7: 3, 4: 6, 3: 2, 0: 1, 5: 2}, {6: 14, 4: 1, 2: 14, 7: 13, 3: 4, 1: 1, 9: 2}, {8: 2, 3: 2, 2: 11, 7: 1, 5: 1}, {4: 18, 2: 13, 5: 8, 8: 2, 9: 3}, {4: 2}, {5: 14, 9: 1, 8: 12, 4: 1}, {2: 3, 6: 3, 8: 1, 3: 3, 5: 1}, {5: 2}, {6: 421, 5: 2, 8: 1, 3: 1, 2: 1, 4: 2}, {6: 23, 1: 8, 3: 33, 8: 4, 2: 5, 5: 3, 0: 1}, {0: 23, 9: 7, 3: 29, 5: 1, 2: 8, 8: 2}, {2: 12, 4: 7, 8: 2}, {6: 21, 2: 5, 0: 3, 3: 1}, {3: 12, 7: 20, 2: 3, 8: 1}, {3: 3, 7: 2, 5: 2, 8: 1}, {6: 2, 9: 6, 4: 3}, {6: 3, 2: 3, 0: 1, 8: 1}, {2: 2}, {3: 4, 8: 2, 5: 11, 0: 1}, {5: 4, 9: 10, 6: 1, 8: 1, 4: 1}, {3: 6, 2: 3, 4: 1, 7: 1, 9: 1, 5: 2}, {4: 2, 7: 3, 2: 1}, {2: 1}, {0: 22, 3: 4, 5: 25, 6: 2, 2: 1}, {8: 179, 1: 3, 2: 2, 5: 1}, {3: 2}, {4: 14, 3: 1, 0: 1, 9: 2, 8: 1, 6: 1, 7: 1}, {4: 2, 9: 1, 6: 1}, {4: 440, 9: 319, 7: 14, 8: 14, 2: 3, 6: 4, 5: 3, 3: 4}, {3: 20, 5: 15, 4: 1, 6: 1}, {9: 6, 8: 3, 4: 3, 2: 3}, {9: 22, 7: 9, 4: 10, 8: 2, 2: 2, 5: 2}, {7: 3, 4: 13, 2: 1, 8: 2}, {3: 17, 7: 1, 8: 2}, {5: 44, 3: 15, 8: 1, 0: 2, 9: 1}, {2: 79, 5: 12, 3: 8, 1: 8, 6: 5, 8: 12, 0: 1}, {2: 1, 3: 1}, {8: 17, 7: 18, 3: 2, 6: 1, 2: 5}, {8: 39, 5: 9, 3: 101, 9: 2}, {6: 17, 2: 2, 5: 1, 8: 1, 4: 1}, {8: 7, 4: 47, 9: 20, 2: 3, 6: 1}, {2: 8, 6: 1}, {5: 2, 3: 1, 2: 1, 6: 1, 9: 1, 8: 4}, {9: 90, 2: 1, 1: 1, 4: 16, 8: 6, 5: 2, 6: 1, 3: 1}, {9: 2, 4: 1, 8: 2, 6: 1}, {4: 6, 5: 1, 8: 4, 1: 2, 2: 1, 6: 3}, {4: 26, 5: 1, 8: 2}, {5: 4, 3: 1}, {8: 3, 5: 1, 2: 1}, {1: 27, 8: 11, 3: 7, 5: 3, 2: 1, 7: 1}, {1: 7, 6: 3, 4: 7, 2: 2, 8: 1}, {6: 1, 4: 1}, {4: 1, 2: 1}, {5: 30, 4: 2, 2: 4, 8: 10, 7: 1, 3: 1, 6: 1}, {4: 18, 0: 30, 2: 18, 6: 7, 8: 5, 9: 6, 3: 10, 5: 3}, {2: 2, 5: 1, 7: 1}, {9: 18, 3: 1, 2: 2, 6: 5, 4: 6, 5: 12, 7: 1, 8: 1}, {7: 2, 0: 1}, {8: 7, 7: 11, 4: 4, 9: 4, 3: 3, 2: 2}, {8: 19, 2: 52, 7: 1, 0: 1}, {0: 11, 6: 25, 5: 8, 4: 6, 9: 3, 2: 9, 8: 1, 7: 1}, {9: 7, 4: 99, 2: 12, 8: 64, 3: 3, 7: 1}, {4: 2, 8: 1}, {1: 146, 8: 5, 9: 4, 2: 7, 4: 1, 7: 19, 3: 4}, {0: 9, 2: 1, 7: 3, 8: 2, 9: 1}, {4: 13, 5: 2, 0: 1, 8: 1}, {9: 1, 3: 4}, {2: 38, 0: 182, 3: 16, 8: 49, 6: 13, 5: 21, 9: 1, 4: 1}, {2: 16, 6: 22, 4: 105, 7: 4, 9: 55, 5: 5, 8: 2, 0: 5, 3: 1}, {7: 3, 0: 1, 4: 1, 5: 1}, {5: 4, 4: 4, 2: 2, 9: 2, 7: 1, 8: 2}, {2: 10, 6: 2, 0: 6, 4: 2, 3: 1, 5: 2, 9: 1}, {4: 76, 6: 4}, {1: 279, 8: 7, 3: 1, 6: 1}, {4: 13, 2: 6, 0: 6, 9: 1, 6: 2, 5: 1}, {9: 27, 4: 14, 8: 4, 7: 3}, {5: 1}, {5: 9, 3: 67, 1: 10, 2: 12, 4: 1, 8: 1}, {4: 30, 2: 37, 6: 8}, {0: 1, 4: 1, 2: 4}, {4: 1, 2: 4, 5: 2, 3: 1}, {9: 1, 6: 1}, {8: 1, 2: 6, 0: 1}, {8: 36, 6: 11, 3: 3, 2: 2, 5: 1}, {4: 28, 3: 8, 5: 5, 8: 9, 7: 2, 2: 1}, {8: 10, 5: 4, 3: 21, 0: 12, 9: 7}, {3: 1}, {1: 1, 0: 1, 3: 1}, {9: 3, 4: 3, 3: 1, 8: 1, 5: 1}, {3: 138, 6: 27, 9: 2, 8: 54, 5: 57, 2: 4, 0: 11, 4: 1}, {4: 1}, {8: 1}, {3: 197, 5: 8, 8: 3, 6: 1, 2: 1}, {3: 1, 7: 1, 2: 1, 0: 1}, {6: 4, 0: 1, 8: 1}, {9: 6, 2: 4, 4: 18, 1: 1, 7: 5, 6: 2, 3: 1}, {5: 1, 2: 2, 0: 1}, {0: 729, 6: 22, 2: 1, 5: 4, 7: 1, 9: 1}, {3: 4, 8: 9, 5: 1, 9: 1}, {5: 2}, {2: 131, 8: 8, 7: 3, 3: 1, 9: 1}, {8: 5, 4: 25, 6: 3, 9: 3, 5: 1, 0: 1}, {2: 7, 3: 4, 5: 3, 8: 4}, {8: 3, 5: 1}, {6: 8, 8: 3, 2: 5, 9: 1, 7: 4, 1: 4, 4: 2, 5: 1}, {9: 2, 8: 10, 5: 1}, {4: 7, 9: 2}, {0: 63, 6: 15, 8: 10, 5: 2}, {8: 1, 6: 1, 2: 1}, {1: 1, 6: 1, 5: 1, 4: 1}, {3: 10, 6: 3, 2: 10, 5: 1}, {3: 3, 4: 3, 5: 1, 8: 1}, {3: 2, 2: 9, 7: 1, 5: 1}, {2: 1, 4: 1}, {7: 36, 0: 30, 5: 80, 3: 5, 6: 1, 9: 2, 2: 4, 8: 1}, {7: 2, 3: 2}, {6: 1, 8: 4, 9: 2, 4: 1}, {5: 66, 9: 5, 0: 6, 8: 6, 2: 6, 7: 1, 4: 8}, {9: 3, 8: 1, 5: 2, 6: 1}, {2: 3, 1: 143, 8: 6, 4: 2, 9: 1}, {7: 100, 2: 18, 4: 7, 8: 46, 9: 19, 3: 4}, {0: 4, 6: 1, 3: 1, 2: 1}, {6: 12, 8: 15}, {3: 20, 8: 9}, {3: 82, 1: 215, 7: 17, 8: 6, 6: 3, 9: 26, 2: 6, 4: 5, 5: 2, 0: 1}, {6: 2, 4: 1}, {1: 66, 2: 8, 5: 70, 9: 17, 8: 7, 6: 1, 4: 8}, {4: 20, 9: 2, 7: 26, 2: 3, 8: 1, 3: 2}, {4: 8, 8: 54, 3: 1, 9: 11, 5: 8, 2: 1}, {5: 37, 0: 73, 8: 13, 6: 8, 7: 1, 2: 2, 3: 3, 9: 1}, {7: 519, 3: 40, 2: 27, 9: 45, 4: 2, 1: 1, 8: 1, 6: 1}, {3: 81, 5: 46, 9: 10, 8: 13, 7: 1}, {4: 112, 7: 37, 1: 7, 9: 93, 5: 21, 2: 10, 3: 11, 0: 2, 8: 1}, {4: 2}, {2: 7, 0: 3, 3: 1}, {3: 289, 8: 127, 0: 20, 5: 19, 2: 13, 6: 3}, {3: 2, 4: 16, 8: 2, 5: 1}, {3: 6}, {8: 1, 4: 1, 3: 1}, {8: 8, 5: 1, 3: 1}, {5: 8, 4: 1, 6: 4, 8: 5}, {6: 2, 8: 5, 0: 3, 5: 3}, {5: 2, 8: 1}, {3: 53, 2: 251, 8: 48, 7: 4, 5: 1}, {9: 3, 7: 25, 5: 3, 4: 4, 3: 4, 1: 2, 0: 2, 2: 1}, {5: 16, 8: 4, 3: 3, 4: 1, 6: 2, 1: 1}, {9: 1, 8: 2, 4: 5, 7: 1, 2: 1}, {6: 23, 5: 2, 8: 3, 4: 1}, {5: 3, 8: 2, 2: 5, 4: 1, 3: 1}, {6: 2, 5: 8, 4: 4, 9: 3, 2: 1}, {6: 18, 4: 6, 2: 1}, {8: 3}, {0: 9}, {6: 208, 0: 22, 4: 14, 2: 12, 5: 1}, {8: 3}, {5: 2, 0: 3, 4: 1}, {8: 1, 2: 1, 5: 1}, {8: 5, 3: 5}, {7: 4, 8: 13, 2: 1, 4: 2}, {3: 6, 5: 17, 8: 18, 2: 1}, {9: 14, 7: 12, 8: 5, 6: 4, 1: 1, 5: 5, 4: 1, 0: 1}, {7: 14, 4: 21, 9: 7, 5: 2}, {2: 1, 1: 2, 3: 2, 5: 1}, {9: 2, 5: 4, 4: 5, 8: 1, 3: 1, 6: 1}, {9: 60, 4: 13, 3: 1, 5: 8, 7: 2, 2: 4, 6: 2, 8: 5}, {1: 1, 8: 1, 5: 1, 6: 2}, {9: 1, 8: 25, 2: 4, 6: 10, 5: 5, 0: 40, 4: 2}, {6: 59, 2: 8, 4: 1, 5: 3}, {2: 23, 0: 19, 8: 11, 6: 3, 5: 4}, {8: 66, 1: 16, 9: 5, 7: 6, 3: 4, 4: 3}, {2: 6, 4: 1, 6: 1}, {4: 6, 8: 1, 5: 1, 7: 6, 9: 1, 0: 2}, {2: 2, 4: 2, 3: 1, 9: 1, 6: 5}, {6: 4, 5: 1}, {8: 4, 6: 2}, {3: 1}, {5: 6, 9: 2, 3: 1}, {8: 2, 3: 1}, {4: 6, 6: 10, 2: 3, 5: 1, 8: 1}, {7: 26, 5: 1, 0: 2, 9: 2, 2: 1, 3: 1, 1: 1, 4: 1}, {5: 57, 3: 36, 4: 3, 8: 3}, {2: 2, 5: 4, 8: 1}, {7: 6, 8: 2, 9: 1}, {2: 1}, {5: 2, 4: 1}, {6: 4, 5: 2, 4: 2, 3: 1}, {4: 7, 9: 8, 8: 2, 7: 1, 2: 1}, {4: 11, 2: 3, 6: 36, 0: 3, 5: 1, 9: 2}, {9: 91, 4: 182, 8: 19, 6: 1, 7: 10, 3: 1, 5: 2, 2: 1}, {8: 7, 3: 5, 5: 2}, {8: 11, 2: 9, 9: 1}, {2: 5, 3: 4, 8: 11, 5: 2, 0: 1}, {8: 20, 6: 2, 3: 2, 0: 1, 5: 2, 2: 1}, {0: 1276, 5: 295, 7: 18, 3: 146, 8: 35, 9: 16, 6: 3, 2: 3, 4: 1}, {}, {2: 8, 7: 3, 8: 3, 6: 1, 0: 1}, {}, {5: 17, 3: 3, 2: 1, 1: 1}, {9: 1, 7: 6}, {3: 4, 2: 9, 5: 1, 8: 4}, {2: 29, 7: 1, 3: 1}, {6: 9, 1: 2, 0: 1, 3: 1}, {7: 3, 6: 1, 9: 1}, {4: 9}, {6: 51, 5: 39, 3: 11, 0: 4, 2: 6, 8: 2, 9: 1, 4: 1}, {2: 2, 9: 1, 4: 2}, {9: 34, 7: 18, 8: 20, 4: 13, 2: 2, 3: 6}, {2: 704, 3: 26, 0: 22, 8: 2, 5: 16, 6: 18, 4: 1, 7: 1}, {5: 44, 6: 4, 8: 1, 3: 2}, {8: 3, 6: 2, 2: 3, 3: 4, 4: 1, 0: 4, 5: 1}, {3: 18, 8: 49, 2: 20, 5: 2, 7: 4}, {2: 8, 0: 25, 5: 1, 3: 12, 8: 1}, {2: 3, 5: 9, 0: 23, 6: 8, 3: 1}, {8: 2, 9: 1, 2: 1}, {4: 3, 5: 2, 7: 1, 6: 1}, {4: 24, 9: 3}, {7: 1, 2: 2, 9: 1, 8: 1, 5: 4}, {8: 4, 5: 1, 7: 1, 9: 1, 4: 1}, {2: 5, 8: 1}, {4: 25, 9: 2, 2: 1}, {8: 3, 5: 1}, {2: 2, 5: 1, 1: 1, 6: 1, 4: 1}, {2: 25, 6: 1, 8: 4, 4: 3, 9: 1, 3: 1}, {4: 1, 2: 1, 9: 1, 6: 1}, {6: 1}, {4: 1, 2: 3, 8: 2, 3: 1}, {2: 8, 8: 4, 4: 8, 6: 9, 9: 1}, {3: 13, 9: 10, 5: 1, 1: 2, 0: 3, 4: 1, 8: 1}, {6: 11, 2: 12, 8: 3, 0: 1, 3: 1, 5: 1}, {}, {6: 2, 0: 38, 9: 1, 4: 1, 8: 1}, {3: 8, 8: 1, 4: 2}, {8: 1, 2: 2, 5: 1, 3: 1, 0: 1, 4: 1}, {4: 1, 6: 1}, {1: 7, 7: 2, 4: 1, 3: 1, 9: 3, 6: 1, 5: 2, 8: 1}, {2: 26, 6: 48, 8: 10, 9: 2, 5: 2, 3: 1}, {9: 4, 8: 6, 3: 4, 0: 1, 4: 2}, {3: 2}, {5: 19, 3: 5, 0: 1}, {5: 4, 4: 7, 8: 1, 1: 1}, {8: 18, 6: 58, 5: 5, 2: 17, 4: 7, 1: 29, 3: 9}, {0: 4, 7: 1, 6: 2, 9: 1}, {6: 5, 3: 2, 2: 4, 8: 7}, {3: 3, 8: 2, 5: 2}, {9: 2, 8: 1, 5: 1, 0: 1}, {7: 225, 4: 50, 9: 10, 5: 49, 8: 7, 1: 1, 2: 1}, {8: 1, 5: 1}, {6: 5, 2: 12, 3: 1, 5: 1, 0: 1, 9: 3, 4: 1}, {4: 12, 7: 10, 5: 75, 2: 2, 9: 13, 6: 18, 8: 3, 0: 1, 1: 1}, {}, {0: 103, 4: 35, 6: 6, 2: 2, 5: 3, 9: 1, 8: 2}, {7: 3, 2: 2, 1: 4, 9: 3, 0: 2, 5: 1}, {2: 25, 3: 9, 8: 1, 5: 1, 7: 2}, {3: 88, 7: 19, 5: 21, 8: 53, 2: 7, 9: 6}, {8: 7, 2: 1, 3: 4}, {4: 25, 8: 1, 9: 1, 2: 3, 3: 1, 7: 1}, {4: 23, 6: 4, 2: 14, 9: 27, 8: 3, 7: 25, 3: 7, 0: 1, 5: 1}, {0: 74, 5: 53, 3: 2, 6: 8, 1: 1}, {8: 1}, {1: 18, 7: 3, 8: 18, 3: 3, 4: 3, 2: 2, 5: 1}, {7: 39, 5: 17, 9: 1, 4: 2, 8: 2}, {2: 1, 8: 2}, {3: 4, 4: 1, 2: 1, 0: 2}, {}, {2: 4, 5: 1, 6: 1, 8: 5, 9: 1}, {5: 2}, {8: 1, 3: 40, 5: 3, 9: 1, 4: 1}, {9: 111, 4: 10, 7: 6, 5: 1, 3: 1}, {0: 48, 9: 2, 5: 3, 3: 1}, {5: 16, 3: 145, 2: 8, 7: 10, 4: 1, 8: 3}, {3: 11, 8: 10, 2: 1}, {5: 1}, {6: 24, 5: 1, 3: 11, 9: 1, 2: 1, 0: 1}, {7: 11, 2: 53, 9: 3, 1: 1, 0: 1, 6: 1, 4: 1}, {8: 3, 2: 1, 5: 1}, {4: 2, 5: 1, 2: 1, 6: 2}, {7: 3, 6: 1, 4: 11, 9: 3, 8: 3, 5: 2, 3: 1}, {0: 3, 2: 2, 5: 5, 8: 2}, {2: 1, 6: 5, 4: 1, 8: 1}, {4: 2, 2: 1}, {3: 7, 2: 41, 5: 4, 0: 2, 6: 2, 8: 1, 1: 1}, {8: 50, 2: 334, 1: 6, 5: 5, 6: 5, 3: 10, 7: 1, 9: 1}, {9: 6, 7: 5, 2: 3, 4: 1}, {3: 213, 4: 139, 7: 96, 9: 62, 5: 8, 8: 20, 2: 19}, {9: 40, 7: 7, 3: 1, 4: 4, 8: 4, 6: 2, 2: 1}, {2: 4, 3: 51, 8: 2, 5: 2, 7: 2}, {9: 4, 6: 5, 2: 7}, {8: 8}, {5: 2}, {2: 2, 8: 20, 6: 2, 5: 2}, {5: 98, 3: 36, 8: 5}, {7: 1, 8: 7, 2: 18, 9: 4, 4: 11, 3: 3, 6: 3}, {1: 131, 8: 59, 5: 15, 4: 6, 7: 6, 9: 22, 3: 4, 6: 1}, {8: 5, 4: 2}, {7: 45, 2: 4, 4: 5, 6: 3}, {2: 1}, {8: 2}, {8: 15, 7: 2}, {3: 6, 9: 7, 5: 9, 4: 3, 8: 4, 7: 1}, {3: 11, 7: 18, 4: 1, 5: 4, 8: 2, 9: 1}, {8: 29, 5: 7, 3: 4, 2: 4}, {5: 3, 2: 1}, {7: 1}, {4: 1}, {8: 20}, {6: 449, 9: 1, 2: 13, 0: 5, 4: 2, 3: 2, 5: 3, 7: 1}, {}, {5: 3}, {5: 2, 2: 3, 9: 1}, {5: 1, 8: 2, 2: 1, 9: 1}, {2: 1}, {6: 2, 8: 2, 2: 2, 5: 3}, {5: 6, 6: 3, 0: 5}, {0: 8, 6: 8, 2: 10, 4: 1, 8: 2, 3: 1, 5: 1}, {0: 8, 8: 6, 5: 3, 9: 1, 4: 1}, {8: 7, 3: 2, 9: 2, 2: 1}, {8: 3, 4: 1, 9: 1}, {2: 2}, {0: 4, 9: 1}, {2: 2, 8: 1}, {7: 30, 2: 4, 9: 37, 8: 1, 4: 1}, {8: 15, 3: 4, 2: 2}, {2: 134, 4: 6, 6: 11, 8: 3, 9: 3, 0: 2, 3: 2}, {2: 33, 5: 8, 6: 27, 4: 7, 3: 1, 9: 1}, {5: 16, 9: 12, 8: 3, 4: 2, 3: 4}, {5: 5, 8: 27, 9: 38, 4: 16, 3: 14, 2: 5, 6: 4, 1: 1, 7: 1}, {8: 29, 5: 10, 3: 41, 2: 2}, {4: 103, 9: 17, 8: 1}, {9: 86, 4: 9, 2: 2, 5: 3, 7: 2, 8: 4}, {0: 2, 4: 1, 8: 1}, {7: 235, 4: 17, 5: 5, 2: 13, 9: 5, 1: 2}, {2: 62, 3: 1, 8: 1, 7: 1, 6: 1}, {3: 38, 8: 22, 7: 5, 1: 1, 9: 4, 4: 1, 2: 1, 5: 3}, {2: 1, 3: 1}, {7: 9, 1: 7, 8: 3, 4: 1}, {4: 50, 7: 28, 5: 4, 2: 1, 3: 6}, {8: 6, 3: 8, 5: 1, 0: 1}, {4: 18, 7: 133, 5: 2, 9: 12, 8: 1, 2: 1}, {6: 37, 0: 4, 3: 2, 4: 1}, {8: 1, 5: 1}, {7: 232, 9: 66, 4: 10, 8: 26, 3: 10, 5: 2}, {6: 56, 9: 4, 2: 5, 7: 2, 4: 5, 5: 1, 0: 1}, {7: 32, 9: 4, 0: 6, 8: 6, 5: 3}, {3: 4, 8: 1, 7: 2}, {8: 29, 5: 5, 3: 1, 0: 1}, {}, {4: 18, 8: 3, 6: 2}, {6: 1, 9: 1, 1: 2, 8: 1}, {8: 2}, {9: 17, 7: 4, 8: 3, 4: 1}, {2: 1, 8: 5}, {3: 46, 5: 75, 4: 2, 9: 5, 8: 1}, {6: 24, 5: 8, 3: 3, 2: 3}, {2: 3, 4: 1, 9: 1, 5: 2, 3: 1, 8: 1}, {8: 5, 2: 15, 3: 2, 1: 1}, {6: 243, 0: 16, 2: 5, 5: 4}, {5: 12, 3: 24, 6: 21, 0: 4, 2: 19, 8: 3}, {9: 98, 7: 47, 4: 10, 1: 1}, {8: 12, 5: 13, 7: 1, 0: 2, 9: 3, 2: 2, 3: 1}, {8: 4, 9: 1, 2: 1, 4: 2}, {2: 8, 4: 5, 7: 1, 9: 1, 6: 1}, {3: 31, 8: 2, 2: 13, 0: 14, 5: 10}, {5: 4, 6: 5, 3: 1, 2: 2}, {}, {6: 5, 7: 7, 8: 3, 9: 3, 3: 3, 2: 4}, {5: 19, 7: 1, 0: 1, 3: 2, 8: 1}, {5: 17, 7: 1, 8: 1}, {5: 1}, {7: 1, 6: 14, 9: 3, 5: 3, 0: 1}, {8: 3, 7: 2, 3: 1}, {8: 41, 5: 32, 3: 11, 9: 1}, {9: 1, 3: 6}, {9: 76, 4: 4, 7: 19, 0: 1, 2: 1, 8: 2, 3: 1, 5: 1}, {4: 76, 9: 64, 7: 7, 6: 19, 2: 15, 8: 2, 0: 6, 5: 5}, {8: 33, 2: 15, 0: 2, 5: 2, 3: 1}, {3: 38, 8: 9, 5: 1, 2: 1, 1: 1, 9: 1}, {3: 3, 2: 11}, {7: 6, 8: 5, 2: 7, 3: 1}, {2: 4, 7: 1, 8: 1}, {1: 1, 3: 1, 2: 2, 7: 2}, {3: 1, 2: 2, 7: 1, 9: 2, 4: 1}, {9: 3, 4: 53, 5: 8, 7: 7, 8: 1}, {9: 16, 0: 2, 4: 1}, {3: 50, 5: 31, 6: 6, 4: 9, 9: 5, 8: 7, 2: 1, 1: 1}, {9: 3, 8: 19, 5: 29, 3: 3, 4: 1}, {2: 1, 6: 1, 7: 1, 5: 1}, {0: 2, 2: 2, 8: 3, 3: 5, 5: 1}, {8: 17, 5: 14, 7: 23, 4: 5, 2: 2, 9: 1, 3: 1}, {2: 3, 7: 2, 8: 1}, {8: 5, 2: 3}, {9: 16, 2: 14, 6: 11, 8: 12, 1: 2, 7: 13, 5: 3, 4: 2, 3: 4}, {2: 3, 4: 2, 8: 2}, {0: 22, 5: 2, 2: 8, 9: 2, 3: 4, 8: 2, 4: 3}, {3: 21, 5: 4, 8: 8, 1: 1, 9: 1}, {5: 10, 4: 4, 7: 10, 9: 4, 8: 1, 6: 1}, {3: 3, 8: 3, 2: 1}, {5: 45, 9: 68, 4: 46, 7: 5, 8: 1}, {}, {7: 1, 4: 4, 8: 1, 6: 2, 9: 1}, {4: 14, 9: 11, 5: 1, 7: 4, 6: 1}, {5: 5, 8: 6, 4: 3, 1: 3, 7: 2}, {7: 2}, {7: 3, 9: 7, 4: 3}, {3: 18, 4: 1, 9: 3, 8: 3, 7: 1, 2: 1, 5: 1}, {2: 2, 1: 1, 8: 2, 6: 4, 3: 1, 5: 1}, {9: 17, 2: 1, 8: 1, 7: 1, 4: 3}, {3: 38, 8: 25, 6: 13, 5: 14, 0: 2, 9: 1, 4: 1}, {9: 3, 4: 1, 5: 2, 6: 1}, {0: 72, 3: 44, 2: 14, 7: 11, 5: 6, 6: 1, 9: 1, 8: 1}, {9: 12, 2: 15, 0: 7, 6: 3, 4: 23, 8: 1, 5: 1}, {3: 17, 8: 3, 5: 5, 2: 3, 1: 1}, {2: 44, 8: 2}, {8: 2, 6: 1, 0: 1}, {7: 63, 9: 177, 4: 5, 2: 1, 8: 4, 5: 7, 0: 1, 3: 2}, {8: 7, 4: 5, 6: 1, 9: 1, 2: 1, 5: 1}, {5: 12, 0: 4}, {9: 37, 7: 28, 3: 2, 8: 1}, {6: 10, 2: 1}, {7: 170, 4: 26, 9: 46, 0: 14, 5: 3}, {3: 1}, {3: 1}, {}, {3: 14, 9: 2, 8: 35, 7: 3, 2: 3, 1: 4, 6: 1}, {7: 30, 9: 7, 2: 1, 4: 2, 8: 1}, {6: 7, 0: 121, 3: 12, 5: 5, 9: 1}, {8: 9, 5: 2}, {2: 1, 4: 7}, {5: 18, 1: 3, 6: 6, 2: 22, 8: 4, 4: 2, 3: 2}, {9: 2, 8: 1}, {2: 2, 7: 3, 5: 1, 9: 1}, {0: 228, 2: 9, 4: 19, 6: 68, 9: 11, 5: 6, 8: 2}, {6: 24, 5: 9, 4: 24, 3: 5, 2: 14, 9: 1, 0: 7}, {4: 12, 9: 1, 5: 1, 6: 1, 2: 1}, {8: 34, 4: 2, 9: 1, 5: 2}, {5: 30, 7: 96, 3: 15, 9: 86, 8: 27, 0: 4}, {6: 5, 5: 3, 4: 2, 9: 3}, {8: 14, 2: 7, 3: 1, 1: 2, 7: 1}, {8: 2, 6: 3, 5: 1, 2: 3}, {2: 28, 8: 3, 3: 3, 5: 1, 7: 1}, {2: 1, 6: 1}, {4: 9, 5: 1, 8: 4}, {9: 6, 2: 13, 0: 9, 6: 7, 4: 8, 3: 5}, {5: 5, 0: 7, 8: 7, 2: 1, 3: 4, 6: 1}, {1: 33, 9: 9, 2: 7, 4: 6, 6: 1, 7: 3}, {9: 1, 7: 1}, {2: 5, 8: 6, 1: 1, 3: 2}, {8: 2, 3: 3, 2: 3}, {5: 1, 8: 1, 2: 1, 6: 1}, {7: 86, 5: 3, 3: 3, 9: 2, 8: 6, 4: 2, 2: 1}, {5: 18, 3: 57, 6: 3, 8: 141, 9: 3, 1: 1}, {}, {8: 6, 9: 13, 3: 3, 7: 4, 2: 1}, {}, {4: 25, 5: 52, 3: 3, 7: 12, 0: 10, 8: 3, 2: 2, 9: 2}, {7: 7, 9: 4, 5: 2, 4: 5, 0: 1, 6: 1}, {5: 11, 6: 108, 7: 6, 4: 9, 0: 3, 8: 2, 3: 1, 9: 1}, {8: 4, 5: 1}, {5: 13, 4: 2, 1: 1}, {3: 6, 6: 6, 5: 5, 2: 3, 0: 7, 8: 8, 4: 2}, {7: 1, 3: 1, 5: 1}, {8: 1, 2: 2}, {5: 24, 1: 8, 8: 1}, {6: 516, 8: 17, 2: 5, 5: 4, 3: 2}, {6: 1, 9: 14, 4: 5, 7: 6, 8: 1}, {9: 8, 5: 21, 8: 10, 4: 1, 6: 8}, {3: 30, 0: 54, 8: 22, 5: 15, 2: 1}, {2: 3, 5: 1}, {3: 4, 6: 1, 2: 1}, {4: 26, 9: 2, 3: 1}, {3: 38, 2: 5, 5: 11, 8: 5, 6: 1}, {0: 14, 8: 3, 2: 11, 5: 16, 6: 4, 3: 5, 4: 1}, {9: 19, 6: 1, 4: 3, 8: 1}, {9: 1}, {8: 1, 2: 15, 6: 6, 3: 2}, {3: 38, 7: 109, 9: 86, 2: 32, 8: 18, 5: 6, 0: 4, 4: 1}, {8: 2, 5: 1, 4: 1}, {5: 29, 4: 1, 8: 1, 9: 1}, {2: 2}, {7: 43, 8: 3, 5: 4, 4: 2, 9: 6}, {6: 7, 2: 1, 4: 1}, {4: 2, 8: 14, 5: 22, 9: 9, 3: 2, 7: 1, 2: 1}, {8: 9, 0: 21, 9: 6, 6: 3, 5: 9, 4: 13}, {9: 146, 4: 171, 7: 38, 6: 1, 2: 2, 1: 1, 8: 2, 5: 1, 3: 1}, {4: 3, 9: 1}, {2: 9, 8: 3}, {2: 1}, {5: 3, 4: 1, 2: 1}, {5: 13, 8: 3, 2: 4, 6: 3, 7: 3, 1: 1}, {4: 23, 9: 3, 5: 2, 7: 2, 0: 1}, {6: 22, 4: 4, 2: 1, 0: 1}, {8: 103, 3: 5, 5: 22, 2: 3, 4: 1, 9: 2}, {4: 51, 9: 11, 2: 51, 7: 6}, {6: 11, 5: 2, 3: 8, 2: 7, 4: 2, 1: 7, 8: 6, 9: 2, 0: 1}, {0: 48, 6: 7, 8: 1, 7: 3, 9: 3, 4: 7, 2: 2, 3: 1}, {8: 27, 0: 4, 6: 21, 9: 1, 4: 4, 5: 15, 3: 1, 2: 5}, {8: 1, 9: 1, 7: 1}, {2: 2, 8: 3, 7: 2}, {3: 17, 8: 7, 6: 2, 2: 1}, {4: 7, 9: 2}, {1: 330, 5: 8, 6: 3, 3: 6, 7: 4, 9: 1, 8: 2, 2: 3}, {3: 4, 6: 7, 2: 5, 8: 13, 5: 3}, {5: 3, 9: 3, 0: 5, 8: 6, 2: 2}, {3: 38, 8: 4, 5: 7, 9: 7, 4: 2}, {0: 150, 3: 5, 5: 3, 8: 2}, {8: 11, 6: 13, 4: 7, 5: 5, 0: 2, 2: 3, 9: 1}, {0: 5, 7: 7, 5: 10, 8: 1, 6: 1}, {6: 178, 0: 30, 4: 20, 8: 2, 5: 1}, {3: 4}, {9: 30, 7: 1, 4: 3, 8: 1}, {5: 3, 3: 12, 4: 12, 8: 8, 6: 2, 2: 6, 0: 1, 9: 1}, {5: 1, 8: 3}, {8: 7, 5: 27, 6: 1, 9: 8}, {4: 2, 0: 20, 6: 57}, {7: 12, 5: 3, 2: 6, 8: 5, 9: 2, 4: 9, 3: 13, 6: 5, 1: 2}, {5: 6, 0: 3, 3: 1}, {3: 1, 6: 7, 2: 2, 5: 1}, {}, {9: 7, 2: 1}, {8: 3, 3: 12, 1: 1, 6: 12, 5: 7, 2: 2, 7: 1}, {4: 5, 2: 2, 8: 1, 5: 2, 0: 1}, {8: 13, 2: 3, 4: 1, 9: 1, 3: 1}, {4: 4, 7: 1, 8: 1}, {8: 5, 3: 1}, {7: 48, 3: 10, 2: 20, 5: 8, 9: 4, 1: 1, 6: 2, 8: 1, 4: 1}, {8: 9, 5: 1, 4: 1, 0: 1, 6: 1, 2: 1}, {9: 36, 8: 5, 5: 3, 7: 3, 2: 2}, {5: 1, 8: 2}, {4: 13, 8: 2, 6: 1, 0: 1, 7: 1}, {5: 2, 2: 1, 8: 2, 4: 1}, {2: 1}, {5: 2, 8: 1}, {2: 5, 4: 5, 3: 5, 9: 14, 6: 6, 1: 4, 8: 20, 7: 8}, {8: 18, 6: 18, 0: 13, 5: 10, 3: 1, 4: 1}, {4: 7, 7: 4, 9: 15, 6: 3, 8: 3}, {3: 44, 5: 1, 6: 27, 8: 8, 4: 1}, {8: 1, 6: 12, 2: 2}, {5: 37, 3: 12, 8: 1, 4: 1}, {2: 4, 0: 3, 3: 1}, {2: 7}, {}, {3: 46, 0: 98, 8: 5, 5: 5, 7: 3, 9: 2, 2: 2}, {6: 15, 2: 19, 1: 1}, {6: 47, 8: 14, 5: 7, 3: 1, 4: 1, 2: 2}, {3: 8, 4: 2, 5: 5, 0: 1, 7: 3, 6: 1}, {4: 35, 2: 13, 9: 3, 3: 1}, {2: 9, 9: 1, 5: 4, 7: 4, 8: 3, 1: 1, 3: 1}, {9: 8, 5: 2, 7: 3, 2: 1, 4: 1}, {7: 5, 5: 3, 4: 7, 8: 4, 9: 8, 3: 3, 0: 1}, {4: 2, 6: 4, 2: 3, 1: 1}, {2: 21, 1: 11, 8: 15, 4: 1, 7: 5}, {2: 30, 4: 1, 8: 2}, {6: 20, 5: 1, 1: 17, 2: 4, 9: 2, 7: 1, 4: 1, 8: 1}, {9: 11, 8: 7, 5: 6, 4: 1, 3: 5}, {0: 13, 2: 5, 6: 3}, {2: 1}, {4: 1, 9: 2}, {3: 18, 5: 1, 0: 1}, {8: 42, 2: 6, 5: 4, 3: 2}, {5: 1, 9: 2, 7: 4}, {7: 127, 2: 1, 1: 4, 9: 1}, {0: 2, 7: 1, 9: 5, 2: 3, 8: 2}, {4: 1}, {3: 22, 5: 24, 9: 18, 8: 57, 0: 1}, {7: 15, 8: 3, 9: 1}, {4: 7, 8: 21, 2: 3, 9: 4}, {8: 5, 2: 2}, {6: 6}, {2: 3, 3: 5, 4: 1, 8: 3, 5: 2}, {0: 125, 7: 7, 6: 2, 3: 1, 5: 3, 8: 1}, {8: 13, 9: 4, 5: 12, 0: 3}, {3: 1, 4: 1}, {6: 4, 4: 1, 2: 1, 3: 1}, {2: 13, 4: 5, 3: 2, 6: 13, 5: 6, 9: 1, 8: 2, 7: 1}, {5: 4, 6: 15, 4: 3, 2: 7, 8: 4, 7: 8}, {2: 7, 9: 1, 3: 4, 8: 5, 5: 1}, {7: 4, 8: 1}, {3: 1, 4: 14, 6: 1, 7: 1}, {3: 4, 2: 1}, {2: 5, 6: 36, 4: 14, 9: 3, 5: 1, 8: 1}, {6: 28, 0: 2, 4: 9, 5: 1, 3: 1, 8: 1}, {}, {2: 8, 4: 5, 0: 1}, {7: 10, 4: 10, 2: 2, 9: 1, 0: 5}, {6: 33, 8: 6, 4: 10, 0: 24, 5: 2, 2: 1}, {3: 7, 5: 9, 2: 1}, {7: 2, 5: 19, 8: 3, 4: 4}, {2: 382, 6: 35, 1: 1, 8: 2, 7: 3, 3: 3, 4: 3, 9: 1}, {7: 2, 3: 1}, {9: 18, 8: 2, 4: 4}, {8: 56, 2: 6, 3: 1, 5: 1}, {}, {5: 2, 3: 7}, {3: 21, 8: 13, 6: 4, 7: 13, 4: 3}, {3: 9, 9: 1, 2: 2, 4: 1, 5: 4}, {5: 25, 3: 2, 8: 10, 2: 1, 0: 1, 6: 1}, {0: 20, 7: 3, 6: 5, 5: 7, 3: 1}, {2: 1, 4: 3, 7: 5, 8: 3, 9: 1}, {2: 19, 9: 14, 4: 3, 3: 1}, {9: 79, 4: 17, 7: 4, 5: 5, 8: 1}, {6: 109, 5: 1, 2: 2, 4: 2}, {0: 46, 6: 2, 5: 5, 8: 1}, {3: 22, 0: 2, 5: 2, 8: 1, 2: 2}]\n"
          ]
        }
      ],
      "source": [
        "print(list_of_dicts)"
      ]
    },
    {
      "cell_type": "code",
      "execution_count": null,
      "metadata": {
        "id": "HIFoiyfv8bQD"
      },
      "outputs": [],
      "source": []
    }
  ],
  "metadata": {
    "colab": {
      "provenance": [],
      "gpuType": "T4"
    },
    "kaggle": {
      "accelerator": "gpu",
      "dataSources": [],
      "dockerImageVersionId": 31011,
      "isGpuEnabled": true,
      "isInternetEnabled": true,
      "language": "python",
      "sourceType": "notebook"
    },
    "kernelspec": {
      "display_name": "Python 3",
      "name": "python3"
    },
    "language_info": {
      "codemirror_mode": {
        "name": "ipython",
        "version": 3
      },
      "file_extension": ".py",
      "mimetype": "text/x-python",
      "name": "python",
      "nbconvert_exporter": "python",
      "pygments_lexer": "ipython3",
      "version": "3.11.11"
    },
    "accelerator": "GPU"
  },
  "nbformat": 4,
  "nbformat_minor": 0
}