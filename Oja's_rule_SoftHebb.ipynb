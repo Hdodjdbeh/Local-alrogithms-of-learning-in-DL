{
 "cells": [
  {
   "cell_type": "markdown",
   "metadata": {},
   "source": [
    "## Загрузка даталоадеров для MNIST"
   ]
  },
  {
   "cell_type": "code",
   "execution_count": 1,
   "metadata": {
    "_cell_guid": "b1076dfc-b9ad-4769-8c92-a6c4dae69d19",
    "_uuid": "8f2839f25d086af736a60e9eeb907d3b93b6e0e5",
    "execution": {
     "iopub.execute_input": "2025-05-10T19:38:22.198700Z",
     "iopub.status.busy": "2025-05-10T19:38:22.198443Z",
     "iopub.status.idle": "2025-05-10T19:38:36.554088Z",
     "shell.execute_reply": "2025-05-10T19:38:36.553433Z",
     "shell.execute_reply.started": "2025-05-10T19:38:22.198677Z"
    }
   },
   "outputs": [
    {
     "name": "stdout",
     "output_type": "stream",
     "text": [
      "Downloading http://yann.lecun.com/exdb/mnist/train-images-idx3-ubyte.gz\n",
      "Failed to download (trying next):\n",
      "HTTP Error 404: Not Found\n",
      "\n",
      "Downloading https://ossci-datasets.s3.amazonaws.com/mnist/train-images-idx3-ubyte.gz\n",
      "Downloading https://ossci-datasets.s3.amazonaws.com/mnist/train-images-idx3-ubyte.gz to ./data/MNIST/raw/train-images-idx3-ubyte.gz\n"
     ]
    },
    {
     "name": "stderr",
     "output_type": "stream",
     "text": [
      "100%|██████████| 9.91M/9.91M [00:00<00:00, 12.8MB/s]\n"
     ]
    },
    {
     "name": "stdout",
     "output_type": "stream",
     "text": [
      "Extracting ./data/MNIST/raw/train-images-idx3-ubyte.gz to ./data/MNIST/raw\n",
      "\n",
      "Downloading http://yann.lecun.com/exdb/mnist/train-labels-idx1-ubyte.gz\n",
      "Failed to download (trying next):\n",
      "HTTP Error 404: Not Found\n",
      "\n",
      "Downloading https://ossci-datasets.s3.amazonaws.com/mnist/train-labels-idx1-ubyte.gz\n",
      "Downloading https://ossci-datasets.s3.amazonaws.com/mnist/train-labels-idx1-ubyte.gz to ./data/MNIST/raw/train-labels-idx1-ubyte.gz\n"
     ]
    },
    {
     "name": "stderr",
     "output_type": "stream",
     "text": [
      "100%|██████████| 28.9k/28.9k [00:00<00:00, 344kB/s]\n"
     ]
    },
    {
     "name": "stdout",
     "output_type": "stream",
     "text": [
      "Extracting ./data/MNIST/raw/train-labels-idx1-ubyte.gz to ./data/MNIST/raw\n",
      "\n",
      "Downloading http://yann.lecun.com/exdb/mnist/t10k-images-idx3-ubyte.gz\n",
      "Failed to download (trying next):\n",
      "HTTP Error 404: Not Found\n",
      "\n",
      "Downloading https://ossci-datasets.s3.amazonaws.com/mnist/t10k-images-idx3-ubyte.gz\n",
      "Downloading https://ossci-datasets.s3.amazonaws.com/mnist/t10k-images-idx3-ubyte.gz to ./data/MNIST/raw/t10k-images-idx3-ubyte.gz\n"
     ]
    },
    {
     "name": "stderr",
     "output_type": "stream",
     "text": [
      "100%|██████████| 1.65M/1.65M [00:00<00:00, 3.18MB/s]\n"
     ]
    },
    {
     "name": "stdout",
     "output_type": "stream",
     "text": [
      "Extracting ./data/MNIST/raw/t10k-images-idx3-ubyte.gz to ./data/MNIST/raw\n",
      "\n",
      "Downloading http://yann.lecun.com/exdb/mnist/t10k-labels-idx1-ubyte.gz\n",
      "Failed to download (trying next):\n",
      "HTTP Error 404: Not Found\n",
      "\n",
      "Downloading https://ossci-datasets.s3.amazonaws.com/mnist/t10k-labels-idx1-ubyte.gz\n",
      "Downloading https://ossci-datasets.s3.amazonaws.com/mnist/t10k-labels-idx1-ubyte.gz to ./data/MNIST/raw/t10k-labels-idx1-ubyte.gz\n"
     ]
    },
    {
     "name": "stderr",
     "output_type": "stream",
     "text": [
      "100%|██████████| 4.54k/4.54k [00:00<00:00, 6.81MB/s]\n"
     ]
    },
    {
     "name": "stdout",
     "output_type": "stream",
     "text": [
      "Extracting ./data/MNIST/raw/t10k-labels-idx1-ubyte.gz to ./data/MNIST/raw\n",
      "\n"
     ]
    }
   ],
   "source": [
    "import torch\n",
    "import torchvision\n",
    "import torchvision.transforms as transforms\n",
    "import numpy as np\n",
    "DATA_FLATTEN_SHAPE = 784\n",
    "\n",
    "class MNISTDataLoader:\n",
    "    def __init__(self, batch_size=64, num_workers=0, subset_size=None):\n",
    "        self.batch_size = batch_size\n",
    "        self.num_workers = num_workers\n",
    "        self.transform = transforms.Compose([\n",
    "            transforms.ToTensor(),\n",
    "            transforms.Normalize((0.5,), (0.5,))\n",
    "        ])\n",
    "        \n",
    "        # Train dataset\n",
    "        self.train_dataset = torchvision.datasets.MNIST(\n",
    "            root='./data', \n",
    "            train=True, \n",
    "            download=True, \n",
    "            transform=self.transform\n",
    "        )\n",
    "        \n",
    "        # Test dataset\n",
    "        self.test_dataset = torchvision.datasets.MNIST(\n",
    "            root='./data',\n",
    "            train=False,\n",
    "            download=True,\n",
    "            transform=self.transform\n",
    "        )\n",
    "        \n",
    "        # Apply subset if needed\n",
    "        if subset_size is not None:\n",
    "            self.train_dataset = torch.utils.data.Subset(self.train_dataset, range(subset_size))\n",
    "            self.test_dataset = torch.utils.data.Subset(self.test_dataset, range(subset_size))\n",
    "        \n",
    "        # DataLoaders\n",
    "        self.train_loader = torch.utils.data.DataLoader(\n",
    "            self.train_dataset,\n",
    "            batch_size=self.batch_size,\n",
    "            shuffle=True,\n",
    "            num_workers=self.num_workers\n",
    "        )\n",
    "        \n",
    "        self.test_loader = torch.utils.data.DataLoader(\n",
    "            self.test_dataset,\n",
    "            batch_size=self.batch_size,\n",
    "            shuffle=False,  # Обычно тестовые данные не перемешивают\n",
    "            num_workers=self.num_workers\n",
    "        )\n",
    "\n",
    "    def get_train_loader(self):\n",
    "        return self.train_loader\n",
    "    \n",
    "    def get_test_loader(self):\n",
    "        return self.test_loader\n",
    "\n",
    "# Пример использования\n",
    "SUBSET_SIZE = 60000\n",
    "data_loader = MNISTDataLoader(batch_size=1, subset_size=SUBSET_SIZE)\n",
    "test_dataloader = MNISTDataLoader(batch_size=1, subset_size=10000)\n",
    "\n",
    "\n",
    "\n",
    "\n",
    "train_loader = data_loader.get_train_loader()\n",
    "test_loader = test_dataloader.get_test_loader() "
   ]
  },
  {
   "cell_type": "markdown",
   "metadata": {},
   "source": [
    "## Классы метода SoftHebb для обучения популяции нейронов локальными (не градиентными) методами [https://arxiv.org/abs/2107.05747, https://arxiv.org/abs/2209.11883] и слоя нейронной сети в качестве классификатора"
   ]
  },
  {
   "cell_type": "code",
   "execution_count": 2,
   "metadata": {
    "execution": {
     "iopub.execute_input": "2025-05-07T16:45:12.514666Z",
     "iopub.status.busy": "2025-05-07T16:45:12.514034Z",
     "iopub.status.idle": "2025-05-07T16:45:16.621296Z",
     "shell.execute_reply": "2025-05-07T16:45:16.620497Z",
     "shell.execute_reply.started": "2025-05-07T16:45:12.514636Z"
    }
   },
   "outputs": [],
   "source": [
    "import torch\n",
    "import torch.nn as nn\n",
    "import torch.optim as optim\n",
    "from tqdm import tqdm\n",
    "import torch.nn.functional as F\n",
    "\n",
    "class SingleLayerNet(nn.Module):\n",
    "    def __init__(self):\n",
    "        super().__init__()\n",
    "        self.fc = nn.Linear(2000, 10)  \n",
    "\n",
    "    def forward(self, x):\n",
    "        x = x.view(-1, 2000)  \n",
    "        return self.fc(x)\n",
    "\n",
    "class Layer:\n",
    "    def __init__(self, num_neuron, num_synapses, eta, base, device, lr_decay=\"exp\", w_ch1=[], w_ch2=[], bias=[]):\n",
    "        self.num_neuron = num_neuron\n",
    "        self.num_synapses = num_synapses\n",
    "        self.neurons = []\n",
    "        self.eta = eta.reshape(-1,1).to(device)\n",
    "        self.w_ch1 = w_ch1\n",
    "        self.w_ch2 = w_ch2\n",
    "        self.bias = bias\n",
    "        self.device = device\n",
    "        self.lr_decay = lr_decay\n",
    "        self.eta_0 = self.eta\n",
    "        self.W = (0.3*torch.randn((num_synapses, num_neuron))).to(device)\n",
    "        self.y_get = []\n",
    "        self.b_get = []\n",
    "        self.b = torch.zeros((num_neuron,1), device = self.device)\n",
    "        self.dicts = [{} for i in range(self.num_neuron)]\n",
    "        self.base = base\n",
    "\n",
    "    def get_weights(self):\n",
    "        return self.W\n",
    "\n",
    "    def get_bias(self):\n",
    "        return self.b\n",
    "\n",
    "    def get_vote(self):\n",
    "        return self.dicts\n",
    "\n",
    "    def voting_of_neurons(self, x, label):\n",
    "\n",
    "        u = torch.zeros((self.num_neuron, 1), device=self.device)  # взвешенные суммы нейронов\n",
    "        y = torch.zeros((self.num_neuron, 1), device=self.device)  # активации нейронов\n",
    "        x = x / torch.linalg.norm(x)\n",
    "        x = torch.reshape(x, (-1, 1))\n",
    "        y = torch.reshape(y, (-1, 1))\n",
    "        u = torch.reshape(u, (-1, 1))\n",
    "        u = self.W.T @ x\n",
    "        y = self.base ** (u + self.b) / torch.sum(self.base ** (u + self.b))\n",
    "        label = label.item()\n",
    "        max_activ = torch.argmax(y)  # .to(\"cpu\").numpy() # возвращаем индекс наиболее активного нейрона\n",
    "        self.dicts[max_activ][label] = self.dicts[max_activ].get(label, 0) + 1\n",
    "\n",
    "    def get_predict(self, x):\n",
    "\n",
    "        u = torch.zeros((self.num_neuron, 1), device=self.device)  # взвешенные суммы нейронов\n",
    "        y = torch.zeros((self.num_neuron, 1), device=self.device)  # активации нейронов\n",
    "        x = x / torch.linalg.norm(x)\n",
    "        x = torch.reshape(x, (-1, 1))\n",
    "        u = self.W.T @ x\n",
    "        y = self.base ** (u + self.b) / torch.sum(self.base ** (u + self.b))\n",
    "        a = torch.argmax(y)\n",
    "        if (self.dicts[a]):\n",
    "            label = max(self.dicts[a], key=self.dicts[a].get)  # Находим ключ с максимальным значением\n",
    "        else:\n",
    "            label = -1\n",
    "        return label\n",
    "\n",
    "    def train(self, x):\n",
    "        \n",
    "        u = torch.zeros((self.num_neuron, 1), device=self.device)  # взвешенные суммы нейронов\n",
    "        y = torch.zeros((self.num_neuron, 1), device=self.device)  # активации нейронов\n",
    "        x = x / torch.linalg.norm(x)\n",
    "        x = torch.reshape(x, (-1, 1))\n",
    "        y = torch.reshape(y, (-1, 1))\n",
    "        u = torch.reshape(u, (-1, 1))\n",
    "\n",
    "        u = self.W.T @ x\n",
    "        \n",
    "        # --- старые вычисления\n",
    "        y = self.base ** (u + self.b) / torch.sum(self.base ** (u + self.b))\n",
    "        # для графиков ///////////////////////////////////////\n",
    "        self.y_get.append(y)\n",
    "     \n",
    "        term1 = self.eta.T * (x @ y.T)  # [num_synapses, num_neuron]\n",
    "        term2 = self.eta.T * self.W * (u.T * y.T)  # [num_synapses, num_neuron]\n",
    "        delta_W = term1-term2\n",
    "        self.W = self.W + delta_W\n",
    "       \n",
    "        # для графиков ///////////////////////////\n",
    "        self.b_get.append(self.b)\n",
    "        # self.b = torch.clamp(self.b, min=0.1, max=16)  # Защита от переполнения\n",
    "        \n",
    "    def get_activations(self, x):\n",
    "        u = torch.zeros((self.num_neuron, 1), device=self.device)  # взвешенные суммы нейронов\n",
    "        y = torch.zeros((self.num_neuron, 1), device=self.device)  # активации нейронов\n",
    "        x = x / torch.linalg.norm(x)\n",
    "        x = torch.reshape(x, (-1, 1))\n",
    "        y = torch.reshape(y, (-1, 1))\n",
    "        u = torch.reshape(u, (-1, 1))\n",
    "        u = self.W.T @ x\n",
    "        y = self.base ** (u + self.b) / torch.sum(self.base ** (u + self.b))\n",
    "\n",
    "        return y\n",
    "    def w_plt1(self):\n",
    "        return self.w_ch1\n",
    "\n",
    "    def w_plt2(self):\n",
    "        return self.w_ch2\n",
    "\n",
    "    def y_get(self):\n",
    "        return self.y_get\n",
    "        \n",
    "    def b_get(self):\n",
    "        return self.b_get\n",
    "\n",
    "    def w_plt2(self):\n",
    "        return self.w_ch2  \n",
    "        \n",
    "    def lr_update(self):\n",
    "        norm = torch.linalg.norm(self.W, axis = 0, keepdims = True).reshape(-1,1)\n",
    "        nc = 1e-10\n",
    "        self.eta = (self.eta_0 * (pow(torch.abs(norm - torch.ones_like(norm)), 2))+nc).reshape(-1,1)"
   ]
  },
  {
   "cell_type": "markdown",
   "metadata": {},
   "source": [
    "# Сначала обучим 3 эпохи на SoftHebb а затем дообучим на классификаторе"
   ]
  },
  {
   "cell_type": "code",
   "execution_count": 66,
   "metadata": {
    "execution": {
     "iopub.execute_input": "2025-05-07T15:19:15.194764Z",
     "iopub.status.busy": "2025-05-07T15:19:15.194066Z",
     "iopub.status.idle": "2025-05-07T15:19:27.180760Z",
     "shell.execute_reply": "2025-05-07T15:19:27.179820Z",
     "shell.execute_reply.started": "2025-05-07T15:19:15.194741Z"
    }
   },
   "outputs": [
    {
     "name": "stderr",
     "output_type": "stream",
     "text": [
      "Номер эпохи:   0%|          | 0/3 [00:00<?, ?it/s]"
     ]
    },
    {
     "name": "stdout",
     "output_type": "stream",
     "text": [
      "tensor(8.3946, device='cuda:0')\n",
      "tensor(nan, device='cuda:0')\n"
     ]
    },
    {
     "name": "stderr",
     "output_type": "stream",
     "text": [
      "Номер эпохи:   0%|          | 0/3 [00:11<?, ?it/s]\n"
     ]
    },
    {
     "ename": "KeyboardInterrupt",
     "evalue": "",
     "output_type": "error",
     "traceback": [
      "\u001b[0;31m---------------------------------------------------------------------------\u001b[0m",
      "\u001b[0;31mKeyboardInterrupt\u001b[0m                         Traceback (most recent call last)",
      "\u001b[0;32m/tmp/ipykernel_31/1550381882.py\u001b[0m in \u001b[0;36m<cell line: 0>\u001b[0;34m()\u001b[0m\n\u001b[1;32m     28\u001b[0m         \u001b[0mimg\u001b[0m \u001b[0;34m=\u001b[0m \u001b[0mtorch\u001b[0m\u001b[0;34m.\u001b[0m\u001b[0msqueeze\u001b[0m\u001b[0;34m(\u001b[0m\u001b[0mimg\u001b[0m\u001b[0;34m)\u001b[0m\u001b[0;34m.\u001b[0m\u001b[0mto\u001b[0m\u001b[0;34m(\u001b[0m\u001b[0mdevice\u001b[0m\u001b[0;34m)\u001b[0m  \u001b[0;31m# Перемещаем изображение на устройство\u001b[0m\u001b[0;34m\u001b[0m\u001b[0;34m\u001b[0m\u001b[0m\n\u001b[1;32m     29\u001b[0m         \u001b[0mimg\u001b[0m \u001b[0;34m=\u001b[0m \u001b[0mimg\u001b[0m\u001b[0;34m.\u001b[0m\u001b[0mreshape\u001b[0m\u001b[0;34m(\u001b[0m\u001b[0;34m-\u001b[0m\u001b[0;36m1\u001b[0m\u001b[0;34m)\u001b[0m  \u001b[0;31m# Преобразуем в одномерный тензор\u001b[0m\u001b[0;34m\u001b[0m\u001b[0;34m\u001b[0m\u001b[0m\n\u001b[0;32m---> 30\u001b[0;31m         \u001b[0my\u001b[0m \u001b[0;34m=\u001b[0m \u001b[0mlayer\u001b[0m\u001b[0;34m.\u001b[0m\u001b[0mtrain\u001b[0m\u001b[0;34m(\u001b[0m\u001b[0mimg\u001b[0m\u001b[0;34m)\u001b[0m\u001b[0;34m\u001b[0m\u001b[0;34m\u001b[0m\u001b[0m\n\u001b[0m\u001b[1;32m     31\u001b[0m         \u001b[0;31m# layer.lr_update()\u001b[0m\u001b[0;34m\u001b[0m\u001b[0;34m\u001b[0m\u001b[0m\n\u001b[1;32m     32\u001b[0m         \u001b[0;31m# if(i%1 == 0):\u001b[0m\u001b[0;34m\u001b[0m\u001b[0;34m\u001b[0m\u001b[0m\n",
      "\u001b[0;32m/tmp/ipykernel_31/3759022207.py\u001b[0m in \u001b[0;36mtrain\u001b[0;34m(self, x)\u001b[0m\n\u001b[1;32m     85\u001b[0m         \u001b[0my\u001b[0m \u001b[0;34m=\u001b[0m \u001b[0mtorch\u001b[0m\u001b[0;34m.\u001b[0m\u001b[0mzeros\u001b[0m\u001b[0;34m(\u001b[0m\u001b[0;34m(\u001b[0m\u001b[0mself\u001b[0m\u001b[0;34m.\u001b[0m\u001b[0mnum_neuron\u001b[0m\u001b[0;34m,\u001b[0m \u001b[0;36m1\u001b[0m\u001b[0;34m)\u001b[0m\u001b[0;34m,\u001b[0m \u001b[0mdevice\u001b[0m\u001b[0;34m=\u001b[0m\u001b[0mself\u001b[0m\u001b[0;34m.\u001b[0m\u001b[0mdevice\u001b[0m\u001b[0;34m)\u001b[0m  \u001b[0;31m# активации нейронов\u001b[0m\u001b[0;34m\u001b[0m\u001b[0;34m\u001b[0m\u001b[0m\n\u001b[1;32m     86\u001b[0m         \u001b[0mx\u001b[0m \u001b[0;34m=\u001b[0m \u001b[0mx\u001b[0m \u001b[0;34m/\u001b[0m \u001b[0mtorch\u001b[0m\u001b[0;34m.\u001b[0m\u001b[0mlinalg\u001b[0m\u001b[0;34m.\u001b[0m\u001b[0mnorm\u001b[0m\u001b[0;34m(\u001b[0m\u001b[0mx\u001b[0m\u001b[0;34m)\u001b[0m\u001b[0;34m\u001b[0m\u001b[0;34m\u001b[0m\u001b[0m\n\u001b[0;32m---> 87\u001b[0;31m         \u001b[0mx\u001b[0m \u001b[0;34m=\u001b[0m \u001b[0mtorch\u001b[0m\u001b[0;34m.\u001b[0m\u001b[0mreshape\u001b[0m\u001b[0;34m(\u001b[0m\u001b[0mx\u001b[0m\u001b[0;34m,\u001b[0m \u001b[0;34m(\u001b[0m\u001b[0;34m-\u001b[0m\u001b[0;36m1\u001b[0m\u001b[0;34m,\u001b[0m \u001b[0;36m1\u001b[0m\u001b[0;34m)\u001b[0m\u001b[0;34m)\u001b[0m\u001b[0;34m\u001b[0m\u001b[0;34m\u001b[0m\u001b[0m\n\u001b[0m\u001b[1;32m     88\u001b[0m         \u001b[0my\u001b[0m \u001b[0;34m=\u001b[0m \u001b[0mtorch\u001b[0m\u001b[0;34m.\u001b[0m\u001b[0mreshape\u001b[0m\u001b[0;34m(\u001b[0m\u001b[0my\u001b[0m\u001b[0;34m,\u001b[0m \u001b[0;34m(\u001b[0m\u001b[0;34m-\u001b[0m\u001b[0;36m1\u001b[0m\u001b[0;34m,\u001b[0m \u001b[0;36m1\u001b[0m\u001b[0;34m)\u001b[0m\u001b[0;34m)\u001b[0m\u001b[0;34m\u001b[0m\u001b[0;34m\u001b[0m\u001b[0m\n\u001b[1;32m     89\u001b[0m         \u001b[0mu\u001b[0m \u001b[0;34m=\u001b[0m \u001b[0mtorch\u001b[0m\u001b[0;34m.\u001b[0m\u001b[0mreshape\u001b[0m\u001b[0;34m(\u001b[0m\u001b[0mu\u001b[0m\u001b[0;34m,\u001b[0m \u001b[0;34m(\u001b[0m\u001b[0;34m-\u001b[0m\u001b[0;36m1\u001b[0m\u001b[0;34m,\u001b[0m \u001b[0;36m1\u001b[0m\u001b[0;34m)\u001b[0m\u001b[0;34m)\u001b[0m\u001b[0;34m\u001b[0m\u001b[0;34m\u001b[0m\u001b[0m\n",
      "\u001b[0;31mKeyboardInterrupt\u001b[0m: "
     ]
    }
   ],
   "source": [
    "from tqdm import tqdm\n",
    "import torch\n",
    "import torch.nn as nn\n",
    "import torch.optim as optim\n",
    "from torchvision import datasets, transforms\n",
    "\n",
    "num_neuron = 2000\n",
    "num_synapses = DATA_FLATTEN_SHAPE\n",
    "eta = 0.7 * torch.ones(num_neuron)\n",
    "\n",
    "\n",
    "device = torch.device(\"cuda\" if torch.cuda.is_available() else \"cpu\")\n",
    "model = SingleLayerNet()\n",
    "model.to(device)\n",
    "criterion = nn.CrossEntropyLoss()\n",
    "optimizer = optim.Adam(model.parameters(), lr=0.001)\n",
    "layer = Layer(num_neuron, num_synapses, eta, base = 200.0, device = device, lr_decay = \"None\")\n",
    "norms = []\n",
    "preds = []\n",
    "num_epochs = 3\n",
    "num_epochs_classifier_head = 0\n",
    "cnt = 0 \n",
    "eps = 0.01\n",
    "metrics = []\n",
    "losses = []\n",
    "for _ in tqdm(range(num_epochs), desc = \"Номер эпохи\"):\n",
    "    for i, (img, label) in enumerate(train_loader):\n",
    "        img = torch.squeeze(img).to(device)  # Перемещаем изображение на устройство\n",
    "        img = img.reshape(-1)  # Преобразуем в одномерный тензор\n",
    "        y = layer.train(img)\n",
    "        layer.lr_update()\n",
    "        if(i % 10000 == 0):\n",
    "            norms.append(torch.linalg.norm(layer.get_weights(), axis = 0).mean())\n",
    "\n",
    "\n",
    "for _ in tqdm(range(num_epochs_classifier_head), desc = \"Номер эпохи\"):\n",
    "    for i, (img, label) in enumerate(train_loader):\n",
    "        img = torch.squeeze(img).to(device) \n",
    "        label = label.to(device)\n",
    "        img = img.reshape(-1)  \n",
    "        y = layer.get_activations(img)\n",
    "        y = y/torch.linalg.norm(y)\n",
    "        optimizer.zero_grad()\n",
    "        output = model(y)\n",
    "        loss = criterion(output, label)\n",
    "        loss.backward()\n",
    "        optimizer.step()\n",
    "        \n",
    "    model.eval()\n",
    "    test_loss = 0\n",
    "    correct = 0\n",
    "    with torch.no_grad():\n",
    "        for i, (img, label) in enumerate(test_loader):\n",
    "            img = torch.squeeze(img).to(device) \n",
    "            label = label.to(device)\n",
    "            img = img.reshape(-1) \n",
    "            y = layer.get_activations(img)\n",
    "            y = y/torch.linalg.norm(y)\n",
    "            output = model(y)\n",
    "            test_loss += criterion(output, label).item()\n",
    "            pred = output.argmax(dim = 1, keepdims = True)\n",
    "            correct += pred.eq(label.view_as(pred)).sum().item()\n",
    "\n",
    "   \n",
    "    test_loss /= len(test_loader)\n",
    "    accuracy = 100. * correct / len(test_loader.dataset)\n",
    "    metrics.append(accuracy)\n",
    "    losses.append(test_loss)\n",
    "    print(f'\\nTest set: Average loss: {test_loss:.4f}, Accuracy: {correct}/{len(test_loader.dataset)} ({accuracy:.2f}%)\\n')\n",
    "    \n",
    "for img, label in train_loader:\n",
    "    img = torch.squeeze(img).to(device)\n",
    "    img = img.reshape(-1)\n",
    "    layer.voting_of_neurons(img,label)\n",
    "\n",
    "list_of_dicts = layer.get_vote() # выводит результаты голосования нейронов "
   ]
  },
  {
   "cell_type": "markdown",
   "metadata": {},
   "source": [
    "# Активации нейронов во время голосования нейронов с адаптивным шагом обучения"
   ]
  },
  {
   "cell_type": "code",
   "execution_count": 40,
   "metadata": {
    "execution": {
     "iopub.execute_input": "2025-05-07T13:58:49.720698Z",
     "iopub.status.busy": "2025-05-07T13:58:49.720382Z",
     "iopub.status.idle": "2025-05-07T13:58:49.725176Z",
     "shell.execute_reply": "2025-05-07T13:58:49.724324Z",
     "shell.execute_reply.started": "2025-05-07T13:58:49.720680Z"
    }
   },
   "outputs": [],
   "source": [
    "import numpy as np\n",
    "import matplotlib.pyplot as plt\n",
    "amount_of_neurons = 50\n",
    "list_of_dicts = list_of_dicts[0:amount_of_neurons]\n",
    "matrix = np.zeros((amount_of_neurons, 10), dtype=int)\n",
    "for i, row_dict in enumerate(list_of_dicts):\n",
    "    for col, value in row_dict.items():\n",
    "        matrix[i, col] = value\n",
    "        \n",
    "\n"
   ]
  },
  {
   "cell_type": "code",
   "execution_count": 41,
   "metadata": {
    "execution": {
     "iopub.execute_input": "2025-05-07T13:58:49.726059Z",
     "iopub.status.busy": "2025-05-07T13:58:49.725883Z",
     "iopub.status.idle": "2025-05-07T13:58:49.893779Z",
     "shell.execute_reply": "2025-05-07T13:58:49.892982Z",
     "shell.execute_reply.started": "2025-05-07T13:58:49.726045Z"
    }
   },
   "outputs": [
    {
     "data": {
      "image/png": "[encoded data removed]",
      "text/plain": [
       "<Figure size 1200x600 with 1 Axes>"
      ]
     },
     "metadata": {},
     "output_type": "display_data"
    }
   ],
   "source": [
    "import matplotlib.pyplot as plt\n",
    "\n",
    "plt.figure(figsize=(12, 6))  # Размер графика, можно изменить\n",
    "plt.spy(matrix, markersize=1)  # markersize отвечает за размер точек\n",
    "\n",
    "plt.xlabel('Номер класса')\n",
    "plt.ylabel('Номер нейрона')\n",
    "plt.title('Активации нейронов на этапе голосования')\n",
    "plt.show()\n"
   ]
  },
  {
   "cell_type": "code",
   "execution_count": 42,
   "metadata": {
    "execution": {
     "iopub.execute_input": "2025-05-07T13:58:49.895853Z",
     "iopub.status.busy": "2025-05-07T13:58:49.895441Z",
     "iopub.status.idle": "2025-05-07T14:00:13.965129Z",
     "shell.execute_reply": "2025-05-07T14:00:13.964527Z",
     "shell.execute_reply.started": "2025-05-07T13:58:49.895834Z"
    }
   },
   "outputs": [
    {
     "name": "stderr",
     "output_type": "stream",
     "text": [
      "Номер эпохи:   0%|          | 0/1 [00:00<?, ?it/s]"
     ]
    },
    {
     "name": "stdout",
     "output_type": "stream",
     "text": [
      "tensor(8.4004, device='cuda:0')\n",
      "tensor(6.1138, device='cuda:0')\n",
      "tensor(5.2609, device='cuda:0')\n",
      "tensor(4.7353, device='cuda:0')\n",
      "tensor(4.3559, device='cuda:0')\n",
      "tensor(4.0947, device='cuda:0')\n"
     ]
    },
    {
     "name": "stderr",
     "output_type": "stream",
     "text": [
      "Номер эпохи: 100%|██████████| 1/1 [00:43<00:00, 43.80s/it]\n",
      "Номер эпохи: 0it [00:00, ?it/s]\n"
     ]
    }
   ],
   "source": [
    "from tqdm import tqdm\n",
    "import torch\n",
    "import torch.nn as nn\n",
    "import torch.optim as optim\n",
    "from torchvision import datasets, transforms\n",
    "\n",
    "num_neuron = 2000\n",
    "num_synapses = DATA_FLATTEN_SHAPE\n",
    "eta = 0.3 * torch.ones(num_neuron)\n",
    "\n",
    "\n",
    "device = torch.device(\"cuda\" if torch.cuda.is_available() else \"cpu\")\n",
    "model = SingleLayerNet()\n",
    "model.to(device)\n",
    "criterion = nn.CrossEntropyLoss()\n",
    "optimizer = optim.Adam(model.parameters(), lr=0.001)\n",
    "layer = Layer(num_neuron, num_synapses, eta, base = 200.0, device = device, lr_decay = \"None\")\n",
    "norms = []\n",
    "preds = []\n",
    "num_epochs = 1\n",
    "num_epochs_classifier_head = 0\n",
    "cnt = 0 \n",
    "eps = 0.01\n",
    "metrics = []\n",
    "losses = []\n",
    "for _ in tqdm(range(num_epochs), desc = \"Номер эпохи\"):\n",
    "    for i, (img, label) in enumerate(train_loader):\n",
    "        img = torch.squeeze(img).to(device)  # Перемещаем изображение на устройство\n",
    "        img = img.reshape(-1)  # Преобразуем в одномерный тензор\n",
    "        y = layer.train(img)\n",
    "    \n",
    "        if(i % 10000 == 0):\n",
    "            norms.append(torch.linalg.norm(layer.get_weights(), axis = 0).mean())\n",
    "            print(torch.linalg.norm(layer.get_weights(), axis = 0).mean())\n",
    "\n",
    "\n",
    "for _ in tqdm(range(num_epochs_classifier_head), desc = \"Номер эпохи\"):\n",
    "    for i, (img, label) in enumerate(train_loader):\n",
    "        img = torch.squeeze(img).to(device) \n",
    "        label = label.to(device)\n",
    "        img = img.reshape(-1)  \n",
    "        y = layer.get_activations(img)\n",
    "        y = y/torch.linalg.norm(y)\n",
    "        optimizer.zero_grad()\n",
    "        output = model(y)\n",
    "        loss = criterion(output, label)\n",
    "        loss.backward()\n",
    "        optimizer.step()\n",
    "        \n",
    "    model.eval()\n",
    "    test_loss = 0\n",
    "    correct = 0\n",
    "    with torch.no_grad():\n",
    "        for i, (img, label) in enumerate(test_loader):\n",
    "            img = torch.squeeze(img).to(device) \n",
    "            label = label.to(device)\n",
    "            img = img.reshape(-1) \n",
    "            y = layer.get_activations(img)\n",
    "            y = y/torch.linalg.norm(y)\n",
    "            output = model(y)\n",
    "            test_loss += criterion(output, label).item()\n",
    "            pred = output.argmax(dim = 1, keepdims = True)\n",
    "            correct += pred.eq(label.view_as(pred)).sum().item()\n",
    "\n",
    "   \n",
    "    test_loss /= len(test_loader)\n",
    "    accuracy = 100. * correct / len(test_loader.dataset)\n",
    "    metrics.append(accuracy)\n",
    "    losses.append(test_loss)\n",
    "    print(f'\\nTest set: Average loss: {test_loss:.4f}, Accuracy: {correct}/{len(test_loader.dataset)} ({accuracy:.2f}%)\\n')\n",
    "    \n",
    "for img, label in train_loader:\n",
    "    img = torch.squeeze(img).to(device)\n",
    "    img = img.reshape(-1)\n",
    "    layer.voting_of_neurons(img,label)\n",
    "\n",
    "\n",
    "list_of_dicts = layer.get_vote() # выводит результаты голосования нейронов "
   ]
  },
  {
   "cell_type": "markdown",
   "metadata": {},
   "source": [
    "# Активации нейронов во время голосования нейронов с фиксированным шагом обучения"
   ]
  },
  {
   "cell_type": "code",
   "execution_count": 43,
   "metadata": {
    "execution": {
     "iopub.execute_input": "2025-05-07T14:00:13.966018Z",
     "iopub.status.busy": "2025-05-07T14:00:13.965828Z",
     "iopub.status.idle": "2025-05-07T14:00:13.970407Z",
     "shell.execute_reply": "2025-05-07T14:00:13.969761Z",
     "shell.execute_reply.started": "2025-05-07T14:00:13.966004Z"
    }
   },
   "outputs": [],
   "source": [
    "import numpy as np\n",
    "import matplotlib.pyplot as plt\n",
    "amount_of_neurons = 50\n",
    "list_of_dicts = list_of_dicts[0:amount_of_neurons]\n",
    "matrix = np.zeros((amount_of_neurons, 10), dtype=int)\n",
    "for i, row_dict in enumerate(list_of_dicts):\n",
    "    for col, value in row_dict.items():\n",
    "        matrix[i, col] = value\n",
    "        \n",
    "\n"
   ]
  },
  {
   "cell_type": "code",
   "execution_count": 44,
   "metadata": {
    "execution": {
     "iopub.execute_input": "2025-05-07T14:00:13.971249Z",
     "iopub.status.busy": "2025-05-07T14:00:13.971066Z",
     "iopub.status.idle": "2025-05-07T14:00:14.164005Z",
     "shell.execute_reply": "2025-05-07T14:00:14.163357Z",
     "shell.execute_reply.started": "2025-05-07T14:00:13.971235Z"
    }
   },
   "outputs": [
    {
     "data": {
      "image/png": "[encoded data removed]",
      "text/plain": [
       "<Figure size 1200x600 with 1 Axes>"
      ]
     },
     "metadata": {},
     "output_type": "display_data"
    }
   ],
   "source": [
    "import matplotlib.pyplot as plt\n",
    "\n",
    "plt.figure(figsize=(12, 6))  # Размер графика, можно изменить\n",
    "plt.spy(matrix, markersize=1)  # markersize отвечает за размер точек\n",
    "\n",
    "plt.xlabel('Номер класса')\n",
    "plt.ylabel('Номер нейрона')\n",
    "plt.title('Активации нейронов на этапе голосования')\n",
    "plt.show()\n"
   ]
  },
  {
   "cell_type": "code",
   "execution_count": 36,
   "metadata": {
    "execution": {
     "iopub.execute_input": "2025-05-06T21:14:49.612376Z",
     "iopub.status.busy": "2025-05-06T21:14:49.611802Z",
     "iopub.status.idle": "2025-05-06T21:15:32.434964Z",
     "shell.execute_reply": "2025-05-06T21:15:32.434356Z",
     "shell.execute_reply.started": "2025-05-06T21:14:49.612352Z"
    }
   },
   "outputs": [],
   "source": [
    "y = layer.y_get\n",
    "b = layer.b_get\n",
    "\n",
    "\n",
    "y = np.array([[t.item() for t in row] for row in y])  # shape (2000, 1000)\n",
    "b = np.array([[t.item() for t in row] for row in b])  # shape (2000, 1000)\n",
    "y = y.reshape(num_neuron,SUBSET_SIZE)\n",
    "b = b.reshape(num_neuron, SUBSET_SIZE)"
   ]
  },
  {
   "cell_type": "markdown",
   "metadata": {},
   "source": [
    "## Графики активаций нейронов ($y_k$) в процессе обучения"
   ]
  },
  {
   "cell_type": "code",
   "execution_count": 37,
   "metadata": {
    "execution": {
     "iopub.execute_input": "2025-05-06T21:15:32.436459Z",
     "iopub.status.busy": "2025-05-06T21:15:32.436178Z",
     "iopub.status.idle": "2025-05-06T21:15:34.496688Z",
     "shell.execute_reply": "2025-05-06T21:15:34.495859Z",
     "shell.execute_reply.started": "2025-05-06T21:15:32.436435Z"
    }
   },
   "outputs": [
    {
     "data": {
      "image/png": "[encoded data removed]",
      "text/plain": [
       "<Figure size 1200x1200 with 16 Axes>"
      ]
     },
     "metadata": {},
     "output_type": "display_data"
    }
   ],
   "source": [
    "import matplotlib.pyplot as plt\n",
    "import numpy as np  \n",
    "\n",
    "fig, axes = plt.subplots(4, 4, figsize=(12, 12))\n",
    "\n",
    "for i, ax in enumerate(axes.flatten()):\n",
    "    row_data = y[i, :]  \n",
    "    ax.plot(row_data)   \n",
    "    ax.set_title(f'Row {i}', fontsize=10)\n",
    "    ax.set_xlabel('Index', fontsize=8)\n",
    "    ax.set_ylabel('Value', fontsize=8)\n",
    "\n",
    "plt.tight_layout()\n",
    "plt.show()"
   ]
  },
  {
   "cell_type": "markdown",
   "metadata": {},
   "source": [
    "## Визуализация весов нейронов после обучения (веса напоминают некоторые классы при этом учитывая еще и стиль написания и другие скрытые причины)"
   ]
  },
  {
   "cell_type": "code",
   "execution_count": null,
   "metadata": {
    "execution": {
     "iopub.execute_input": "2025-05-07T15:15:37.778627Z",
     "iopub.status.busy": "2025-05-07T15:15:37.778344Z",
     "iopub.status.idle": "2025-05-07T15:15:38.656878Z",
     "shell.execute_reply": "2025-05-07T15:15:38.656132Z",
     "shell.execute_reply.started": "2025-05-07T15:15:37.778604Z"
    }
   },
   "outputs": [],
   "source": [
    "import numpy as np\n",
    "import matplotlib.pyplot as plt\n",
    "\n",
    "\n",
    "fig, axes = plt.subplots(4, 4, figsize=(10, 10))\n",
    "weights = layer.get_weights().cpu()\n",
    "vmin, vmax = weights.min(), weights.max()\n",
    "\n",
    "for i, ax in enumerate(axes.flat):\n",
    "    if i < weights.shape[1]:  \n",
    "        img = weights[:, i].reshape(28, 28)\n",
    "        \n",
    "        im = ax.imshow(img, cmap='gray', vmin=vmin, vmax=vmax)\n",
    "        ax.set_title(f'Нейрон {i}')\n",
    "        ax.axis('off')  \n",
    "    else:\n",
    "        ax.axis('off')\n",
    "\n",
    "plt.tight_layout()\n",
    "plt.colorbar(im, ax=axes.ravel().tolist(), shrink=0.8)\n",
    "plt.show()\n"
   ]
  },
  {
   "cell_type": "code",
   "execution_count": null,
   "metadata": {
    "execution": {
     "iopub.execute_input": "2025-05-06T17:35:50.332253Z",
     "iopub.status.busy": "2025-05-06T17:35:50.331975Z",
     "iopub.status.idle": "2025-05-06T17:35:50.467551Z",
     "shell.execute_reply": "2025-05-06T17:35:50.466779Z",
     "shell.execute_reply.started": "2025-05-06T17:35:50.332230Z"
    }
   },
   "outputs": [],
   "source": [
    "import matplotlib.pyplot as plt\n",
    "\n",
    "plt.plot(losses, color='blue', linewidth=4)       \n",
    "plt.xlabel('Эпоха')     \n",
    "plt.ylabel('Значение функции потерь')      \n",
    "plt.title('График функции потерь классификатора')\n",
    "plt.grid(True)         \n",
    "plt.show() "
   ]
  },
  {
   "cell_type": "code",
   "execution_count": null,
   "metadata": {
    "execution": {
     "iopub.execute_input": "2025-05-06T17:35:50.469091Z",
     "iopub.status.busy": "2025-05-06T17:35:50.468878Z",
     "iopub.status.idle": "2025-05-06T17:35:50.603891Z",
     "shell.execute_reply": "2025-05-06T17:35:50.603148Z",
     "shell.execute_reply.started": "2025-05-06T17:35:50.469075Z"
    }
   },
   "outputs": [],
   "source": [
    "plt.plot(metrics, color = 'green', linewidth=4)        # Рисует график по значениям из списка losses\n",
    "plt.xlabel('Эпоха')     # Подпись оси X (обычно номер эпохи)\n",
    "plt.ylabel('Точность')      # Подпись оси Y (значение функции потерь)\n",
    "plt.title('График точности')\n",
    "plt.grid(True)          # Включает сетку для удобства чтения графика\n",
    "plt.show() "
   ]
  },
  {
   "cell_type": "code",
   "execution_count": 61,
   "metadata": {
    "execution": {
     "iopub.execute_input": "2025-05-07T15:15:38.657809Z",
     "iopub.status.busy": "2025-05-07T15:15:38.657611Z",
     "iopub.status.idle": "2025-05-07T15:15:38.812577Z",
     "shell.execute_reply": "2025-05-07T15:15:38.811796Z",
     "shell.execute_reply.started": "2025-05-07T15:15:38.657794Z"
    }
   },
   "outputs": [
    {
     "data": {
      "image/png": "[encoded data removed]",
      "text/plain": [
       "<Figure size 640x480 with 1 Axes>"
      ]
     },
     "metadata": {},
     "output_type": "display_data"
    }
   ],
   "source": [
    "\n",
    "norm1 = [norm.cpu().detach().numpy() for norm in norms]\n",
    "plt.plot(norm1, color = 'orange', marker = \"*\")       \n",
    "plt.xlabel('1/60 эпохи')     \n",
    "plt.ylabel('Значение средней нормы весов нейронов')    \n",
    "plt.title('График средних норм')\n",
    "plt.grid(True)         \n",
    "plt.show() "
   ]
  },
  {
   "cell_type": "markdown",
   "metadata": {},
   "source": [
    "## Полученные метрики на тестовых данных"
   ]
  },
  {
   "cell_type": "code",
   "execution_count": null,
   "metadata": {
    "execution": {
     "iopub.execute_input": "2025-05-07T15:15:38.814200Z",
     "iopub.status.busy": "2025-05-07T15:15:38.813988Z",
     "iopub.status.idle": "2025-05-07T15:15:48.164815Z",
     "shell.execute_reply": "2025-05-07T15:15:48.164024Z",
     "shell.execute_reply.started": "2025-05-07T15:15:38.814183Z"
    }
   },
   "outputs": [],
   "source": [
    "import numpy as np\n",
    "import torch\n",
    "import gc\n",
    "\n",
    "\n",
    "pred_labels = []\n",
    "true_labels = []\n",
    "\n",
    "for img, label in test_loader:\n",
    "    img = torch.squeeze(img).to(device)\n",
    "    img = img.reshape(-1)\n",
    "    true_labels.append(label)\n",
    "    pred_labels.append(layer.get_predict(img))\n",
    "\n",
    "\n",
    "\n",
    "from sklearn.metrics import accuracy_score, precision_score, recall_score, f1_score, confusion_matrix, classification_report\n",
    "\n",
    "\n",
    "\n",
    "accuracy = accuracy_score(true_labels, pred_labels)\n",
    "\n",
    "precision = precision_score(true_labels, pred_labels, average='weighted')\n",
    "\n",
    "recall = recall_score(true_labels, pred_labels, average='weighted')\n",
    "\n",
    "f1 = f1_score(true_labels, pred_labels, average='weighted')\n",
    "\n",
    "conf_matrix = confusion_matrix(true_labels, pred_labels)\n",
    "\n",
    "\n",
    "accuracy = accuracy_score(true_labels, pred_labels)\n",
    "\n",
    "f1 = f1_score(true_labels, pred_labels, average='weighted')\n",
    "\n",
    "conf_matrix = confusion_matrix(true_labels, pred_labels)\n",
    "\n",
    "classification_rep = classification_report(true_labels, pred_labels)\n",
    "\n",
    "print(f\"Accuracy: {accuracy:.4f}\")\n",
    "print(f\"Precision: {precision:.4f}\")\n",
    "print(f\"Recall: {recall:.4f}\")\n",
    "print(f\"F1-score: {f1:.4f}\")\n",
    "print(\"\\nConfusion Matrix:\")\n",
    "print(conf_matrix)\n",
    "print(\"\\nClassification Report:\")\n",
    "print(classification_rep)\n"
   ]
  },
  {
   "cell_type": "code",
   "execution_count": null,
   "metadata": {},
   "outputs": [],
   "source": [
    "import numpy as np\n",
    "import matplotlib.pyplot as plt\n",
    "\n",
    "# Предположим, что weights - ваша матрица весов размером (784, 2000)\n",
    "# weights = np.load('my_weights.npy')  # Закомментируйте, если переменная уже определена\n",
    "\n",
    "# Создаем сетку для визуализации, например 4×4 нейрона\n",
    "fig, axes = plt.subplots(4, 4, figsize=(10, 10))\n",
    "weights = layer.get_weights().cpu()\n",
    "# Найдем глобальные min и max для одинакового масштаба всех изображений\n",
    "vmin, vmax = weights.min(), weights.max()\n",
    "\n",
    "# Визуализируем первые 16 нейронов (можно изменить индексы для просмотра других)\n",
    "for i, ax in enumerate(axes.flat):\n",
    "    if i < weights.shape[1]:  # Проверка, что индекс не выходит за границы\n",
    "        # Преобразуем веса i-го нейрона в изображение 28×28\n",
    "        img = weights[:, i].reshape(28, 28)\n",
    "        \n",
    "        # Визуализируем изображение\n",
    "        im = ax.imshow(img, cmap='gray', vmin=vmin, vmax=vmax)\n",
    "        ax.set_title(f'Нейрон {i}')\n",
    "        ax.axis('off')  # Отключаем оси\n",
    "    else:\n",
    "        ax.axis('off')\n",
    "\n",
    "plt.tight_layout()\n",
    "plt.colorbar(im, ax=axes.ravel().tolist(), shrink=0.8)\n",
    "plt.show()\n"
   ]
  },
  {
   "cell_type": "markdown",
   "metadata": {},
   "source": [
    "# Приавло Ойи и затем классификация/кластеризация c помощью SoftHebb и head_classifier. Используем Oja's rule(W_oja) как PCA перед обучением на основном пайплайне. "
   ]
  },
  {
   "cell_type": "code",
   "execution_count": 2,
   "metadata": {
    "execution": {
     "iopub.execute_input": "2025-05-10T19:38:45.413424Z",
     "iopub.status.busy": "2025-05-10T19:38:45.412970Z",
     "iopub.status.idle": "2025-05-10T19:55:07.728006Z",
     "shell.execute_reply": "2025-05-10T19:55:07.727312Z",
     "shell.execute_reply.started": "2025-05-10T19:38:45.413402Z"
    }
   },
   "outputs": [
    {
     "name": "stderr",
     "output_type": "stream",
     "text": [
      "Номер эпохи: 100%|██████████| 30/30 [16:22<00:00, 32.73s/it]\n"
     ]
    }
   ],
   "source": [
    "from tqdm import tqdm\n",
    "import torch\n",
    "import torch.nn as nn\n",
    "import torch.optim as optim\n",
    "from torchvision import datasets, transforms\n",
    "\n",
    "n_components = 400\n",
    "num_epochs_oj = 30\n",
    "MNIST_SHAPE = 784\n",
    "eta_oja = 0.01\n",
    "device = \"cuda\"\n",
    "W_oja = 0.01*torch.randn((MNIST_SHAPE, n_components), device = device)\n",
    "for _ in tqdm(range(num_epochs_oj), desc = \"Номер эпохи\"):\n",
    "    for i, (img, label) in enumerate(train_loader):\n",
    "        img = torch.squeeze(img).to(device)  # Перемещаем изображение на устройство\n",
    "        img = img.reshape(-1,1)  # Преобразуем в одномерный тензор\n",
    "        x = img/torch.linalg.norm(img)\n",
    "        y = W_oja.T @ x\n",
    "        delta_W = eta_oja * (x @ y.T - W_oja @ (y @ y.T))\n",
    "        W_oja += delta_W\n",
    "    # Нормировка весов\n",
    "    W_oja = W_oja / torch.linalg.norm(W_oja, axis=0)   \n",
    "\n",
    "\n"
   ]
  },
  {
   "cell_type": "code",
   "execution_count": 3,
   "metadata": {
    "execution": {
     "iopub.execute_input": "2025-05-10T19:55:07.729389Z",
     "iopub.status.busy": "2025-05-10T19:55:07.729165Z",
     "iopub.status.idle": "2025-05-10T19:55:07.748717Z",
     "shell.execute_reply": "2025-05-10T19:55:07.748115Z",
     "shell.execute_reply.started": "2025-05-10T19:55:07.729373Z"
    }
   },
   "outputs": [],
   "source": [
    "import torch\n",
    "import torch.nn as nn\n",
    "import torch.optim as optim\n",
    "from tqdm import tqdm\n",
    "import torch.nn.functional as F\n",
    "\n",
    "class SingleLayerNet(nn.Module):\n",
    "    def __init__(self, num_digits):\n",
    "        super().__init__()\n",
    "        self.num_digits = num_digits\n",
    "        self.fc = nn.Linear(self.num_digits, 10)  \n",
    "\n",
    "    def forward(self, x):\n",
    "        x = x.view(-1, self.num_digits)  \n",
    "        return self.fc(x)\n",
    "\n",
    "class Layer:\n",
    "    def __init__(self, num_neuron, num_synapses, eta, base, device, lr_decay=\"exp\", w_ch1=[], w_ch2=[], bias=[]):\n",
    "        self.num_neuron = num_neuron\n",
    "        self.num_synapses = num_synapses\n",
    "        self.neurons = []\n",
    "        self.eta = eta.reshape(-1,1).to(device)\n",
    "        self.w_ch1 = w_ch1\n",
    "        self.w_ch2 = w_ch2\n",
    "        self.bias = bias\n",
    "        self.device = device\n",
    "        self.lr_decay = lr_decay\n",
    "        self.eta_0 = self.eta\n",
    "        self.W = (0.3*torch.randn((num_synapses, num_neuron))).to(device)\n",
    "        self.y_get = []\n",
    "        self.b_get = []\n",
    "      \n",
    "        self.b = torch.zeros((num_neuron,1), device = self.device)\n",
    "        self.dicts = [{} for i in range(self.num_neuron)]\n",
    "        self.base = base\n",
    "\n",
    "\n",
    "    def get_weights(self):\n",
    "        return self.W\n",
    "\n",
    "    def get_bias(self):\n",
    "        return self.b\n",
    "\n",
    "    def get_vote(self):\n",
    "        return self.dicts\n",
    "\n",
    "    def voting_of_neurons(self, x, label):\n",
    "\n",
    "        u = torch.zeros((self.num_neuron, 1), device=self.device)  \n",
    "        y = torch.zeros((self.num_neuron, 1), device=self.device) \n",
    "        x = x / torch.linalg.norm(x)\n",
    "        x = torch.reshape(x, (-1, 1))\n",
    "        y = torch.reshape(y, (-1, 1))\n",
    "        u = torch.reshape(u, (-1, 1))\n",
    "        u = self.W.T @ x\n",
    "        y = self.base ** (u + self.b) / torch.sum(self.base ** (u + self.b))\n",
    "        label = label.item()\n",
    "        max_activ = torch.argmax(y) \n",
    "        self.dicts[max_activ][label] = self.dicts[max_activ].get(label, 0) + 1\n",
    "\n",
    "    def get_predict(self, x):\n",
    "\n",
    "        u = torch.zeros((self.num_neuron, 1), device=self.device) \n",
    "        y = torch.zeros((self.num_neuron, 1), device=self.device) \n",
    "        x = x / torch.linalg.norm(x)\n",
    "        x = torch.reshape(x, (-1, 1))\n",
    "        u = self.W.T @ x\n",
    "        y = self.base ** (u + self.b) / torch.sum(self.base ** (u + self.b))\n",
    "        a = torch.argmax(y)\n",
    "        if (self.dicts[a]):\n",
    "            label = max(self.dicts[a], key=self.dicts[a].get) \n",
    "        else:\n",
    "            label = -1\n",
    "        return label\n",
    "\n",
    "    def train(self, x):\n",
    "        \n",
    "        u = torch.zeros((self.num_neuron, 1), device=self.device)  \n",
    "        y = torch.zeros((self.num_neuron, 1), device=self.device) \n",
    "        x = x / torch.linalg.norm(x)\n",
    "        x = torch.reshape(x, (-1, 1))\n",
    "        y = torch.reshape(y, (-1, 1))\n",
    "        u = torch.reshape(u, (-1, 1))\n",
    "\n",
    "        u = self.W.T @ x\n",
    "       \n",
    "\n",
    "        y = self.base ** (u + self.b) / torch.sum(self.base ** (u + self.b))\n",
    "        # для графиков ///////////////////////////////////////\n",
    "        self.y_get.append(y)\n",
    "      \n",
    "        term1 = self.eta.T * (x @ y.T) \n",
    "        term2 = self.eta.T * self.W * (u.T * y.T)  \n",
    "        delta_W = term1-term2\n",
    "        self.W = self.W + delta_W\n",
    "       \n",
    "        # для графиков ///////////////////////////\n",
    "        self.b_get.append(self.b)\n",
    "       \n",
    "    def get_activations(self, x):\n",
    "        u = torch.zeros((self.num_neuron, 1), device=self.device) \n",
    "        y = torch.zeros((self.num_neuron, 1), device=self.device) \n",
    "        x = x / torch.linalg.norm(x)\n",
    "        x = torch.reshape(x, (-1, 1))\n",
    "        y = torch.reshape(y, (-1, 1))\n",
    "        u = torch.reshape(u, (-1, 1))\n",
    "\n",
    "        \n",
    "        u = self.W.T @ x\n",
    "        y = self.base ** (u + self.b) / torch.sum(self.base ** (u + self.b))\n",
    "       \n",
    "        \n",
    "        return y\n",
    "    def w_plt1(self):\n",
    "        return self.w_ch1\n",
    "\n",
    "    def w_plt2(self):\n",
    "        return self.w_ch2\n",
    "\n",
    "    def y_get(self):\n",
    "        return self.y_get\n",
    "        \n",
    "    def b_get(self):\n",
    "        return self.b_get\n",
    "\n",
    "    def w_plt2(self):\n",
    "        return self.w_ch2  \n",
    "        \n",
    "    def lr_update(self):\n",
    "        norm = torch.linalg.norm(self.W, axis = 0, keepdims = True).reshape(-1,1)\n",
    "        nc = 1e-10\n",
    "        self.eta = (self.eta_0 * (pow(torch.abs(norm - torch.ones_like(norm)), 2))+nc).reshape(-1,1)\n",
    "    def update_lr(self, t):\n",
    "        if(self.lr_decay == \"exp\"):\n",
    "            gamma_exp = 0.4\n",
    "            self.eta = self.eta_0*np.exp(-gamma_exp*t)\n",
    "            self.eta = torch.clip(self.eta, a_min = 0.0055, a_max = 1)\n",
    "        elif(self.lr_decay == \"linear\"):\n",
    "            gamma_lin = 0.95\n",
    "            self.eta = self.eta_0*(gamma_lin)**t\n",
    "            self.eta = torch.clip(self.eta, a_min = 0.0055, a_max = 1)\n",
    "        elif(self.lr_decay == \"None\"):\n",
    "            self.eta = self.eta\n"
   ]
  },
  {
   "cell_type": "code",
   "execution_count": 4,
   "metadata": {
    "execution": {
     "iopub.execute_input": "2025-05-10T19:55:07.749609Z",
     "iopub.status.busy": "2025-05-10T19:55:07.749353Z",
     "iopub.status.idle": "2025-05-10T22:50:37.285834Z",
     "shell.execute_reply": "2025-05-10T22:50:37.284871Z",
     "shell.execute_reply.started": "2025-05-10T19:55:07.749591Z"
    }
   },
   "outputs": [
    {
     "name": "stderr",
     "output_type": "stream",
     "text": [
      "Номер эпохи:   0%|          | 0/2 [00:00<?, ?it/s]"
     ]
    },
    {
     "name": "stdout",
     "output_type": "stream",
     "text": [
      "tensor(5.9947, device='cuda:0')\n",
      "tensor(1.9746, device='cuda:0')\n",
      "tensor(1.5690, device='cuda:0')\n",
      "tensor(1.3861, device='cuda:0')\n",
      "tensor(1.2949, device='cuda:0')\n",
      "tensor(1.2322, device='cuda:0')\n"
     ]
    },
    {
     "name": "stderr",
     "output_type": "stream",
     "text": [
      "Номер эпохи:  50%|█████     | 1/2 [00:54<00:54, 54.20s/it]"
     ]
    },
    {
     "name": "stdout",
     "output_type": "stream",
     "text": [
      "tensor(1.1922, device='cuda:0')\n",
      "tensor(1.1725, device='cuda:0')\n",
      "tensor(1.1612, device='cuda:0')\n",
      "tensor(1.1464, device='cuda:0')\n",
      "tensor(1.1386, device='cuda:0')\n",
      "tensor(1.1322, device='cuda:0')\n"
     ]
    },
    {
     "name": "stderr",
     "output_type": "stream",
     "text": [
      "Номер эпохи: 100%|██████████| 2/2 [01:47<00:00, 53.77s/it]\n",
      "Номер эпохи:   1%|          | 1/100 [01:44<2:52:46, 104.71s/it]"
     ]
    },
    {
     "name": "stdout",
     "output_type": "stream",
     "text": [
      "\n",
      "Test set: Average loss: 1.2271, Accuracy: 7762/10000 (77.62%)\n",
      "\n"
     ]
    },
    {
     "name": "stderr",
     "output_type": "stream",
     "text": [
      "Номер эпохи:   2%|▏         | 2/100 [03:28<2:50:35, 104.44s/it]"
     ]
    },
    {
     "name": "stdout",
     "output_type": "stream",
     "text": [
      "\n",
      "Test set: Average loss: 0.9050, Accuracy: 7934/10000 (79.34%)\n",
      "\n"
     ]
    },
    {
     "name": "stderr",
     "output_type": "stream",
     "text": [
      "Номер эпохи:   3%|▎         | 3/100 [05:12<2:48:32, 104.25s/it]"
     ]
    },
    {
     "name": "stdout",
     "output_type": "stream",
     "text": [
      "\n",
      "Test set: Average loss: 0.7284, Accuracy: 8332/10000 (83.32%)\n",
      "\n"
     ]
    },
    {
     "name": "stderr",
     "output_type": "stream",
     "text": [
      "Номер эпохи:   4%|▍         | 4/100 [06:59<2:47:56, 104.97s/it]"
     ]
    },
    {
     "name": "stdout",
     "output_type": "stream",
     "text": [
      "\n",
      "Test set: Average loss: 0.6349, Accuracy: 8470/10000 (84.70%)\n",
      "\n"
     ]
    },
    {
     "name": "stderr",
     "output_type": "stream",
     "text": [
      "Номер эпохи:   5%|▌         | 5/100 [08:45<2:47:14, 105.62s/it]"
     ]
    },
    {
     "name": "stdout",
     "output_type": "stream",
     "text": [
      "\n",
      "Test set: Average loss: 0.5790, Accuracy: 8581/10000 (85.81%)\n",
      "\n"
     ]
    },
    {
     "name": "stderr",
     "output_type": "stream",
     "text": [
      "Номер эпохи:   6%|▌         | 6/100 [10:30<2:45:10, 105.43s/it]"
     ]
    },
    {
     "name": "stdout",
     "output_type": "stream",
     "text": [
      "\n",
      "Test set: Average loss: 0.5436, Accuracy: 8646/10000 (86.46%)\n",
      "\n"
     ]
    },
    {
     "name": "stderr",
     "output_type": "stream",
     "text": [
      "Номер эпохи:   7%|▋         | 7/100 [12:15<2:42:56, 105.12s/it]"
     ]
    },
    {
     "name": "stdout",
     "output_type": "stream",
     "text": [
      "\n",
      "Test set: Average loss: 0.5290, Accuracy: 8540/10000 (85.40%)\n",
      "\n"
     ]
    },
    {
     "name": "stderr",
     "output_type": "stream",
     "text": [
      "Номер эпохи:   8%|▊         | 8/100 [14:00<2:41:10, 105.12s/it]"
     ]
    },
    {
     "name": "stdout",
     "output_type": "stream",
     "text": [
      "\n",
      "Test set: Average loss: 0.4912, Accuracy: 8705/10000 (87.05%)\n",
      "\n"
     ]
    },
    {
     "name": "stderr",
     "output_type": "stream",
     "text": [
      "Номер эпохи:   9%|▉         | 9/100 [15:46<2:40:04, 105.54s/it]"
     ]
    },
    {
     "name": "stdout",
     "output_type": "stream",
     "text": [
      "\n",
      "Test set: Average loss: 0.4728, Accuracy: 8755/10000 (87.55%)\n",
      "\n"
     ]
    },
    {
     "name": "stderr",
     "output_type": "stream",
     "text": [
      "Номер эпохи:  10%|█         | 10/100 [17:32<2:38:30, 105.68s/it]"
     ]
    },
    {
     "name": "stdout",
     "output_type": "stream",
     "text": [
      "\n",
      "Test set: Average loss: 0.4676, Accuracy: 8778/10000 (87.78%)\n",
      "\n"
     ]
    },
    {
     "name": "stderr",
     "output_type": "stream",
     "text": [
      "Номер эпохи:  11%|█         | 11/100 [19:17<2:36:24, 105.45s/it]"
     ]
    },
    {
     "name": "stdout",
     "output_type": "stream",
     "text": [
      "\n",
      "Test set: Average loss: 0.4642, Accuracy: 8722/10000 (87.22%)\n",
      "\n"
     ]
    },
    {
     "name": "stderr",
     "output_type": "stream",
     "text": [
      "Номер эпохи:  12%|█▏        | 12/100 [21:04<2:35:13, 105.84s/it]"
     ]
    },
    {
     "name": "stdout",
     "output_type": "stream",
     "text": [
      "\n",
      "Test set: Average loss: 0.4385, Accuracy: 8828/10000 (88.28%)\n",
      "\n"
     ]
    },
    {
     "name": "stderr",
     "output_type": "stream",
     "text": [
      "Номер эпохи:  13%|█▎        | 13/100 [22:51<2:33:52, 106.12s/it]"
     ]
    },
    {
     "name": "stdout",
     "output_type": "stream",
     "text": [
      "\n",
      "Test set: Average loss: 0.4217, Accuracy: 8870/10000 (88.70%)\n",
      "\n"
     ]
    },
    {
     "name": "stderr",
     "output_type": "stream",
     "text": [
      "Номер эпохи:  14%|█▍        | 14/100 [24:35<2:31:17, 105.55s/it]"
     ]
    },
    {
     "name": "stdout",
     "output_type": "stream",
     "text": [
      "\n",
      "Test set: Average loss: 0.4502, Accuracy: 8758/10000 (87.58%)\n",
      "\n"
     ]
    },
    {
     "name": "stderr",
     "output_type": "stream",
     "text": [
      "Номер эпохи:  15%|█▌        | 15/100 [26:19<2:28:45, 105.00s/it]"
     ]
    },
    {
     "name": "stdout",
     "output_type": "stream",
     "text": [
      "\n",
      "Test set: Average loss: 0.4269, Accuracy: 8805/10000 (88.05%)\n",
      "\n"
     ]
    },
    {
     "name": "stderr",
     "output_type": "stream",
     "text": [
      "Номер эпохи:  16%|█▌        | 16/100 [28:03<2:26:47, 104.85s/it]"
     ]
    },
    {
     "name": "stdout",
     "output_type": "stream",
     "text": [
      "\n",
      "Test set: Average loss: 0.4174, Accuracy: 8800/10000 (88.00%)\n",
      "\n"
     ]
    },
    {
     "name": "stderr",
     "output_type": "stream",
     "text": [
      "Номер эпохи:  17%|█▋        | 17/100 [29:48<2:24:49, 104.69s/it]"
     ]
    },
    {
     "name": "stdout",
     "output_type": "stream",
     "text": [
      "\n",
      "Test set: Average loss: 0.4005, Accuracy: 8869/10000 (88.69%)\n",
      "\n"
     ]
    },
    {
     "name": "stderr",
     "output_type": "stream",
     "text": [
      "Номер эпохи:  18%|█▊        | 18/100 [31:32<2:23:03, 104.68s/it]"
     ]
    },
    {
     "name": "stdout",
     "output_type": "stream",
     "text": [
      "\n",
      "Test set: Average loss: 0.3996, Accuracy: 8884/10000 (88.84%)\n",
      "\n"
     ]
    },
    {
     "name": "stderr",
     "output_type": "stream",
     "text": [
      "Номер эпохи:  19%|█▉        | 19/100 [33:17<2:21:07, 104.54s/it]"
     ]
    },
    {
     "name": "stdout",
     "output_type": "stream",
     "text": [
      "\n",
      "Test set: Average loss: 0.3954, Accuracy: 8895/10000 (88.95%)\n",
      "\n"
     ]
    },
    {
     "name": "stderr",
     "output_type": "stream",
     "text": [
      "Номер эпохи:  20%|██        | 20/100 [35:01<2:19:32, 104.66s/it]"
     ]
    },
    {
     "name": "stdout",
     "output_type": "stream",
     "text": [
      "\n",
      "Test set: Average loss: 0.3833, Accuracy: 8944/10000 (89.44%)\n",
      "\n"
     ]
    },
    {
     "name": "stderr",
     "output_type": "stream",
     "text": [
      "Номер эпохи:  21%|██        | 21/100 [36:47<2:18:19, 105.05s/it]"
     ]
    },
    {
     "name": "stdout",
     "output_type": "stream",
     "text": [
      "\n",
      "Test set: Average loss: 0.3878, Accuracy: 8896/10000 (88.96%)\n",
      "\n"
     ]
    },
    {
     "name": "stderr",
     "output_type": "stream",
     "text": [
      "Номер эпохи:  22%|██▏       | 22/100 [38:34<2:17:10, 105.52s/it]"
     ]
    },
    {
     "name": "stdout",
     "output_type": "stream",
     "text": [
      "\n",
      "Test set: Average loss: 0.3825, Accuracy: 8903/10000 (89.03%)\n",
      "\n"
     ]
    },
    {
     "name": "stderr",
     "output_type": "stream",
     "text": [
      "Номер эпохи:  23%|██▎       | 23/100 [40:20<2:15:31, 105.60s/it]"
     ]
    },
    {
     "name": "stdout",
     "output_type": "stream",
     "text": [
      "\n",
      "Test set: Average loss: 0.3796, Accuracy: 8950/10000 (89.50%)\n",
      "\n"
     ]
    },
    {
     "name": "stderr",
     "output_type": "stream",
     "text": [
      "Номер эпохи:  24%|██▍       | 24/100 [42:05<2:13:32, 105.43s/it]"
     ]
    },
    {
     "name": "stdout",
     "output_type": "stream",
     "text": [
      "\n",
      "Test set: Average loss: 0.3738, Accuracy: 8955/10000 (89.55%)\n",
      "\n"
     ]
    },
    {
     "name": "stderr",
     "output_type": "stream",
     "text": [
      "Номер эпохи:  25%|██▌       | 25/100 [43:50<2:11:31, 105.21s/it]"
     ]
    },
    {
     "name": "stdout",
     "output_type": "stream",
     "text": [
      "\n",
      "Test set: Average loss: 0.3970, Accuracy: 8857/10000 (88.57%)\n",
      "\n"
     ]
    },
    {
     "name": "stderr",
     "output_type": "stream",
     "text": [
      "Номер эпохи:  26%|██▌       | 26/100 [45:34<2:09:22, 104.90s/it]"
     ]
    },
    {
     "name": "stdout",
     "output_type": "stream",
     "text": [
      "\n",
      "Test set: Average loss: 0.3682, Accuracy: 8946/10000 (89.46%)\n",
      "\n"
     ]
    },
    {
     "name": "stderr",
     "output_type": "stream",
     "text": [
      "Номер эпохи:  27%|██▋       | 27/100 [47:18<2:07:33, 104.84s/it]"
     ]
    },
    {
     "name": "stdout",
     "output_type": "stream",
     "text": [
      "\n",
      "Test set: Average loss: 0.3652, Accuracy: 8953/10000 (89.53%)\n",
      "\n"
     ]
    },
    {
     "name": "stderr",
     "output_type": "stream",
     "text": [
      "Номер эпохи:  28%|██▊       | 28/100 [49:04<2:06:01, 105.02s/it]"
     ]
    },
    {
     "name": "stdout",
     "output_type": "stream",
     "text": [
      "\n",
      "Test set: Average loss: 0.3737, Accuracy: 8946/10000 (89.46%)\n",
      "\n"
     ]
    },
    {
     "name": "stderr",
     "output_type": "stream",
     "text": [
      "Номер эпохи:  29%|██▉       | 29/100 [50:49<2:04:12, 104.97s/it]"
     ]
    },
    {
     "name": "stdout",
     "output_type": "stream",
     "text": [
      "\n",
      "Test set: Average loss: 0.3649, Accuracy: 8962/10000 (89.62%)\n",
      "\n"
     ]
    },
    {
     "name": "stderr",
     "output_type": "stream",
     "text": [
      "Номер эпохи:  30%|███       | 30/100 [52:34<2:02:40, 105.15s/it]"
     ]
    },
    {
     "name": "stdout",
     "output_type": "stream",
     "text": [
      "\n",
      "Test set: Average loss: 0.3562, Accuracy: 9005/10000 (90.05%)\n",
      "\n"
     ]
    },
    {
     "name": "stderr",
     "output_type": "stream",
     "text": [
      "Номер эпохи:  31%|███       | 31/100 [54:19<2:00:51, 105.10s/it]"
     ]
    },
    {
     "name": "stdout",
     "output_type": "stream",
     "text": [
      "\n",
      "Test set: Average loss: 0.3649, Accuracy: 8952/10000 (89.52%)\n",
      "\n"
     ]
    },
    {
     "name": "stderr",
     "output_type": "stream",
     "text": [
      "Номер эпохи:  32%|███▏      | 32/100 [56:04<1:58:54, 104.92s/it]"
     ]
    },
    {
     "name": "stdout",
     "output_type": "stream",
     "text": [
      "\n",
      "Test set: Average loss: 0.3527, Accuracy: 9001/10000 (90.01%)\n",
      "\n"
     ]
    },
    {
     "name": "stderr",
     "output_type": "stream",
     "text": [
      "Номер эпохи:  33%|███▎      | 33/100 [57:48<1:56:52, 104.67s/it]"
     ]
    },
    {
     "name": "stdout",
     "output_type": "stream",
     "text": [
      "\n",
      "Test set: Average loss: 0.3584, Accuracy: 8967/10000 (89.67%)\n",
      "\n"
     ]
    },
    {
     "name": "stderr",
     "output_type": "stream",
     "text": [
      "Номер эпохи:  34%|███▍      | 34/100 [59:31<1:54:46, 104.34s/it]"
     ]
    },
    {
     "name": "stdout",
     "output_type": "stream",
     "text": [
      "\n",
      "Test set: Average loss: 0.3508, Accuracy: 9008/10000 (90.08%)\n",
      "\n"
     ]
    },
    {
     "name": "stderr",
     "output_type": "stream",
     "text": [
      "Номер эпохи:  35%|███▌      | 35/100 [1:01:15<1:52:54, 104.23s/it]"
     ]
    },
    {
     "name": "stdout",
     "output_type": "stream",
     "text": [
      "\n",
      "Test set: Average loss: 0.3668, Accuracy: 8959/10000 (89.59%)\n",
      "\n"
     ]
    },
    {
     "name": "stderr",
     "output_type": "stream",
     "text": [
      "Номер эпохи:  36%|███▌      | 36/100 [1:02:59<1:50:51, 103.93s/it]"
     ]
    },
    {
     "name": "stdout",
     "output_type": "stream",
     "text": [
      "\n",
      "Test set: Average loss: 0.3636, Accuracy: 8969/10000 (89.69%)\n",
      "\n"
     ]
    },
    {
     "name": "stderr",
     "output_type": "stream",
     "text": [
      "Номер эпохи:  37%|███▋      | 37/100 [1:04:42<1:49:01, 103.83s/it]"
     ]
    },
    {
     "name": "stdout",
     "output_type": "stream",
     "text": [
      "\n",
      "Test set: Average loss: 0.3388, Accuracy: 9025/10000 (90.25%)\n",
      "\n"
     ]
    },
    {
     "name": "stderr",
     "output_type": "stream",
     "text": [
      "Номер эпохи:  38%|███▊      | 38/100 [1:06:26<1:47:22, 103.90s/it]"
     ]
    },
    {
     "name": "stdout",
     "output_type": "stream",
     "text": [
      "\n",
      "Test set: Average loss: 0.3424, Accuracy: 9039/10000 (90.39%)\n",
      "\n"
     ]
    },
    {
     "name": "stderr",
     "output_type": "stream",
     "text": [
      "Номер эпохи:  39%|███▉      | 39/100 [1:08:10<1:45:29, 103.76s/it]"
     ]
    },
    {
     "name": "stdout",
     "output_type": "stream",
     "text": [
      "\n",
      "Test set: Average loss: 0.3462, Accuracy: 9006/10000 (90.06%)\n",
      "\n"
     ]
    },
    {
     "name": "stderr",
     "output_type": "stream",
     "text": [
      "Номер эпохи:  40%|████      | 40/100 [1:09:53<1:43:43, 103.73s/it]"
     ]
    },
    {
     "name": "stdout",
     "output_type": "stream",
     "text": [
      "\n",
      "Test set: Average loss: 0.3491, Accuracy: 9007/10000 (90.07%)\n",
      "\n"
     ]
    },
    {
     "name": "stderr",
     "output_type": "stream",
     "text": [
      "Номер эпохи:  41%|████      | 41/100 [1:11:37<1:41:59, 103.71s/it]"
     ]
    },
    {
     "name": "stdout",
     "output_type": "stream",
     "text": [
      "\n",
      "Test set: Average loss: 0.3432, Accuracy: 9028/10000 (90.28%)\n",
      "\n"
     ]
    },
    {
     "name": "stderr",
     "output_type": "stream",
     "text": [
      "Номер эпохи:  42%|████▏     | 42/100 [1:13:21<1:40:14, 103.70s/it]"
     ]
    },
    {
     "name": "stdout",
     "output_type": "stream",
     "text": [
      "\n",
      "Test set: Average loss: 0.3353, Accuracy: 9046/10000 (90.46%)\n",
      "\n"
     ]
    },
    {
     "name": "stderr",
     "output_type": "stream",
     "text": [
      "Номер эпохи:  43%|████▎     | 43/100 [1:15:05<1:38:37, 103.81s/it]"
     ]
    },
    {
     "name": "stdout",
     "output_type": "stream",
     "text": [
      "\n",
      "Test set: Average loss: 0.3487, Accuracy: 8978/10000 (89.78%)\n",
      "\n"
     ]
    },
    {
     "name": "stderr",
     "output_type": "stream",
     "text": [
      "Номер эпохи:  44%|████▍     | 44/100 [1:16:48<1:36:46, 103.68s/it]"
     ]
    },
    {
     "name": "stdout",
     "output_type": "stream",
     "text": [
      "\n",
      "Test set: Average loss: 0.3437, Accuracy: 9033/10000 (90.33%)\n",
      "\n"
     ]
    },
    {
     "name": "stderr",
     "output_type": "stream",
     "text": [
      "Номер эпохи:  45%|████▌     | 45/100 [1:18:32<1:35:04, 103.72s/it]"
     ]
    },
    {
     "name": "stdout",
     "output_type": "stream",
     "text": [
      "\n",
      "Test set: Average loss: 0.3408, Accuracy: 9040/10000 (90.40%)\n",
      "\n"
     ]
    },
    {
     "name": "stderr",
     "output_type": "stream",
     "text": [
      "Номер эпохи:  46%|████▌     | 46/100 [1:20:16<1:33:24, 103.78s/it]"
     ]
    },
    {
     "name": "stdout",
     "output_type": "stream",
     "text": [
      "\n",
      "Test set: Average loss: 0.3353, Accuracy: 9016/10000 (90.16%)\n",
      "\n"
     ]
    },
    {
     "name": "stderr",
     "output_type": "stream",
     "text": [
      "Номер эпохи:  47%|████▋     | 47/100 [1:21:59<1:31:35, 103.69s/it]"
     ]
    },
    {
     "name": "stdout",
     "output_type": "stream",
     "text": [
      "\n",
      "Test set: Average loss: 0.3360, Accuracy: 9039/10000 (90.39%)\n",
      "\n"
     ]
    },
    {
     "name": "stderr",
     "output_type": "stream",
     "text": [
      "Номер эпохи:  48%|████▊     | 48/100 [1:23:42<1:29:40, 103.48s/it]"
     ]
    },
    {
     "name": "stdout",
     "output_type": "stream",
     "text": [
      "\n",
      "Test set: Average loss: 0.3398, Accuracy: 8999/10000 (89.99%)\n",
      "\n"
     ]
    },
    {
     "name": "stderr",
     "output_type": "stream",
     "text": [
      "Номер эпохи:  49%|████▉     | 49/100 [1:25:26<1:28:06, 103.65s/it]"
     ]
    },
    {
     "name": "stdout",
     "output_type": "stream",
     "text": [
      "\n",
      "Test set: Average loss: 0.3307, Accuracy: 9078/10000 (90.78%)\n",
      "\n"
     ]
    },
    {
     "name": "stderr",
     "output_type": "stream",
     "text": [
      "Номер эпохи:  50%|█████     | 50/100 [1:27:10<1:26:20, 103.61s/it]"
     ]
    },
    {
     "name": "stdout",
     "output_type": "stream",
     "text": [
      "\n",
      "Test set: Average loss: 0.3247, Accuracy: 9070/10000 (90.70%)\n",
      "\n"
     ]
    },
    {
     "name": "stderr",
     "output_type": "stream",
     "text": [
      "Номер эпохи:  51%|█████     | 51/100 [1:28:53<1:24:29, 103.47s/it]"
     ]
    },
    {
     "name": "stdout",
     "output_type": "stream",
     "text": [
      "\n",
      "Test set: Average loss: 0.3385, Accuracy: 9038/10000 (90.38%)\n",
      "\n"
     ]
    },
    {
     "name": "stderr",
     "output_type": "stream",
     "text": [
      "Номер эпохи:  52%|█████▏    | 52/100 [1:30:36<1:22:45, 103.44s/it]"
     ]
    },
    {
     "name": "stdout",
     "output_type": "stream",
     "text": [
      "\n",
      "Test set: Average loss: 0.3288, Accuracy: 9079/10000 (90.79%)\n",
      "\n"
     ]
    },
    {
     "name": "stderr",
     "output_type": "stream",
     "text": [
      "Номер эпохи:  53%|█████▎    | 53/100 [1:32:20<1:21:06, 103.54s/it]"
     ]
    },
    {
     "name": "stdout",
     "output_type": "stream",
     "text": [
      "\n",
      "Test set: Average loss: 0.3284, Accuracy: 9060/10000 (90.60%)\n",
      "\n"
     ]
    },
    {
     "name": "stderr",
     "output_type": "stream",
     "text": [
      "Номер эпохи:  54%|█████▍    | 54/100 [1:34:04<1:19:26, 103.63s/it]"
     ]
    },
    {
     "name": "stdout",
     "output_type": "stream",
     "text": [
      "\n",
      "Test set: Average loss: 0.3435, Accuracy: 9042/10000 (90.42%)\n",
      "\n"
     ]
    },
    {
     "name": "stderr",
     "output_type": "stream",
     "text": [
      "Номер эпохи:  55%|█████▌    | 55/100 [1:35:47<1:17:35, 103.45s/it]"
     ]
    },
    {
     "name": "stdout",
     "output_type": "stream",
     "text": [
      "\n",
      "Test set: Average loss: 0.3280, Accuracy: 9051/10000 (90.51%)\n",
      "\n"
     ]
    },
    {
     "name": "stderr",
     "output_type": "stream",
     "text": [
      "Номер эпохи:  56%|█████▌    | 56/100 [1:37:30<1:15:49, 103.39s/it]"
     ]
    },
    {
     "name": "stdout",
     "output_type": "stream",
     "text": [
      "\n",
      "Test set: Average loss: 0.3234, Accuracy: 9083/10000 (90.83%)\n",
      "\n"
     ]
    },
    {
     "name": "stderr",
     "output_type": "stream",
     "text": [
      "Номер эпохи:  57%|█████▋    | 57/100 [1:39:13<1:13:57, 103.21s/it]"
     ]
    },
    {
     "name": "stdout",
     "output_type": "stream",
     "text": [
      "\n",
      "Test set: Average loss: 0.3253, Accuracy: 9074/10000 (90.74%)\n",
      "\n"
     ]
    },
    {
     "name": "stderr",
     "output_type": "stream",
     "text": [
      "Номер эпохи:  58%|█████▊    | 58/100 [1:40:56<1:12:09, 103.07s/it]"
     ]
    },
    {
     "name": "stdout",
     "output_type": "stream",
     "text": [
      "\n",
      "Test set: Average loss: 0.3303, Accuracy: 9010/10000 (90.10%)\n",
      "\n"
     ]
    },
    {
     "name": "stderr",
     "output_type": "stream",
     "text": [
      "Номер эпохи:  59%|█████▉    | 59/100 [1:42:39<1:10:31, 103.20s/it]"
     ]
    },
    {
     "name": "stdout",
     "output_type": "stream",
     "text": [
      "\n",
      "Test set: Average loss: 0.3355, Accuracy: 9023/10000 (90.23%)\n",
      "\n"
     ]
    },
    {
     "name": "stderr",
     "output_type": "stream",
     "text": [
      "Номер эпохи:  60%|██████    | 60/100 [1:44:25<1:09:11, 103.79s/it]"
     ]
    },
    {
     "name": "stdout",
     "output_type": "stream",
     "text": [
      "\n",
      "Test set: Average loss: 0.3172, Accuracy: 9079/10000 (90.79%)\n",
      "\n"
     ]
    },
    {
     "name": "stderr",
     "output_type": "stream",
     "text": [
      "Номер эпохи:  61%|██████    | 61/100 [1:46:07<1:07:14, 103.44s/it]"
     ]
    },
    {
     "name": "stdout",
     "output_type": "stream",
     "text": [
      "\n",
      "Test set: Average loss: 0.3191, Accuracy: 9071/10000 (90.71%)\n",
      "\n"
     ]
    },
    {
     "name": "stderr",
     "output_type": "stream",
     "text": [
      "Номер эпохи:  62%|██████▏   | 62/100 [1:47:49<1:05:11, 102.94s/it]"
     ]
    },
    {
     "name": "stdout",
     "output_type": "stream",
     "text": [
      "\n",
      "Test set: Average loss: 0.3255, Accuracy: 9085/10000 (90.85%)\n",
      "\n"
     ]
    },
    {
     "name": "stderr",
     "output_type": "stream",
     "text": [
      "Номер эпохи:  63%|██████▎   | 63/100 [1:49:31<1:03:19, 102.70s/it]"
     ]
    },
    {
     "name": "stdout",
     "output_type": "stream",
     "text": [
      "\n",
      "Test set: Average loss: 0.3160, Accuracy: 9109/10000 (91.09%)\n",
      "\n"
     ]
    },
    {
     "name": "stderr",
     "output_type": "stream",
     "text": [
      "Номер эпохи:  64%|██████▍   | 64/100 [1:51:14<1:01:40, 102.78s/it]"
     ]
    },
    {
     "name": "stdout",
     "output_type": "stream",
     "text": [
      "\n",
      "Test set: Average loss: 0.3233, Accuracy: 9072/10000 (90.72%)\n",
      "\n"
     ]
    },
    {
     "name": "stderr",
     "output_type": "stream",
     "text": [
      "Номер эпохи:  65%|██████▌   | 65/100 [1:52:56<59:51, 102.60s/it]  "
     ]
    },
    {
     "name": "stdout",
     "output_type": "stream",
     "text": [
      "\n",
      "Test set: Average loss: 0.3219, Accuracy: 9047/10000 (90.47%)\n",
      "\n"
     ]
    },
    {
     "name": "stderr",
     "output_type": "stream",
     "text": [
      "Номер эпохи:  66%|██████▌   | 66/100 [1:54:39<58:09, 102.65s/it]"
     ]
    },
    {
     "name": "stdout",
     "output_type": "stream",
     "text": [
      "\n",
      "Test set: Average loss: 0.3389, Accuracy: 9052/10000 (90.52%)\n",
      "\n"
     ]
    },
    {
     "name": "stderr",
     "output_type": "stream",
     "text": [
      "Номер эпохи:  67%|██████▋   | 67/100 [1:56:22<56:33, 102.82s/it]"
     ]
    },
    {
     "name": "stdout",
     "output_type": "stream",
     "text": [
      "\n",
      "Test set: Average loss: 0.3203, Accuracy: 9039/10000 (90.39%)\n",
      "\n"
     ]
    },
    {
     "name": "stderr",
     "output_type": "stream",
     "text": [
      "Номер эпохи:  68%|██████▊   | 68/100 [1:58:05<54:45, 102.67s/it]"
     ]
    },
    {
     "name": "stdout",
     "output_type": "stream",
     "text": [
      "\n",
      "Test set: Average loss: 0.3183, Accuracy: 9099/10000 (90.99%)\n",
      "\n"
     ]
    },
    {
     "name": "stderr",
     "output_type": "stream",
     "text": [
      "Номер эпохи:  69%|██████▉   | 69/100 [1:59:47<52:59, 102.57s/it]"
     ]
    },
    {
     "name": "stdout",
     "output_type": "stream",
     "text": [
      "\n",
      "Test set: Average loss: 0.3211, Accuracy: 9082/10000 (90.82%)\n",
      "\n"
     ]
    },
    {
     "name": "stderr",
     "output_type": "stream",
     "text": [
      "Номер эпохи:  70%|███████   | 70/100 [2:01:30<51:20, 102.68s/it]"
     ]
    },
    {
     "name": "stdout",
     "output_type": "stream",
     "text": [
      "\n",
      "Test set: Average loss: 0.3188, Accuracy: 9082/10000 (90.82%)\n",
      "\n"
     ]
    },
    {
     "name": "stderr",
     "output_type": "stream",
     "text": [
      "Номер эпохи:  71%|███████   | 71/100 [2:03:12<49:33, 102.52s/it]"
     ]
    },
    {
     "name": "stdout",
     "output_type": "stream",
     "text": [
      "\n",
      "Test set: Average loss: 0.3239, Accuracy: 9080/10000 (90.80%)\n",
      "\n"
     ]
    },
    {
     "name": "stderr",
     "output_type": "stream",
     "text": [
      "Номер эпохи:  72%|███████▏  | 72/100 [2:04:54<47:47, 102.40s/it]"
     ]
    },
    {
     "name": "stdout",
     "output_type": "stream",
     "text": [
      "\n",
      "Test set: Average loss: 0.3222, Accuracy: 9090/10000 (90.90%)\n",
      "\n"
     ]
    },
    {
     "name": "stderr",
     "output_type": "stream",
     "text": [
      "Номер эпохи:  73%|███████▎  | 73/100 [2:06:37<46:08, 102.53s/it]"
     ]
    },
    {
     "name": "stdout",
     "output_type": "stream",
     "text": [
      "\n",
      "Test set: Average loss: 0.3261, Accuracy: 9025/10000 (90.25%)\n",
      "\n"
     ]
    },
    {
     "name": "stderr",
     "output_type": "stream",
     "text": [
      "Номер эпохи:  74%|███████▍  | 74/100 [2:08:19<44:23, 102.45s/it]"
     ]
    },
    {
     "name": "stdout",
     "output_type": "stream",
     "text": [
      "\n",
      "Test set: Average loss: 0.3246, Accuracy: 9068/10000 (90.68%)\n",
      "\n"
     ]
    },
    {
     "name": "stderr",
     "output_type": "stream",
     "text": [
      "Номер эпохи:  75%|███████▌  | 75/100 [2:10:01<42:40, 102.41s/it]"
     ]
    },
    {
     "name": "stdout",
     "output_type": "stream",
     "text": [
      "\n",
      "Test set: Average loss: 0.3130, Accuracy: 9109/10000 (91.09%)\n",
      "\n"
     ]
    },
    {
     "name": "stderr",
     "output_type": "stream",
     "text": [
      "Номер эпохи:  76%|███████▌  | 76/100 [2:11:45<41:03, 102.65s/it]"
     ]
    },
    {
     "name": "stdout",
     "output_type": "stream",
     "text": [
      "\n",
      "Test set: Average loss: 0.3188, Accuracy: 9080/10000 (90.80%)\n",
      "\n"
     ]
    },
    {
     "name": "stderr",
     "output_type": "stream",
     "text": [
      "Номер эпохи:  77%|███████▋  | 77/100 [2:13:28<39:23, 102.76s/it]"
     ]
    },
    {
     "name": "stdout",
     "output_type": "stream",
     "text": [
      "\n",
      "Test set: Average loss: 0.3099, Accuracy: 9105/10000 (91.05%)\n",
      "\n"
     ]
    },
    {
     "name": "stderr",
     "output_type": "stream",
     "text": [
      "Номер эпохи:  78%|███████▊  | 78/100 [2:15:10<37:40, 102.76s/it]"
     ]
    },
    {
     "name": "stdout",
     "output_type": "stream",
     "text": [
      "\n",
      "Test set: Average loss: 0.3132, Accuracy: 9091/10000 (90.91%)\n",
      "\n"
     ]
    },
    {
     "name": "stderr",
     "output_type": "stream",
     "text": [
      "Номер эпохи:  79%|███████▉  | 79/100 [2:16:54<36:00, 102.90s/it]"
     ]
    },
    {
     "name": "stdout",
     "output_type": "stream",
     "text": [
      "\n",
      "Test set: Average loss: 0.3202, Accuracy: 9094/10000 (90.94%)\n",
      "\n"
     ]
    },
    {
     "name": "stderr",
     "output_type": "stream",
     "text": [
      "Номер эпохи:  80%|████████  | 80/100 [2:18:36<34:17, 102.87s/it]"
     ]
    },
    {
     "name": "stdout",
     "output_type": "stream",
     "text": [
      "\n",
      "Test set: Average loss: 0.3245, Accuracy: 9084/10000 (90.84%)\n",
      "\n"
     ]
    },
    {
     "name": "stderr",
     "output_type": "stream",
     "text": [
      "Номер эпохи:  81%|████████  | 81/100 [2:20:19<32:33, 102.79s/it]"
     ]
    },
    {
     "name": "stdout",
     "output_type": "stream",
     "text": [
      "\n",
      "Test set: Average loss: 0.3141, Accuracy: 9102/10000 (91.02%)\n",
      "\n"
     ]
    },
    {
     "name": "stderr",
     "output_type": "stream",
     "text": [
      "Номер эпохи:  82%|████████▏ | 82/100 [2:22:02<30:48, 102.68s/it]"
     ]
    },
    {
     "name": "stdout",
     "output_type": "stream",
     "text": [
      "\n",
      "Test set: Average loss: 0.3128, Accuracy: 9118/10000 (91.18%)\n",
      "\n"
     ]
    },
    {
     "name": "stderr",
     "output_type": "stream",
     "text": [
      "Номер эпохи:  83%|████████▎ | 83/100 [2:23:44<29:05, 102.68s/it]"
     ]
    },
    {
     "name": "stdout",
     "output_type": "stream",
     "text": [
      "\n",
      "Test set: Average loss: 0.3142, Accuracy: 9102/10000 (91.02%)\n",
      "\n"
     ]
    },
    {
     "name": "stderr",
     "output_type": "stream",
     "text": [
      "Номер эпохи:  84%|████████▍ | 84/100 [2:25:27<27:24, 102.79s/it]"
     ]
    },
    {
     "name": "stdout",
     "output_type": "stream",
     "text": [
      "\n",
      "Test set: Average loss: 0.3073, Accuracy: 9126/10000 (91.26%)\n",
      "\n"
     ]
    },
    {
     "name": "stderr",
     "output_type": "stream",
     "text": [
      "Номер эпохи:  85%|████████▌ | 85/100 [2:27:10<25:42, 102.86s/it]"
     ]
    },
    {
     "name": "stdout",
     "output_type": "stream",
     "text": [
      "\n",
      "Test set: Average loss: 0.3127, Accuracy: 9073/10000 (90.73%)\n",
      "\n"
     ]
    },
    {
     "name": "stderr",
     "output_type": "stream",
     "text": [
      "Номер эпохи:  86%|████████▌ | 86/100 [2:28:53<23:58, 102.73s/it]"
     ]
    },
    {
     "name": "stdout",
     "output_type": "stream",
     "text": [
      "\n",
      "Test set: Average loss: 0.3071, Accuracy: 9106/10000 (91.06%)\n",
      "\n"
     ]
    },
    {
     "name": "stderr",
     "output_type": "stream",
     "text": [
      "Номер эпохи:  87%|████████▋ | 87/100 [2:30:35<22:12, 102.51s/it]"
     ]
    },
    {
     "name": "stdout",
     "output_type": "stream",
     "text": [
      "\n",
      "Test set: Average loss: 0.3102, Accuracy: 9144/10000 (91.44%)\n",
      "\n"
     ]
    },
    {
     "name": "stderr",
     "output_type": "stream",
     "text": [
      "Номер эпохи:  88%|████████▊ | 88/100 [2:32:18<20:32, 102.74s/it]"
     ]
    },
    {
     "name": "stdout",
     "output_type": "stream",
     "text": [
      "\n",
      "Test set: Average loss: 0.3161, Accuracy: 9092/10000 (90.92%)\n",
      "\n"
     ]
    },
    {
     "name": "stderr",
     "output_type": "stream",
     "text": [
      "Номер эпохи:  89%|████████▉ | 89/100 [2:34:01<18:51, 102.85s/it]"
     ]
    },
    {
     "name": "stdout",
     "output_type": "stream",
     "text": [
      "\n",
      "Test set: Average loss: 0.3098, Accuracy: 9145/10000 (91.45%)\n",
      "\n"
     ]
    },
    {
     "name": "stderr",
     "output_type": "stream",
     "text": [
      "Номер эпохи:  90%|█████████ | 90/100 [2:35:44<17:07, 102.73s/it]"
     ]
    },
    {
     "name": "stdout",
     "output_type": "stream",
     "text": [
      "\n",
      "Test set: Average loss: 0.3159, Accuracy: 9094/10000 (90.94%)\n",
      "\n"
     ]
    },
    {
     "name": "stderr",
     "output_type": "stream",
     "text": [
      "Номер эпохи:  91%|█████████ | 91/100 [2:37:27<15:26, 102.93s/it]"
     ]
    },
    {
     "name": "stdout",
     "output_type": "stream",
     "text": [
      "\n",
      "Test set: Average loss: 0.3094, Accuracy: 9147/10000 (91.47%)\n",
      "\n"
     ]
    },
    {
     "name": "stderr",
     "output_type": "stream",
     "text": [
      "Номер эпохи:  92%|█████████▏| 92/100 [2:39:10<13:43, 102.97s/it]"
     ]
    },
    {
     "name": "stdout",
     "output_type": "stream",
     "text": [
      "\n",
      "Test set: Average loss: 0.3263, Accuracy: 9033/10000 (90.33%)\n",
      "\n"
     ]
    },
    {
     "name": "stderr",
     "output_type": "stream",
     "text": [
      "Номер эпохи:  93%|█████████▎| 93/100 [2:40:53<12:00, 102.93s/it]"
     ]
    },
    {
     "name": "stdout",
     "output_type": "stream",
     "text": [
      "\n",
      "Test set: Average loss: 0.3089, Accuracy: 9132/10000 (91.32%)\n",
      "\n"
     ]
    },
    {
     "name": "stderr",
     "output_type": "stream",
     "text": [
      "Номер эпохи:  94%|█████████▍| 94/100 [2:42:36<10:18, 103.05s/it]"
     ]
    },
    {
     "name": "stdout",
     "output_type": "stream",
     "text": [
      "\n",
      "Test set: Average loss: 0.3170, Accuracy: 9084/10000 (90.84%)\n",
      "\n"
     ]
    },
    {
     "name": "stderr",
     "output_type": "stream",
     "text": [
      "Номер эпохи:  95%|█████████▌| 95/100 [2:44:19<08:35, 103.04s/it]"
     ]
    },
    {
     "name": "stdout",
     "output_type": "stream",
     "text": [
      "\n",
      "Test set: Average loss: 0.3084, Accuracy: 9114/10000 (91.14%)\n",
      "\n"
     ]
    },
    {
     "name": "stderr",
     "output_type": "stream",
     "text": [
      "Номер эпохи:  96%|█████████▌| 96/100 [2:46:02<06:52, 103.04s/it]"
     ]
    },
    {
     "name": "stdout",
     "output_type": "stream",
     "text": [
      "\n",
      "Test set: Average loss: 0.3132, Accuracy: 9104/10000 (91.04%)\n",
      "\n"
     ]
    },
    {
     "name": "stderr",
     "output_type": "stream",
     "text": [
      "Номер эпохи:  97%|█████████▋| 97/100 [2:47:45<05:09, 103.07s/it]"
     ]
    },
    {
     "name": "stdout",
     "output_type": "stream",
     "text": [
      "\n",
      "Test set: Average loss: 0.3141, Accuracy: 9123/10000 (91.23%)\n",
      "\n"
     ]
    },
    {
     "name": "stderr",
     "output_type": "stream",
     "text": [
      "Номер эпохи:  98%|█████████▊| 98/100 [2:49:30<03:27, 103.64s/it]"
     ]
    },
    {
     "name": "stdout",
     "output_type": "stream",
     "text": [
      "\n",
      "Test set: Average loss: 0.3068, Accuracy: 9116/10000 (91.16%)\n",
      "\n"
     ]
    },
    {
     "name": "stderr",
     "output_type": "stream",
     "text": [
      "Номер эпохи:  99%|█████████▉| 99/100 [2:51:14<01:43, 103.67s/it]"
     ]
    },
    {
     "name": "stdout",
     "output_type": "stream",
     "text": [
      "\n",
      "Test set: Average loss: 0.3043, Accuracy: 9157/10000 (91.57%)\n",
      "\n"
     ]
    },
    {
     "name": "stderr",
     "output_type": "stream",
     "text": [
      "Номер эпохи: 100%|██████████| 100/100 [2:52:58<00:00, 103.79s/it]"
     ]
    },
    {
     "name": "stdout",
     "output_type": "stream",
     "text": [
      "\n",
      "Test set: Average loss: 0.3036, Accuracy: 9126/10000 (91.26%)\n",
      "\n"
     ]
    },
    {
     "name": "stderr",
     "output_type": "stream",
     "text": [
      "\n"
     ]
    }
   ],
   "source": [
    "from tqdm import tqdm\n",
    "import torch\n",
    "import torch.nn as nn\n",
    "import torch.optim as optim\n",
    "from torchvision import datasets, transforms\n",
    "\n",
    "num_neuron = 2000\n",
    "num_synapses = W_oja.shape[1]\n",
    "eta = 0.4 * torch.ones(num_neuron)\n",
    "\n",
    "\n",
    "device = torch.device(\"cuda\" if torch.cuda.is_available() else \"cpu\")\n",
    "model = SingleLayerNet(num_digits = num_neuron)\n",
    "model.to(device)\n",
    "criterion = nn.CrossEntropyLoss()\n",
    "optimizer = optim.Adam(model.parameters(), lr=0.001)\n",
    "layer = Layer(num_neuron, num_synapses, eta, base = 200.0, device = device, lr_decay = \"None\")\n",
    "norms = []\n",
    "preds = []\n",
    "num_epochs = 2\n",
    "num_epochs_classifier_head = 100\n",
    "cnt = 0 \n",
    "eps = 0.01\n",
    "metrics = []\n",
    "losses = []\n",
    "\n",
    "for _ in tqdm(range(num_epochs), desc = \"Номер эпохи\"):\n",
    "    for i, (img, label) in enumerate(train_loader):\n",
    "        img = torch.squeeze(img).to(device)  \n",
    "        img = img.reshape(-1)  \n",
    "        img = W_oja.T @ img\n",
    "        y = layer.train(img)\n",
    "        layer.lr_update()\n",
    "        if(i % 10000 == 0):\n",
    "            norms.append(torch.linalg.norm(layer.get_weights(), axis = 0).mean())\n",
    "            print(torch.linalg.norm(layer.get_weights(), axis = 0).mean())\n",
    "\n",
    "\n",
    "for _ in tqdm(range(num_epochs_classifier_head), desc = \"Номер эпохи\"):\n",
    "    for i, (img, label) in enumerate(train_loader):\n",
    "        img = torch.squeeze(img).to(device) \n",
    "        label = label.to(device)\n",
    "        img = img.reshape(-1)  \n",
    "        img = W_oja.T @ img        \n",
    "        y = layer.get_activations(img)\n",
    "        y = y/torch.linalg.norm(y)\n",
    "        optimizer.zero_grad()\n",
    "        output = model(y)\n",
    "        loss = criterion(output, label)\n",
    "        loss.backward()\n",
    "        optimizer.step()\n",
    "        \n",
    "    model.eval()\n",
    "    test_loss = 0\n",
    "    correct = 0\n",
    "    with torch.no_grad():\n",
    "        for i, (img, label) in enumerate(test_loader):\n",
    "            img = torch.squeeze(img).to(device) \n",
    "            label = label.to(device)\n",
    "            img = img.reshape(-1) \n",
    "            img = W_oja.T @ img\n",
    "            y = layer.get_activations(img)\n",
    "            y = y/torch.linalg.norm(y)\n",
    "            output = model(y)\n",
    "            test_loss += criterion(output, label).item()\n",
    "            pred = output.argmax(dim = 1, keepdims = True)\n",
    "            correct += pred.eq(label.view_as(pred)).sum().item()\n",
    "\n",
    "   \n",
    "    test_loss /= len(test_loader)\n",
    "    accuracy = 100. * correct / len(test_loader.dataset)\n",
    "    metrics.append(accuracy)\n",
    "    losses.append(test_loss)\n",
    "    print(f'\\nTest set: Average loss: {test_loss:.4f}, Accuracy: {correct}/{len(test_loader.dataset)} ({accuracy:.2f}%)\\n')\n",
    "    \n",
    "for img, label in train_loader:\n",
    "    img = torch.squeeze(img).to(device)\n",
    "    img = img.reshape(-1)\n",
    "    img = W_oja.T @ img\n",
    "    layer.voting_of_neurons(img,label)\n",
    "\n",
    "list_of_dicts = layer.get_vote()"
   ]
  },
  {
   "cell_type": "markdown",
   "metadata": {},
   "source": [
    "# На ранних эпохах такой подход лучше предыдущего, нежели без Oja's rule. Но итоговое качество получилось на пару процентов ниже в силу потери некоторой информации из за Oja's rule. Но сэкономили на вычислениях."
   ]
  },
  {
   "cell_type": "code",
   "execution_count": 6,
   "metadata": {
    "execution": {
     "iopub.execute_input": "2025-05-10T22:50:47.163051Z",
     "iopub.status.busy": "2025-05-10T22:50:47.162728Z",
     "iopub.status.idle": "2025-05-10T22:50:47.422376Z",
     "shell.execute_reply": "2025-05-10T22:50:47.421694Z",
     "shell.execute_reply.started": "2025-05-10T22:50:47.163031Z"
    }
   },
   "outputs": [
    {
     "data": {
      "image/png": "[encoded data removed]",
      "text/plain": [
       "<Figure size 640x480 with 1 Axes>"
      ]
     },
     "metadata": {},
     "output_type": "display_data"
    }
   ],
   "source": [
    "import matplotlib.pyplot as plt\n",
    "\n",
    "plt.plot(losses, color='blue', linewidth=4)        \n",
    "plt.xlabel('Эпоха')    \n",
    "plt.ylabel('Значение функции потерь')      \n",
    "plt.title('График функции потерь классификатора')\n",
    "plt.grid(True)          \n",
    "plt.show() "
   ]
  },
  {
   "cell_type": "code",
   "execution_count": 7,
   "metadata": {
    "execution": {
     "iopub.execute_input": "2025-05-10T22:50:47.423364Z",
     "iopub.status.busy": "2025-05-10T22:50:47.423137Z",
     "iopub.status.idle": "2025-05-10T22:50:47.573622Z",
     "shell.execute_reply": "2025-05-10T22:50:47.572795Z",
     "shell.execute_reply.started": "2025-05-10T22:50:47.423347Z"
    }
   },
   "outputs": [
    {
     "data": {
      "image/png": "[encoded data removed]",
      "text/plain": [
       "<Figure size 640x480 with 1 Axes>"
      ]
     },
     "metadata": {},
     "output_type": "display_data"
    }
   ],
   "source": [
    "plt.plot(metrics, color = 'green', linewidth=4)        \n",
    "plt.xlabel('Эпоха')   \n",
    "plt.ylabel('Точность')      \n",
    "plt.title('График точности')\n",
    "plt.grid(True)          \n",
    "plt.show() "
   ]
  },
  {
   "cell_type": "code",
   "execution_count": 8,
   "metadata": {
    "execution": {
     "iopub.execute_input": "2025-05-10T22:50:47.575289Z",
     "iopub.status.busy": "2025-05-10T22:50:47.574580Z",
     "iopub.status.idle": "2025-05-10T22:50:47.719906Z",
     "shell.execute_reply": "2025-05-10T22:50:47.719154Z",
     "shell.execute_reply.started": "2025-05-10T22:50:47.575260Z"
    }
   },
   "outputs": [
    {
     "data": {
      "image/png": "[encoded data removed]",
      "text/plain": [
       "<Figure size 640x480 with 1 Axes>"
      ]
     },
     "metadata": {},
     "output_type": "display_data"
    }
   ],
   "source": [
    "\n",
    "norm1 = [norm.cpu().detach().numpy() for norm in norms]\n",
    "plt.plot(norm1, color = 'orange', marker = \"*\")        \n",
    "plt.xlabel('1/60 эпохи')    \n",
    "plt.ylabel('Значение средней нормы весов нейронов')     \n",
    "plt.title('График средних норм')\n",
    "plt.grid(True)         \n",
    "plt.show() "
   ]
  },
  {
   "cell_type": "code",
   "execution_count": null,
   "metadata": {
    "execution": {
     "iopub.status.busy": "2025-05-09T11:03:07.829232Z",
     "iopub.status.idle": "2025-05-09T11:03:07.829544Z",
     "shell.execute_reply": "2025-05-09T11:03:07.829376Z",
     "shell.execute_reply.started": "2025-05-09T11:03:07.829360Z"
    }
   },
   "outputs": [],
   "source": [
    "import numpy as np\n",
    "import matplotlib.pyplot as plt\n",
    "\n",
    "fig, axes = plt.subplots(4, 4, figsize=(10, 10))\n",
    "weights = layer.get_weights().cpu()\n",
    "vmin, vmax = weights.min(), weights.max()\n",
    "\n",
    "for i, ax in enumerate(axes.flat):\n",
    "    if i < weights.shape[1]: \n",
    "        img = weights[:, i].reshape(20, 20)\n",
    "        \n",
    "        im = ax.imshow(img, cmap='gray', vmin=vmin, vmax=vmax)\n",
    "        ax.set_title(f'Нейрон {i}')\n",
    "        ax.axis('off')  \n",
    "    else:of\n",
    "        ax.axis('off')\n",
    "\n",
    "plt.tight_layout()\n",
    "plt.colorbar(im, ax=axes.ravel().tolist(), shrink=0.8)\n",
    "plt.show()\n"
   ]
  },
  {
   "cell_type": "markdown",
   "metadata": {},
   "source": [
    "# Точность SoftHebb отдельно за 1 эпоху"
   ]
  },
  {
   "cell_type": "code",
   "execution_count": 5,
   "metadata": {
    "execution": {
     "iopub.execute_input": "2025-05-10T22:50:37.287802Z",
     "iopub.status.busy": "2025-05-10T22:50:37.287553Z",
     "iopub.status.idle": "2025-05-10T22:50:47.161948Z",
     "shell.execute_reply": "2025-05-10T22:50:47.161131Z",
     "shell.execute_reply.started": "2025-05-10T22:50:37.287786Z"
    }
   },
   "outputs": [
    {
     "name": "stderr",
     "output_type": "stream",
     "text": [
      "/usr/local/lib/python3.11/dist-packages/sklearn/metrics/_classification.py:1344: UndefinedMetricWarning: Recall is ill-defined and being set to 0.0 in labels with no true samples. Use `zero_division` parameter to control this behavior.\n",
      "  _warn_prf(average, modifier, msg_start, len(result))\n"
     ]
    },
    {
     "name": "stdout",
     "output_type": "stream",
     "text": [
      "Accuracy: 0.6427\n",
      "Precision: 0.6385\n",
      "Recall: 0.6427\n",
      "F1-score: 0.6373\n",
      "\n",
      "Confusion Matrix:\n",
      "[[   0    0    0    0    0    0    0    0    0    0    0]\n",
      " [   0  822    0   15   25    4   55   34    8    6   11]\n",
      " [   0    0 1053   16   14    6    7    5    3   24    7]\n",
      " [   4   30   54  633   68   41   21   79   20   71   11]\n",
      " [   3   62   27   68  594   12   97   44   26   62   15]\n",
      " [   6   17   22   31   19  523   25   94  109   19  117]\n",
      " [   2   92   26   12   97   25  459   48   32   61   38]\n",
      " [   5   64   18   48    4   71   37  670   12   16   13]\n",
      " [   3   23   55   39    9   37   25   19  731   15   72]\n",
      " [   4   17   40   65  129   24   77   95   29  446   48]\n",
      " [   1   15   25   25   28  123   37   42  178   39  496]]\n",
      "\n",
      "Classification Report:\n",
      "              precision    recall  f1-score   support\n",
      "\n",
      "          -1       0.00      0.00      0.00         0\n",
      "           0       0.72      0.84      0.77       980\n",
      "           1       0.80      0.93      0.86      1135\n",
      "           2       0.66      0.61      0.64      1032\n",
      "           3       0.60      0.59      0.59      1010\n",
      "           4       0.60      0.53      0.57       982\n",
      "           5       0.55      0.51      0.53       892\n",
      "           6       0.59      0.70      0.64       958\n",
      "           7       0.64      0.71      0.67      1028\n",
      "           8       0.59      0.46      0.51       974\n",
      "           9       0.60      0.49      0.54      1009\n",
      "\n",
      "    accuracy                           0.64     10000\n",
      "   macro avg       0.58      0.58      0.58     10000\n",
      "weighted avg       0.64      0.64      0.64     10000\n",
      "\n"
     ]
    },
    {
     "name": "stderr",
     "output_type": "stream",
     "text": [
      "/usr/local/lib/python3.11/dist-packages/sklearn/metrics/_classification.py:1344: UndefinedMetricWarning: Recall and F-score are ill-defined and being set to 0.0 in labels with no true samples. Use `zero_division` parameter to control this behavior.\n",
      "  _warn_prf(average, modifier, msg_start, len(result))\n",
      "/usr/local/lib/python3.11/dist-packages/sklearn/metrics/_classification.py:1344: UndefinedMetricWarning: Recall and F-score are ill-defined and being set to 0.0 in labels with no true samples. Use `zero_division` parameter to control this behavior.\n",
      "  _warn_prf(average, modifier, msg_start, len(result))\n",
      "/usr/local/lib/python3.11/dist-packages/sklearn/metrics/_classification.py:1344: UndefinedMetricWarning: Recall and F-score are ill-defined and being set to 0.0 in labels with no true samples. Use `zero_division` parameter to control this behavior.\n",
      "  _warn_prf(average, modifier, msg_start, len(result))\n"
     ]
    }
   ],
   "source": [
    "import numpy as np\n",
    "import torch\n",
    "import gc\n",
    "\n",
    "\n",
    "pred_labels = []\n",
    "true_labels = []\n",
    "\n",
    "for img, label in test_loader:\n",
    "    img = torch.squeeze(img).to(device)\n",
    "    img = img.reshape(-1)\n",
    "    img = W_oja.T @ img\n",
    "    true_labels.append(label)\n",
    "    pred_labels.append(layer.get_predict(img))\n",
    "\n",
    "\n",
    "\n",
    "from sklearn.metrics import accuracy_score, precision_score, recall_score, f1_score, confusion_matrix, classification_report\n",
    "\n",
    "\n",
    "\n",
    "accuracy = accuracy_score(true_labels, pred_labels)\n",
    "\n",
    "precision = precision_score(true_labels, pred_labels, average='weighted')\n",
    "\n",
    "recall = recall_score(true_labels, pred_labels, average='weighted')\n",
    "\n",
    "f1 = f1_score(true_labels, pred_labels, average='weighted')\n",
    "\n",
    "conf_matrix = confusion_matrix(true_labels, pred_labels)\n",
    "\n",
    "accuracy = accuracy_score(true_labels, pred_labels)\n",
    "\n",
    "f1 = f1_score(true_labels, pred_labels, average='weighted')\n",
    "\n",
    "# Матрица ошибок\n",
    "conf_matrix = confusion_matrix(true_labels, pred_labels)\n",
    "\n",
    "# Полный отчёт по всем классам\n",
    "classification_rep = classification_report(true_labels, pred_labels)\n",
    "\n",
    "# Вывод результатов\n",
    "print(f\"Accuracy: {accuracy:.4f}\")\n",
    "print(f\"Precision: {precision:.4f}\")\n",
    "print(f\"Recall: {recall:.4f}\")\n",
    "print(f\"F1-score: {f1:.4f}\")\n",
    "print(\"\\nConfusion Matrix:\")\n",
    "print(conf_matrix)\n",
    "print(\"\\nClassification Report:\")\n",
    "print(classification_rep)\n"
   ]
  },
  {
   "cell_type": "code",
   "execution_count": 38,
   "metadata": {
    "execution": {
     "iopub.execute_input": "2025-05-07T17:30:27.863400Z",
     "iopub.status.busy": "2025-05-07T17:30:27.863134Z",
     "iopub.status.idle": "2025-05-07T17:30:27.868727Z",
     "shell.execute_reply": "2025-05-07T17:30:27.868068Z",
     "shell.execute_reply.started": "2025-05-07T17:30:27.863384Z"
    }
   },
   "outputs": [
    {
     "name": "stdout",
     "output_type": "stream",
     "text": [
      "[{8: 1, 3: 1}, {1: 127, 2: 12, 3: 2, 8: 3}, {4: 1}, {2: 1, 7: 1}, {8: 6, 7: 5, 9: 2, 2: 1}, {4: 2}, {5: 6, 6: 11, 2: 1, 3: 1, 4: 2}, {4: 16, 9: 41, 8: 7, 7: 1, 2: 5, 5: 1}, {5: 5, 6: 7, 8: 4}, {5: 3, 3: 3, 6: 1}, {4: 2, 8: 2, 6: 7, 5: 1}, {1: 13, 8: 6, 2: 2, 4: 1}, {0: 2}, {5: 9, 8: 28, 7: 6, 2: 12, 3: 5, 6: 1}, {5: 3, 6: 13, 7: 1, 9: 3, 0: 1, 8: 2, 2: 2, 4: 1}, {7: 3, 3: 3, 5: 10}, {3: 26, 7: 21, 8: 4, 9: 8, 4: 4, 5: 3, 6: 1}, {3: 2, 6: 2, 0: 7}, {8: 64, 5: 66, 3: 84, 0: 1, 2: 4}, {5: 4, 2: 4, 1: 1, 3: 2, 9: 1, 7: 1}, {4: 6, 9: 5, 3: 1, 7: 1}, {}, {4: 9, 8: 117, 2: 16, 1: 8, 7: 21, 3: 39, 9: 8, 5: 1}, {0: 27, 9: 33, 8: 14, 7: 83, 4: 1, 3: 3, 5: 2}, {2: 1, 9: 25, 7: 31, 5: 2, 8: 10, 4: 1}, {}, {7: 87, 3: 14, 8: 3, 5: 1, 1: 1, 2: 2}, {4: 11, 8: 2, 3: 8, 5: 2, 7: 2, 6: 1, 1: 1, 9: 1}, {8: 28, 3: 2, 5: 1, 9: 1, 2: 2}, {7: 67, 4: 19, 9: 9, 2: 5, 1: 4}, {6: 71, 4: 13, 9: 5, 8: 1, 2: 2}, {3: 23, 0: 19, 8: 1, 2: 4}, {7: 2, 0: 1, 8: 3, 5: 2, 4: 1}, {9: 3, 3: 12, 8: 4, 5: 3}, {6: 41, 8: 4, 2: 5, 3: 10, 5: 3, 4: 11, 1: 5, 9: 2}, {8: 6}, {9: 19, 3: 18, 5: 3, 4: 5}, {8: 2, 2: 2}, {1: 1, 3: 55, 5: 1, 9: 1, 0: 3, 7: 1, 8: 1}, {5: 6, 6: 1, 0: 1}, {2: 7, 3: 3, 8: 5, 7: 2, 4: 1}, {7: 1, 8: 1}, {9: 1, 8: 1}, {2: 9, 8: 5, 3: 8}, {8: 6, 2: 1, 9: 2}, {2: 4, 3: 2, 8: 1}, {4: 1, 6: 1}, {5: 36, 2: 1, 0: 5, 3: 47, 8: 9, 9: 2}, {}, {2: 2, 8: 3, 9: 3, 7: 1, 4: 4}, {8: 15, 7: 7, 3: 3, 2: 7, 6: 4, 0: 2, 1: 1}, {6: 1}, {8: 7, 2: 9, 1: 1, 5: 3, 9: 1}, {5: 1}, {8: 5, 2: 9, 3: 1}, {6: 29, 3: 3, 2: 5, 0: 1, 1: 9, 8: 120, 4: 2, 9: 4, 5: 7, 7: 4}, {2: 4, 4: 1, 7: 1, 5: 3, 8: 1}, {6: 141, 0: 396, 7: 13, 9: 17, 4: 10, 5: 36, 2: 8, 3: 1, 8: 2}, {0: 80, 5: 11, 9: 3, 3: 1, 7: 4}, {4: 1}, {5: 28, 9: 66, 8: 45, 6: 5, 0: 16, 1: 7, 3: 2, 4: 4, 7: 4, 2: 2}, {7: 60, 9: 109, 4: 90, 5: 24, 2: 1, 3: 4, 8: 1}, {8: 2, 4: 6, 5: 1, 9: 2, 7: 5, 6: 1, 0: 1}, {5: 1, 4: 16, 8: 1}, {8: 32, 3: 1, 6: 2, 4: 5, 2: 2, 5: 4, 7: 2}, {9: 182, 4: 211, 7: 205, 8: 38, 5: 73, 3: 7, 1: 4, 6: 1}, {5: 2, 4: 1, 9: 2, 2: 1}, {2: 7, 4: 2, 6: 1, 5: 1}, {8: 2, 7: 5, 2: 1}, {0: 2, 2: 2, 9: 1}, {5: 43, 8: 11, 3: 6, 2: 2}, {9: 2, 5: 1}, {5: 1, 8: 5, 7: 4, 9: 7, 3: 1, 4: 1}, {2: 10, 3: 25, 4: 1}, {9: 7, 7: 2, 4: 6}, {5: 45, 7: 4, 0: 9, 3: 8, 6: 4, 8: 6, 2: 1}, {7: 3, 9: 1, 6: 1}, {4: 12, 7: 3, 5: 7, 2: 13, 3: 2, 9: 3, 8: 1}, {8: 2, 4: 3, 9: 1}, {9: 3, 7: 1, 5: 4, 4: 5, 3: 1}, {9: 12, 4: 11, 7: 3, 8: 1}, {6: 9, 3: 43, 5: 29, 8: 7, 0: 27, 9: 1}, {2: 3, 4: 1, 5: 4, 0: 1}, {3: 17, 5: 45, 8: 18, 2: 10, 6: 1}, {7: 37, 8: 5, 5: 12, 9: 2, 3: 1, 4: 1}, {8: 1, 3: 1}, {3: 45, 5: 24, 2: 1}, {5: 1, 8: 1}, {2: 68, 3: 16, 4: 1, 1: 5}, {9: 2, 5: 14, 8: 1, 4: 6}, {4: 1, 8: 66, 5: 33, 3: 49, 6: 2, 9: 1, 0: 1, 1: 1, 2: 3}, {2: 97, 6: 32, 9: 1, 8: 2, 4: 19, 7: 1, 0: 4}, {3: 3, 5: 4, 7: 7, 1: 5, 8: 11}, {8: 10, 3: 5, 4: 3, 5: 4, 9: 1, 2: 1}, {2: 3, 4: 1, 8: 1}, {8: 1, 2: 1}, {4: 48, 7: 78, 9: 59, 5: 1, 0: 1}, {3: 5, 5: 1, 0: 1, 2: 2, 8: 2}, {7: 31, 8: 15, 5: 8, 3: 11, 2: 8}, {4: 2}, {2: 2, 5: 2, 8: 1}, {2: 1}, {2: 3, 1: 1}, {4: 5, 9: 3}, {9: 4, 4: 1, 7: 1, 5: 5, 3: 4, 8: 1}, {2: 13, 1: 38, 3: 8, 7: 10, 9: 1, 8: 3, 5: 4}, {2: 3, 4: 1, 7: 1}, {5: 3, 9: 27, 3: 4, 8: 17, 7: 1, 4: 2}, {5: 2, 8: 1, 4: 2}, {1: 1424, 3: 83, 7: 9, 6: 25, 2: 157, 8: 69, 5: 8}, {8: 12, 7: 6, 9: 11, 0: 11, 6: 17, 5: 11, 4: 2, 3: 8}, {4: 21, 9: 81, 5: 79, 8: 15, 3: 6, 6: 1}, {6: 165, 4: 5, 5: 3, 8: 4, 3: 2, 2: 3, 9: 2}, {}, {2: 2, 7: 2, 8: 1, 4: 1}, {3: 36, 1: 51, 5: 36, 8: 3, 2: 9, 6: 2, 9: 1}, {4: 6, 5: 2, 8: 2, 9: 1}, {2: 2, 5: 3, 7: 1, 3: 3, 6: 3}, {9: 6, 7: 13, 4: 3, 8: 3, 2: 1}, {2: 1, 8: 3}, {9: 98, 8: 34, 0: 5, 4: 82, 7: 8, 5: 19, 3: 1}, {8: 1}, {4: 1, 2: 7, 9: 2, 0: 1, 3: 2, 1: 1, 8: 1}, {0: 238, 8: 22, 2: 10, 5: 24, 9: 1}, {1: 1, 5: 1, 4: 1}, {0: 8, 4: 2, 6: 2, 5: 4, 8: 1}, {4: 2, 2: 18, 7: 2, 1: 3}, {8: 14, 5: 3, 2: 1, 3: 1, 7: 1}, {8: 1, 5: 3, 6: 2, 7: 1}, {9: 2, 2: 1, 6: 1}, {2: 1, 8: 1}, {8: 5, 1: 27}, {5: 8, 3: 3, 8: 1, 6: 2, 0: 4}, {8: 41, 6: 1, 3: 4, 5: 15, 4: 1, 0: 2, 2: 1, 9: 1}, {3: 256, 2: 16, 8: 15, 5: 2, 9: 1, 0: 1}, {5: 1, 8: 2}, {5: 31, 2: 2, 8: 9, 0: 6, 3: 2}, {3: 9, 2: 3, 9: 1}, {6: 17, 2: 12, 8: 10, 9: 3, 1: 2, 5: 6, 4: 1, 3: 1}, {3: 7, 8: 3, 4: 1, 2: 2, 5: 3, 0: 1}, {8: 22, 5: 10, 6: 15, 7: 1, 0: 3, 3: 1}, {4: 7}, {8: 2, 2: 3, 5: 1, 3: 1}, {5: 3, 8: 1}, {5: 16, 3: 2, 6: 30, 0: 45, 8: 7, 7: 2, 9: 1, 4: 4, 2: 1}, {3: 2}, {6: 7, 7: 3, 8: 4, 2: 8, 4: 6}, {6: 66, 1: 1}, {5: 95, 9: 5, 4: 8, 8: 21, 2: 4, 7: 15, 6: 4}, {9: 3, 0: 3, 2: 2, 4: 1, 7: 13, 3: 1, 5: 1, 8: 1}, {3: 1}, {3: 23, 5: 8, 0: 1, 8: 1}, {8: 3, 7: 2, 9: 3}, {5: 9, 1: 50, 3: 22, 8: 1}, {2: 21, 8: 1, 6: 4, 5: 1}, {7: 2, 4: 1}, {8: 1, 4: 1, 2: 1}, {6: 3}, {6: 3}, {9: 4, 4: 1, 7: 4, 8: 1}, {1: 436, 9: 12, 7: 35, 3: 27, 8: 3, 2: 19, 5: 1}, {8: 1}, {7: 4, 6: 2}, {6: 6}, {5: 29, 3: 5, 6: 8, 9: 1, 1: 1}, {5: 13, 6: 4, 2: 6}, {8: 1}, {7: 2, 9: 5, 8: 2, 4: 1, 2: 1}, {4: 94, 9: 28, 2: 2, 6: 12, 5: 3, 8: 1, 7: 2, 0: 4}, {2: 6, 3: 1, 8: 1, 0: 1}, {9: 19, 4: 12, 2: 1, 6: 4}, {5: 1}, {5: 2}, {8: 1}, {4: 49, 8: 4, 6: 99, 9: 61, 7: 39, 0: 35, 2: 8, 5: 2, 3: 1}, {6: 1}, {8: 5, 4: 1, 9: 6, 5: 1}, {8: 4, 3: 4, 2: 1, 4: 3, 7: 6}, {7: 4, 3: 4, 5: 3, 0: 1}, {3: 13, 8: 1, 2: 5, 9: 2, 7: 1, 4: 2, 5: 1}, {2: 4, 4: 1, 9: 1, 7: 2, 3: 1}, {3: 14, 8: 7, 1: 2, 9: 1, 7: 1}, {}, {4: 4, 8: 1, 6: 6}, {3: 4, 8: 1, 2: 1}, {6: 9, 2: 6, 3: 1, 0: 1}, {3: 2, 5: 2}, {6: 17, 4: 2, 9: 3, 0: 1}, {5: 5, 8: 2}, {4: 1, 0: 1}, {9: 3, 2: 1, 6: 1, 8: 1}, {2: 4, 6: 2, 0: 1}, {9: 2}, {0: 2, 2: 1, 5: 1}, {9: 33, 4: 58, 8: 1, 6: 1}, {7: 8, 5: 19, 0: 9, 4: 50, 6: 20, 2: 15, 9: 11, 8: 1, 3: 2}, {3: 2, 5: 1, 8: 1}, {8: 1}, {3: 22, 4: 5, 2: 2, 9: 2, 7: 1, 8: 1}, {8: 6, 3: 1, 1: 1}, {8: 62, 3: 36, 2: 2, 5: 2, 6: 1, 9: 1}, {5: 2, 6: 1, 0: 1, 3: 1, 2: 2}, {2: 68, 3: 3, 9: 1, 7: 1, 8: 2, 6: 3, 4: 1}, {5: 2}, {4: 57, 8: 45, 1: 16, 2: 7, 5: 4, 7: 2, 9: 1, 6: 1}, {}, {7: 1}, {4: 1, 8: 3, 9: 1, 5: 3, 6: 1}, {6: 24, 8: 19, 5: 2, 2: 4, 4: 1}, {8: 20, 3: 6}, {9: 3, 4: 1, 2: 4, 6: 1, 3: 2}, {7: 41, 1: 158, 9: 2, 3: 14, 2: 5, 4: 3, 8: 12}, {0: 59, 4: 11, 7: 1, 6: 9, 9: 2, 8: 1, 2: 2}, {}, {9: 25, 6: 53, 7: 12, 4: 43, 2: 35, 3: 3, 8: 2}, {9: 18, 8: 1}, {}, {7: 94, 9: 21, 1: 2, 4: 8, 2: 1}, {5: 138, 3: 23, 2: 2, 8: 8, 6: 4, 1: 1, 0: 2}, {9: 1, 3: 5, 0: 1}, {5: 33, 3: 4, 8: 8, 6: 4, 4: 1, 0: 3}, {5: 2, 3: 2}, {2: 1}, {2: 2, 3: 2, 7: 2, 4: 1}, {0: 3}, {4: 25, 1: 16, 5: 2, 7: 3, 9: 15, 2: 7, 8: 2, 3: 4}, {7: 204, 4: 34, 9: 8, 8: 2}, {7: 34, 3: 10, 8: 2}, {9: 12, 4: 4, 7: 2, 5: 2}, {6: 37, 0: 12, 5: 12, 8: 2, 3: 1}, {6: 9, 8: 2, 5: 1}, {2: 7, 5: 1, 6: 2}, {3: 5, 6: 60, 4: 4, 2: 4, 1: 1, 5: 1, 0: 1}, {}, {5: 1, 2: 1}, {8: 11, 9: 2}, {1: 1108, 6: 5, 9: 31, 7: 30, 3: 4, 4: 12, 5: 11, 2: 2, 8: 1}, {4: 1}, {7: 36, 8: 14, 9: 7, 1: 7, 4: 1, 2: 2}, {2: 6, 3: 1, 0: 2, 8: 1}, {8: 38, 1: 131, 3: 9, 6: 6, 9: 2, 5: 7, 2: 5, 4: 3}, {3: 1, 7: 5}, {0: 25, 7: 3, 5: 3, 9: 1}, {5: 4, 4: 1, 9: 5, 8: 3}, {4: 5, 9: 2, 7: 1, 5: 1}, {8: 3, 5: 1}, {9: 2, 6: 76, 4: 7, 5: 2, 0: 8, 2: 5}, {2: 3, 8: 1}, {7: 10, 2: 5, 9: 1, 3: 1, 4: 1}, {4: 12, 7: 2, 5: 8, 6: 3, 3: 3, 2: 1, 9: 2}, {8: 53, 5: 72, 3: 1}, {7: 5, 3: 10, 0: 1, 5: 2, 9: 1}, {1: 4, 6: 1, 8: 1}, {4: 12, 8: 1, 6: 20, 9: 5, 5: 1}, {4: 3}, {6: 3, 0: 7, 2: 1, 3: 3}, {7: 107, 1: 154, 8: 63, 9: 68, 4: 17, 2: 17, 3: 3, 5: 1, 6: 1}, {4: 53, 2: 10, 6: 5, 9: 1, 8: 1, 5: 1}, {9: 1, 8: 1}, {3: 30, 8: 7, 5: 1, 2: 2}, {0: 13, 7: 17, 2: 19, 5: 2, 8: 2, 9: 4, 6: 1, 3: 1}, {1: 876, 2: 115, 8: 40, 3: 23, 5: 4, 6: 2}, {9: 3, 6: 1, 4: 6, 8: 3}, {8: 2, 3: 1, 0: 1, 2: 1, 5: 1}, {7: 8, 5: 2, 9: 2, 8: 1, 3: 1, 6: 1}, {5: 2, 6: 2, 3: 67, 8: 11, 2: 1, 9: 2, 7: 1, 0: 1}, {2: 216, 8: 8, 7: 2, 6: 6, 5: 3}, {6: 14, 0: 3, 2: 1, 3: 7, 5: 2, 8: 1}, {2: 8, 3: 4, 5: 1, 8: 1}, {3: 2, 8: 1}, {8: 1}, {7: 6, 4: 8, 3: 1, 8: 8, 6: 1}, {8: 2, 3: 1, 2: 2}, {7: 5, 9: 3, 0: 3, 4: 4, 3: 1}, {5: 4, 4: 6, 3: 1, 2: 1, 9: 1}, {2: 1, 8: 3, 5: 1}, {9: 186, 4: 232, 5: 16, 8: 6, 2: 2}, {2: 45, 3: 7, 9: 1, 7: 1, 8: 1, 5: 1}, {0: 1}, {5: 4, 7: 1}, {8: 4, 5: 1}, {6: 5, 2: 1}, {7: 9, 3: 1}, {2: 4, 8: 1, 6: 1}, {7: 588, 3: 3, 5: 9, 9: 45, 0: 21, 2: 13, 4: 6, 6: 1, 8: 1}, {8: 7, 6: 1}, {5: 4, 3: 1, 8: 2}, {4: 30, 6: 13, 9: 5, 5: 1, 8: 3}, {8: 27, 3: 4, 4: 1}, {5: 1, 8: 2, 4: 1}, {4: 5, 7: 16, 1: 3, 5: 1}, {9: 36, 2: 8, 6: 3, 7: 5, 4: 13, 3: 2, 5: 5}, {1: 300, 5: 47, 4: 10, 2: 22, 7: 48, 8: 23, 3: 8, 9: 14, 6: 14, 0: 1}, {8: 1}, {9: 3, 4: 12, 5: 8, 7: 3}, {7: 6, 5: 3, 8: 1, 2: 1}, {3: 14, 5: 1, 6: 1, 2: 1, 8: 1}, {4: 1, 2: 6, 6: 2, 8: 16, 3: 10, 5: 1}, {8: 2, 4: 11}, {3: 6, 7: 20, 9: 8, 0: 1}, {4: 1, 8: 3, 6: 1, 3: 1}, {}, {0: 6, 8: 1, 5: 5, 3: 7, 9: 1, 7: 2}, {4: 72, 2: 11, 0: 3, 9: 15, 7: 2, 8: 4, 5: 1}, {2: 2, 3: 5}, {7: 1, 2: 1, 3: 2, 6: 1}, {5: 1}, {3: 16, 6: 1, 0: 3, 5: 1, 7: 2}, {9: 11, 5: 8, 0: 1}, {5: 64, 3: 192, 1: 1, 9: 7, 4: 1, 8: 1}, {0: 18, 6: 4, 5: 1, 2: 1}, {3: 223, 5: 51, 0: 5, 8: 21, 2: 5, 9: 2}, {7: 45, 3: 20, 8: 7, 9: 72, 4: 24, 5: 14, 2: 2, 6: 4}, {8: 21, 9: 1, 2: 3, 3: 3}, {4: 10, 7: 3, 9: 7, 6: 2, 5: 4, 8: 4, 2: 1}, {5: 4, 8: 8, 2: 1}, {4: 27, 7: 18, 5: 3, 9: 13, 0: 2, 8: 1}, {5: 2, 8: 1}, {8: 52, 7: 2, 4: 2, 5: 2}, {0: 16, 9: 1, 8: 5, 5: 1, 2: 3}, {2: 17, 0: 1, 3: 19, 5: 2, 7: 1}, {5: 4, 1: 3, 7: 4, 4: 3, 6: 2, 9: 1}, {}, {9: 1, 2: 1, 6: 1}, {8: 7}, {2: 4, 1: 3, 4: 1, 8: 1, 9: 1, 6: 1}, {7: 9, 9: 74, 5: 7, 3: 5, 8: 1, 4: 13}, {0: 11, 3: 4, 2: 1, 5: 1}, {2: 3, 8: 2, 3: 1, 5: 1}, {2: 7, 6: 2}, {2: 4, 8: 2, 4: 1, 9: 1}, {5: 2, 8: 3, 0: 1, 3: 4}, {8: 1, 3: 1}, {4: 1, 9: 1}, {7: 36, 9: 48, 6: 1, 4: 21, 5: 14, 2: 1}, {0: 113, 5: 35, 2: 2, 3: 7, 9: 1, 6: 1, 8: 3}, {3: 17, 5: 4, 8: 4, 9: 2, 0: 1, 7: 1}, {8: 4, 5: 22, 3: 4}, {3: 12, 8: 19, 5: 1}, {7: 1, 9: 8, 8: 1}, {6: 42, 4: 21, 2: 2, 5: 2, 0: 1, 7: 1}, {7: 9, 9: 6, 4: 3, 2: 1, 8: 2, 5: 2}, {8: 96, 3: 22, 9: 4, 5: 64, 6: 1}, {3: 53, 5: 69, 9: 1, 8: 5, 0: 5, 2: 2}, {3: 43, 2: 73, 8: 22, 9: 2}, {9: 56, 4: 88, 7: 8, 8: 1, 6: 26, 0: 4, 5: 1}, {3: 3, 9: 1, 4: 1, 2: 3, 8: 1}, {8: 13, 7: 3, 2: 2}, {0: 121, 2: 38, 3: 2, 9: 5, 8: 4}, {5: 6, 7: 9, 9: 1, 3: 1, 4: 1}, {4: 11, 6: 32, 2: 25, 0: 1}, {5: 4, 8: 2, 2: 2}, {7: 7, 4: 2, 6: 1, 2: 3}, {6: 2, 4: 2, 1: 2, 8: 1}, {8: 15, 2: 1, 5: 1}, {4: 18, 7: 4, 8: 2, 2: 2}, {8: 2, 5: 1}, {8: 1, 2: 1}, {2: 3, 4: 2}, {5: 15, 0: 6, 2: 1, 8: 9, 3: 4}, {9: 3, 5: 7, 3: 9, 8: 9, 4: 1}, {4: 8, 9: 51, 7: 4, 5: 3, 3: 4}, {6: 32, 7: 4, 5: 6, 3: 5, 2: 2, 4: 4, 8: 1, 1: 2}, {6: 144, 2: 2, 4: 78, 5: 90, 9: 9, 3: 28, 0: 3, 8: 1}, {2: 1}, {0: 1, 2: 1, 9: 2, 7: 1}, {3: 20, 8: 14, 2: 34, 0: 1}, {3: 1, 2: 2}, {}, {3: 2, 5: 8, 8: 1}, {9: 404, 5: 119, 4: 74, 8: 53, 7: 32, 3: 15, 2: 3, 0: 2, 6: 1}, {2: 2, 9: 1}, {5: 20, 3: 1}, {7: 55, 1: 40, 4: 48, 9: 27, 2: 12, 3: 3, 8: 1}, {2: 1}, {2: 12, 8: 3, 3: 1}, {8: 6, 2: 5, 0: 1}, {8: 89, 3: 2, 9: 5, 5: 6, 6: 5, 2: 3, 0: 1}, {8: 9, 0: 1}, {0: 25, 7: 3, 9: 2}, {8: 10, 2: 11, 9: 1, 6: 7, 4: 1}, {3: 1, 6: 54, 0: 10, 2: 9, 7: 2, 4: 12, 5: 3}, {8: 1, 5: 3, 3: 3}, {6: 10, 7: 12, 9: 2, 4: 6, 3: 2}, {7: 2, 2: 2, 9: 1}, {2: 7, 6: 6, 0: 2}, {3: 106, 8: 7, 5: 4, 2: 2}, {7: 2, 5: 10, 2: 6, 3: 3, 8: 1, 1: 5, 6: 2, 0: 2}, {4: 4, 6: 60, 2: 3, 0: 13, 5: 7, 8: 1, 3: 1}, {2: 6, 9: 60, 8: 10, 4: 47, 7: 1, 3: 1}, {9: 5, 4: 10, 8: 2}, {4: 89, 1: 41, 7: 44, 9: 24, 2: 3, 8: 3, 6: 1, 3: 1}, {6: 13, 1: 1, 3: 1, 4: 3, 5: 9, 9: 1}, {4: 3, 6: 1, 0: 7, 7: 4, 2: 1}, {5: 8, 8: 28, 3: 15, 2: 3}, {6: 8, 1: 2, 5: 4, 8: 6}, {5: 1}, {2: 15, 5: 32, 3: 4, 1: 8, 7: 3, 0: 1, 8: 7, 6: 11, 4: 1}, {2: 20, 8: 10, 7: 3, 4: 6, 3: 2, 0: 1, 5: 2}, {6: 14, 4: 1, 2: 14, 7: 13, 3: 4, 1: 1, 9: 2}, {8: 2, 3: 2, 2: 11, 7: 1, 5: 1}, {4: 18, 2: 13, 5: 8, 8: 2, 9: 3}, {4: 2}, {5: 14, 9: 1, 8: 12, 4: 1}, {2: 3, 6: 3, 8: 1, 3: 3, 5: 1}, {5: 2}, {6: 421, 5: 2, 8: 1, 3: 1, 2: 1, 4: 2}, {6: 23, 1: 8, 3: 33, 8: 4, 2: 5, 5: 3, 0: 1}, {0: 23, 9: 7, 3: 29, 5: 1, 2: 8, 8: 2}, {2: 12, 4: 7, 8: 2}, {6: 21, 2: 5, 0: 3, 3: 1}, {3: 12, 7: 20, 2: 3, 8: 1}, {3: 3, 7: 2, 5: 2, 8: 1}, {6: 2, 9: 6, 4: 3}, {6: 3, 2: 3, 0: 1, 8: 1}, {2: 2}, {3: 4, 8: 2, 5: 11, 0: 1}, {5: 4, 9: 10, 6: 1, 8: 1, 4: 1}, {3: 6, 2: 3, 4: 1, 7: 1, 9: 1, 5: 2}, {4: 2, 7: 3, 2: 1}, {2: 1}, {0: 22, 3: 4, 5: 25, 6: 2, 2: 1}, {8: 179, 1: 3, 2: 2, 5: 1}, {3: 2}, {4: 14, 3: 1, 0: 1, 9: 2, 8: 1, 6: 1, 7: 1}, {4: 2, 9: 1, 6: 1}, {4: 440, 9: 319, 7: 14, 8: 14, 2: 3, 6: 4, 5: 3, 3: 4}, {3: 20, 5: 15, 4: 1, 6: 1}, {9: 6, 8: 3, 4: 3, 2: 3}, {9: 22, 7: 9, 4: 10, 8: 2, 2: 2, 5: 2}, {7: 3, 4: 13, 2: 1, 8: 2}, {3: 17, 7: 1, 8: 2}, {5: 44, 3: 15, 8: 1, 0: 2, 9: 1}, {2: 79, 5: 12, 3: 8, 1: 8, 6: 5, 8: 12, 0: 1}, {2: 1, 3: 1}, {8: 17, 7: 18, 3: 2, 6: 1, 2: 5}, {8: 39, 5: 9, 3: 101, 9: 2}, {6: 17, 2: 2, 5: 1, 8: 1, 4: 1}, {8: 7, 4: 47, 9: 20, 2: 3, 6: 1}, {2: 8, 6: 1}, {5: 2, 3: 1, 2: 1, 6: 1, 9: 1, 8: 4}, {9: 90, 2: 1, 1: 1, 4: 16, 8: 6, 5: 2, 6: 1, 3: 1}, {9: 2, 4: 1, 8: 2, 6: 1}, {4: 6, 5: 1, 8: 4, 1: 2, 2: 1, 6: 3}, {4: 26, 5: 1, 8: 2}, {5: 4, 3: 1}, {8: 3, 5: 1, 2: 1}, {1: 27, 8: 11, 3: 7, 5: 3, 2: 1, 7: 1}, {1: 7, 6: 3, 4: 7, 2: 2, 8: 1}, {6: 1, 4: 1}, {4: 1, 2: 1}, {5: 30, 4: 2, 2: 4, 8: 10, 7: 1, 3: 1, 6: 1}, {4: 18, 0: 30, 2: 18, 6: 7, 8: 5, 9: 6, 3: 10, 5: 3}, {2: 2, 5: 1, 7: 1}, {9: 18, 3: 1, 2: 2, 6: 5, 4: 6, 5: 12, 7: 1, 8: 1}, {7: 2, 0: 1}, {8: 7, 7: 11, 4: 4, 9: 4, 3: 3, 2: 2}, {8: 19, 2: 52, 7: 1, 0: 1}, {0: 11, 6: 25, 5: 8, 4: 6, 9: 3, 2: 9, 8: 1, 7: 1}, {9: 7, 4: 99, 2: 12, 8: 64, 3: 3, 7: 1}, {4: 2, 8: 1}, {1: 146, 8: 5, 9: 4, 2: 7, 4: 1, 7: 19, 3: 4}, {0: 9, 2: 1, 7: 3, 8: 2, 9: 1}, {4: 13, 5: 2, 0: 1, 8: 1}, {9: 1, 3: 4}, {2: 38, 0: 182, 3: 16, 8: 49, 6: 13, 5: 21, 9: 1, 4: 1}, {2: 16, 6: 22, 4: 105, 7: 4, 9: 55, 5: 5, 8: 2, 0: 5, 3: 1}, {7: 3, 0: 1, 4: 1, 5: 1}, {5: 4, 4: 4, 2: 2, 9: 2, 7: 1, 8: 2}, {2: 10, 6: 2, 0: 6, 4: 2, 3: 1, 5: 2, 9: 1}, {4: 76, 6: 4}, {1: 279, 8: 7, 3: 1, 6: 1}, {4: 13, 2: 6, 0: 6, 9: 1, 6: 2, 5: 1}, {9: 27, 4: 14, 8: 4, 7: 3}, {5: 1}, {5: 9, 3: 67, 1: 10, 2: 12, 4: 1, 8: 1}, {4: 30, 2: 37, 6: 8}, {0: 1, 4: 1, 2: 4}, {4: 1, 2: 4, 5: 2, 3: 1}, {9: 1, 6: 1}, {8: 1, 2: 6, 0: 1}, {8: 36, 6: 11, 3: 3, 2: 2, 5: 1}, {4: 28, 3: 8, 5: 5, 8: 9, 7: 2, 2: 1}, {8: 10, 5: 4, 3: 21, 0: 12, 9: 7}, {3: 1}, {1: 1, 0: 1, 3: 1}, {9: 3, 4: 3, 3: 1, 8: 1, 5: 1}, {3: 138, 6: 27, 9: 2, 8: 54, 5: 57, 2: 4, 0: 11, 4: 1}, {4: 1}, {8: 1}, {3: 197, 5: 8, 8: 3, 6: 1, 2: 1}, {3: 1, 7: 1, 2: 1, 0: 1}, {6: 4, 0: 1, 8: 1}, {9: 6, 2: 4, 4: 18, 1: 1, 7: 5, 6: 2, 3: 1}, {5: 1, 2: 2, 0: 1}, {0: 729, 6: 22, 2: 1, 5: 4, 7: 1, 9: 1}, {3: 4, 8: 9, 5: 1, 9: 1}, {5: 2}, {2: 131, 8: 8, 7: 3, 3: 1, 9: 1}, {8: 5, 4: 25, 6: 3, 9: 3, 5: 1, 0: 1}, {2: 7, 3: 4, 5: 3, 8: 4}, {8: 3, 5: 1}, {6: 8, 8: 3, 2: 5, 9: 1, 7: 4, 1: 4, 4: 2, 5: 1}, {9: 2, 8: 10, 5: 1}, {4: 7, 9: 2}, {0: 63, 6: 15, 8: 10, 5: 2}, {8: 1, 6: 1, 2: 1}, {1: 1, 6: 1, 5: 1, 4: 1}, {3: 10, 6: 3, 2: 10, 5: 1}, {3: 3, 4: 3, 5: 1, 8: 1}, {3: 2, 2: 9, 7: 1, 5: 1}, {2: 1, 4: 1}, {7: 36, 0: 30, 5: 80, 3: 5, 6: 1, 9: 2, 2: 4, 8: 1}, {7: 2, 3: 2}, {6: 1, 8: 4, 9: 2, 4: 1}, {5: 66, 9: 5, 0: 6, 8: 6, 2: 6, 7: 1, 4: 8}, {9: 3, 8: 1, 5: 2, 6: 1}, {2: 3, 1: 143, 8: 6, 4: 2, 9: 1}, {7: 100, 2: 18, 4: 7, 8: 46, 9: 19, 3: 4}, {0: 4, 6: 1, 3: 1, 2: 1}, {6: 12, 8: 15}, {3: 20, 8: 9}, {3: 82, 1: 215, 7: 17, 8: 6, 6: 3, 9: 26, 2: 6, 4: 5, 5: 2, 0: 1}, {6: 2, 4: 1}, {1: 66, 2: 8, 5: 70, 9: 17, 8: 7, 6: 1, 4: 8}, {4: 20, 9: 2, 7: 26, 2: 3, 8: 1, 3: 2}, {4: 8, 8: 54, 3: 1, 9: 11, 5: 8, 2: 1}, {5: 37, 0: 73, 8: 13, 6: 8, 7: 1, 2: 2, 3: 3, 9: 1}, {7: 519, 3: 40, 2: 27, 9: 45, 4: 2, 1: 1, 8: 1, 6: 1}, {3: 81, 5: 46, 9: 10, 8: 13, 7: 1}, {4: 112, 7: 37, 1: 7, 9: 93, 5: 21, 2: 10, 3: 11, 0: 2, 8: 1}, {4: 2}, {2: 7, 0: 3, 3: 1}, {3: 289, 8: 127, 0: 20, 5: 19, 2: 13, 6: 3}, {3: 2, 4: 16, 8: 2, 5: 1}, {3: 6}, {8: 1, 4: 1, 3: 1}, {8: 8, 5: 1, 3: 1}, {5: 8, 4: 1, 6: 4, 8: 5}, {6: 2, 8: 5, 0: 3, 5: 3}, {5: 2, 8: 1}, {3: 53, 2: 251, 8: 48, 7: 4, 5: 1}, {9: 3, 7: 25, 5: 3, 4: 4, 3: 4, 1: 2, 0: 2, 2: 1}, {5: 16, 8: 4, 3: 3, 4: 1, 6: 2, 1: 1}, {9: 1, 8: 2, 4: 5, 7: 1, 2: 1}, {6: 23, 5: 2, 8: 3, 4: 1}, {5: 3, 8: 2, 2: 5, 4: 1, 3: 1}, {6: 2, 5: 8, 4: 4, 9: 3, 2: 1}, {6: 18, 4: 6, 2: 1}, {8: 3}, {0: 9}, {6: 208, 0: 22, 4: 14, 2: 12, 5: 1}, {8: 3}, {5: 2, 0: 3, 4: 1}, {8: 1, 2: 1, 5: 1}, {8: 5, 3: 5}, {7: 4, 8: 13, 2: 1, 4: 2}, {3: 6, 5: 17, 8: 18, 2: 1}, {9: 14, 7: 12, 8: 5, 6: 4, 1: 1, 5: 5, 4: 1, 0: 1}, {7: 14, 4: 21, 9: 7, 5: 2}, {2: 1, 1: 2, 3: 2, 5: 1}, {9: 2, 5: 4, 4: 5, 8: 1, 3: 1, 6: 1}, {9: 60, 4: 13, 3: 1, 5: 8, 7: 2, 2: 4, 6: 2, 8: 5}, {1: 1, 8: 1, 5: 1, 6: 2}, {9: 1, 8: 25, 2: 4, 6: 10, 5: 5, 0: 40, 4: 2}, {6: 59, 2: 8, 4: 1, 5: 3}, {2: 23, 0: 19, 8: 11, 6: 3, 5: 4}, {8: 66, 1: 16, 9: 5, 7: 6, 3: 4, 4: 3}, {2: 6, 4: 1, 6: 1}, {4: 6, 8: 1, 5: 1, 7: 6, 9: 1, 0: 2}, {2: 2, 4: 2, 3: 1, 9: 1, 6: 5}, {6: 4, 5: 1}, {8: 4, 6: 2}, {3: 1}, {5: 6, 9: 2, 3: 1}, {8: 2, 3: 1}, {4: 6, 6: 10, 2: 3, 5: 1, 8: 1}, {7: 26, 5: 1, 0: 2, 9: 2, 2: 1, 3: 1, 1: 1, 4: 1}, {5: 57, 3: 36, 4: 3, 8: 3}, {2: 2, 5: 4, 8: 1}, {7: 6, 8: 2, 9: 1}, {2: 1}, {5: 2, 4: 1}, {6: 4, 5: 2, 4: 2, 3: 1}, {4: 7, 9: 8, 8: 2, 7: 1, 2: 1}, {4: 11, 2: 3, 6: 36, 0: 3, 5: 1, 9: 2}, {9: 91, 4: 182, 8: 19, 6: 1, 7: 10, 3: 1, 5: 2, 2: 1}, {8: 7, 3: 5, 5: 2}, {8: 11, 2: 9, 9: 1}, {2: 5, 3: 4, 8: 11, 5: 2, 0: 1}, {8: 20, 6: 2, 3: 2, 0: 1, 5: 2, 2: 1}, {0: 1276, 5: 295, 7: 18, 3: 146, 8: 35, 9: 16, 6: 3, 2: 3, 4: 1}, {}, {2: 8, 7: 3, 8: 3, 6: 1, 0: 1}, {}, {5: 17, 3: 3, 2: 1, 1: 1}, {9: 1, 7: 6}, {3: 4, 2: 9, 5: 1, 8: 4}, {2: 29, 7: 1, 3: 1}, {6: 9, 1: 2, 0: 1, 3: 1}, {7: 3, 6: 1, 9: 1}, {4: 9}, {6: 51, 5: 39, 3: 11, 0: 4, 2: 6, 8: 2, 9: 1, 4: 1}, {2: 2, 9: 1, 4: 2}, {9: 34, 7: 18, 8: 20, 4: 13, 2: 2, 3: 6}, {2: 704, 3: 26, 0: 22, 8: 2, 5: 16, 6: 18, 4: 1, 7: 1}, {5: 44, 6: 4, 8: 1, 3: 2}, {8: 3, 6: 2, 2: 3, 3: 4, 4: 1, 0: 4, 5: 1}, {3: 18, 8: 49, 2: 20, 5: 2, 7: 4}, {2: 8, 0: 25, 5: 1, 3: 12, 8: 1}, {2: 3, 5: 9, 0: 23, 6: 8, 3: 1}, {8: 2, 9: 1, 2: 1}, {4: 3, 5: 2, 7: 1, 6: 1}, {4: 24, 9: 3}, {7: 1, 2: 2, 9: 1, 8: 1, 5: 4}, {8: 4, 5: 1, 7: 1, 9: 1, 4: 1}, {2: 5, 8: 1}, {4: 25, 9: 2, 2: 1}, {8: 3, 5: 1}, {2: 2, 5: 1, 1: 1, 6: 1, 4: 1}, {2: 25, 6: 1, 8: 4, 4: 3, 9: 1, 3: 1}, {4: 1, 2: 1, 9: 1, 6: 1}, {6: 1}, {4: 1, 2: 3, 8: 2, 3: 1}, {2: 8, 8: 4, 4: 8, 6: 9, 9: 1}, {3: 13, 9: 10, 5: 1, 1: 2, 0: 3, 4: 1, 8: 1}, {6: 11, 2: 12, 8: 3, 0: 1, 3: 1, 5: 1}, {}, {6: 2, 0: 38, 9: 1, 4: 1, 8: 1}, {3: 8, 8: 1, 4: 2}, {8: 1, 2: 2, 5: 1, 3: 1, 0: 1, 4: 1}, {4: 1, 6: 1}, {1: 7, 7: 2, 4: 1, 3: 1, 9: 3, 6: 1, 5: 2, 8: 1}, {2: 26, 6: 48, 8: 10, 9: 2, 5: 2, 3: 1}, {9: 4, 8: 6, 3: 4, 0: 1, 4: 2}, {3: 2}, {5: 19, 3: 5, 0: 1}, {5: 4, 4: 7, 8: 1, 1: 1}, {8: 18, 6: 58, 5: 5, 2: 17, 4: 7, 1: 29, 3: 9}, {0: 4, 7: 1, 6: 2, 9: 1}, {6: 5, 3: 2, 2: 4, 8: 7}, {3: 3, 8: 2, 5: 2}, {9: 2, 8: 1, 5: 1, 0: 1}, {7: 225, 4: 50, 9: 10, 5: 49, 8: 7, 1: 1, 2: 1}, {8: 1, 5: 1}, {6: 5, 2: 12, 3: 1, 5: 1, 0: 1, 9: 3, 4: 1}, {4: 12, 7: 10, 5: 75, 2: 2, 9: 13, 6: 18, 8: 3, 0: 1, 1: 1}, {}, {0: 103, 4: 35, 6: 6, 2: 2, 5: 3, 9: 1, 8: 2}, {7: 3, 2: 2, 1: 4, 9: 3, 0: 2, 5: 1}, {2: 25, 3: 9, 8: 1, 5: 1, 7: 2}, {3: 88, 7: 19, 5: 21, 8: 53, 2: 7, 9: 6}, {8: 7, 2: 1, 3: 4}, {4: 25, 8: 1, 9: 1, 2: 3, 3: 1, 7: 1}, {4: 23, 6: 4, 2: 14, 9: 27, 8: 3, 7: 25, 3: 7, 0: 1, 5: 1}, {0: 74, 5: 53, 3: 2, 6: 8, 1: 1}, {8: 1}, {1: 18, 7: 3, 8: 18, 3: 3, 4: 3, 2: 2, 5: 1}, {7: 39, 5: 17, 9: 1, 4: 2, 8: 2}, {2: 1, 8: 2}, {3: 4, 4: 1, 2: 1, 0: 2}, {}, {2: 4, 5: 1, 6: 1, 8: 5, 9: 1}, {5: 2}, {8: 1, 3: 40, 5: 3, 9: 1, 4: 1}, {9: 111, 4: 10, 7: 6, 5: 1, 3: 1}, {0: 48, 9: 2, 5: 3, 3: 1}, {5: 16, 3: 145, 2: 8, 7: 10, 4: 1, 8: 3}, {3: 11, 8: 10, 2: 1}, {5: 1}, {6: 24, 5: 1, 3: 11, 9: 1, 2: 1, 0: 1}, {7: 11, 2: 53, 9: 3, 1: 1, 0: 1, 6: 1, 4: 1}, {8: 3, 2: 1, 5: 1}, {4: 2, 5: 1, 2: 1, 6: 2}, {7: 3, 6: 1, 4: 11, 9: 3, 8: 3, 5: 2, 3: 1}, {0: 3, 2: 2, 5: 5, 8: 2}, {2: 1, 6: 5, 4: 1, 8: 1}, {4: 2, 2: 1}, {3: 7, 2: 41, 5: 4, 0: 2, 6: 2, 8: 1, 1: 1}, {8: 50, 2: 334, 1: 6, 5: 5, 6: 5, 3: 10, 7: 1, 9: 1}, {9: 6, 7: 5, 2: 3, 4: 1}, {3: 213, 4: 139, 7: 96, 9: 62, 5: 8, 8: 20, 2: 19}, {9: 40, 7: 7, 3: 1, 4: 4, 8: 4, 6: 2, 2: 1}, {2: 4, 3: 51, 8: 2, 5: 2, 7: 2}, {9: 4, 6: 5, 2: 7}, {8: 8}, {5: 2}, {2: 2, 8: 20, 6: 2, 5: 2}, {5: 98, 3: 36, 8: 5}, {7: 1, 8: 7, 2: 18, 9: 4, 4: 11, 3: 3, 6: 3}, {1: 131, 8: 59, 5: 15, 4: 6, 7: 6, 9: 22, 3: 4, 6: 1}, {8: 5, 4: 2}, {7: 45, 2: 4, 4: 5, 6: 3}, {2: 1}, {8: 2}, {8: 15, 7: 2}, {3: 6, 9: 7, 5: 9, 4: 3, 8: 4, 7: 1}, {3: 11, 7: 18, 4: 1, 5: 4, 8: 2, 9: 1}, {8: 29, 5: 7, 3: 4, 2: 4}, {5: 3, 2: 1}, {7: 1}, {4: 1}, {8: 20}, {6: 449, 9: 1, 2: 13, 0: 5, 4: 2, 3: 2, 5: 3, 7: 1}, {}, {5: 3}, {5: 2, 2: 3, 9: 1}, {5: 1, 8: 2, 2: 1, 9: 1}, {2: 1}, {6: 2, 8: 2, 2: 2, 5: 3}, {5: 6, 6: 3, 0: 5}, {0: 8, 6: 8, 2: 10, 4: 1, 8: 2, 3: 1, 5: 1}, {0: 8, 8: 6, 5: 3, 9: 1, 4: 1}, {8: 7, 3: 2, 9: 2, 2: 1}, {8: 3, 4: 1, 9: 1}, {2: 2}, {0: 4, 9: 1}, {2: 2, 8: 1}, {7: 30, 2: 4, 9: 37, 8: 1, 4: 1}, {8: 15, 3: 4, 2: 2}, {2: 134, 4: 6, 6: 11, 8: 3, 9: 3, 0: 2, 3: 2}, {2: 33, 5: 8, 6: 27, 4: 7, 3: 1, 9: 1}, {5: 16, 9: 12, 8: 3, 4: 2, 3: 4}, {5: 5, 8: 27, 9: 38, 4: 16, 3: 14, 2: 5, 6: 4, 1: 1, 7: 1}, {8: 29, 5: 10, 3: 41, 2: 2}, {4: 103, 9: 17, 8: 1}, {9: 86, 4: 9, 2: 2, 5: 3, 7: 2, 8: 4}, {0: 2, 4: 1, 8: 1}, {7: 235, 4: 17, 5: 5, 2: 13, 9: 5, 1: 2}, {2: 62, 3: 1, 8: 1, 7: 1, 6: 1}, {3: 38, 8: 22, 7: 5, 1: 1, 9: 4, 4: 1, 2: 1, 5: 3}, {2: 1, 3: 1}, {7: 9, 1: 7, 8: 3, 4: 1}, {4: 50, 7: 28, 5: 4, 2: 1, 3: 6}, {8: 6, 3: 8, 5: 1, 0: 1}, {4: 18, 7: 133, 5: 2, 9: 12, 8: 1, 2: 1}, {6: 37, 0: 4, 3: 2, 4: 1}, {8: 1, 5: 1}, {7: 232, 9: 66, 4: 10, 8: 26, 3: 10, 5: 2}, {6: 56, 9: 4, 2: 5, 7: 2, 4: 5, 5: 1, 0: 1}, {7: 32, 9: 4, 0: 6, 8: 6, 5: 3}, {3: 4, 8: 1, 7: 2}, {8: 29, 5: 5, 3: 1, 0: 1}, {}, {4: 18, 8: 3, 6: 2}, {6: 1, 9: 1, 1: 2, 8: 1}, {8: 2}, {9: 17, 7: 4, 8: 3, 4: 1}, {2: 1, 8: 5}, {3: 46, 5: 75, 4: 2, 9: 5, 8: 1}, {6: 24, 5: 8, 3: 3, 2: 3}, {2: 3, 4: 1, 9: 1, 5: 2, 3: 1, 8: 1}, {8: 5, 2: 15, 3: 2, 1: 1}, {6: 243, 0: 16, 2: 5, 5: 4}, {5: 12, 3: 24, 6: 21, 0: 4, 2: 19, 8: 3}, {9: 98, 7: 47, 4: 10, 1: 1}, {8: 12, 5: 13, 7: 1, 0: 2, 9: 3, 2: 2, 3: 1}, {8: 4, 9: 1, 2: 1, 4: 2}, {2: 8, 4: 5, 7: 1, 9: 1, 6: 1}, {3: 31, 8: 2, 2: 13, 0: 14, 5: 10}, {5: 4, 6: 5, 3: 1, 2: 2}, {}, {6: 5, 7: 7, 8: 3, 9: 3, 3: 3, 2: 4}, {5: 19, 7: 1, 0: 1, 3: 2, 8: 1}, {5: 17, 7: 1, 8: 1}, {5: 1}, {7: 1, 6: 14, 9: 3, 5: 3, 0: 1}, {8: 3, 7: 2, 3: 1}, {8: 41, 5: 32, 3: 11, 9: 1}, {9: 1, 3: 6}, {9: 76, 4: 4, 7: 19, 0: 1, 2: 1, 8: 2, 3: 1, 5: 1}, {4: 76, 9: 64, 7: 7, 6: 19, 2: 15, 8: 2, 0: 6, 5: 5}, {8: 33, 2: 15, 0: 2, 5: 2, 3: 1}, {3: 38, 8: 9, 5: 1, 2: 1, 1: 1, 9: 1}, {3: 3, 2: 11}, {7: 6, 8: 5, 2: 7, 3: 1}, {2: 4, 7: 1, 8: 1}, {1: 1, 3: 1, 2: 2, 7: 2}, {3: 1, 2: 2, 7: 1, 9: 2, 4: 1}, {9: 3, 4: 53, 5: 8, 7: 7, 8: 1}, {9: 16, 0: 2, 4: 1}, {3: 50, 5: 31, 6: 6, 4: 9, 9: 5, 8: 7, 2: 1, 1: 1}, {9: 3, 8: 19, 5: 29, 3: 3, 4: 1}, {2: 1, 6: 1, 7: 1, 5: 1}, {0: 2, 2: 2, 8: 3, 3: 5, 5: 1}, {8: 17, 5: 14, 7: 23, 4: 5, 2: 2, 9: 1, 3: 1}, {2: 3, 7: 2, 8: 1}, {8: 5, 2: 3}, {9: 16, 2: 14, 6: 11, 8: 12, 1: 2, 7: 13, 5: 3, 4: 2, 3: 4}, {2: 3, 4: 2, 8: 2}, {0: 22, 5: 2, 2: 8, 9: 2, 3: 4, 8: 2, 4: 3}, {3: 21, 5: 4, 8: 8, 1: 1, 9: 1}, {5: 10, 4: 4, 7: 10, 9: 4, 8: 1, 6: 1}, {3: 3, 8: 3, 2: 1}, {5: 45, 9: 68, 4: 46, 7: 5, 8: 1}, {}, {7: 1, 4: 4, 8: 1, 6: 2, 9: 1}, {4: 14, 9: 11, 5: 1, 7: 4, 6: 1}, {5: 5, 8: 6, 4: 3, 1: 3, 7: 2}, {7: 2}, {7: 3, 9: 7, 4: 3}, {3: 18, 4: 1, 9: 3, 8: 3, 7: 1, 2: 1, 5: 1}, {2: 2, 1: 1, 8: 2, 6: 4, 3: 1, 5: 1}, {9: 17, 2: 1, 8: 1, 7: 1, 4: 3}, {3: 38, 8: 25, 6: 13, 5: 14, 0: 2, 9: 1, 4: 1}, {9: 3, 4: 1, 5: 2, 6: 1}, {0: 72, 3: 44, 2: 14, 7: 11, 5: 6, 6: 1, 9: 1, 8: 1}, {9: 12, 2: 15, 0: 7, 6: 3, 4: 23, 8: 1, 5: 1}, {3: 17, 8: 3, 5: 5, 2: 3, 1: 1}, {2: 44, 8: 2}, {8: 2, 6: 1, 0: 1}, {7: 63, 9: 177, 4: 5, 2: 1, 8: 4, 5: 7, 0: 1, 3: 2}, {8: 7, 4: 5, 6: 1, 9: 1, 2: 1, 5: 1}, {5: 12, 0: 4}, {9: 37, 7: 28, 3: 2, 8: 1}, {6: 10, 2: 1}, {7: 170, 4: 26, 9: 46, 0: 14, 5: 3}, {3: 1}, {3: 1}, {}, {3: 14, 9: 2, 8: 35, 7: 3, 2: 3, 1: 4, 6: 1}, {7: 30, 9: 7, 2: 1, 4: 2, 8: 1}, {6: 7, 0: 121, 3: 12, 5: 5, 9: 1}, {8: 9, 5: 2}, {2: 1, 4: 7}, {5: 18, 1: 3, 6: 6, 2: 22, 8: 4, 4: 2, 3: 2}, {9: 2, 8: 1}, {2: 2, 7: 3, 5: 1, 9: 1}, {0: 228, 2: 9, 4: 19, 6: 68, 9: 11, 5: 6, 8: 2}, {6: 24, 5: 9, 4: 24, 3: 5, 2: 14, 9: 1, 0: 7}, {4: 12, 9: 1, 5: 1, 6: 1, 2: 1}, {8: 34, 4: 2, 9: 1, 5: 2}, {5: 30, 7: 96, 3: 15, 9: 86, 8: 27, 0: 4}, {6: 5, 5: 3, 4: 2, 9: 3}, {8: 14, 2: 7, 3: 1, 1: 2, 7: 1}, {8: 2, 6: 3, 5: 1, 2: 3}, {2: 28, 8: 3, 3: 3, 5: 1, 7: 1}, {2: 1, 6: 1}, {4: 9, 5: 1, 8: 4}, {9: 6, 2: 13, 0: 9, 6: 7, 4: 8, 3: 5}, {5: 5, 0: 7, 8: 7, 2: 1, 3: 4, 6: 1}, {1: 33, 9: 9, 2: 7, 4: 6, 6: 1, 7: 3}, {9: 1, 7: 1}, {2: 5, 8: 6, 1: 1, 3: 2}, {8: 2, 3: 3, 2: 3}, {5: 1, 8: 1, 2: 1, 6: 1}, {7: 86, 5: 3, 3: 3, 9: 2, 8: 6, 4: 2, 2: 1}, {5: 18, 3: 57, 6: 3, 8: 141, 9: 3, 1: 1}, {}, {8: 6, 9: 13, 3: 3, 7: 4, 2: 1}, {}, {4: 25, 5: 52, 3: 3, 7: 12, 0: 10, 8: 3, 2: 2, 9: 2}, {7: 7, 9: 4, 5: 2, 4: 5, 0: 1, 6: 1}, {5: 11, 6: 108, 7: 6, 4: 9, 0: 3, 8: 2, 3: 1, 9: 1}, {8: 4, 5: 1}, {5: 13, 4: 2, 1: 1}, {3: 6, 6: 6, 5: 5, 2: 3, 0: 7, 8: 8, 4: 2}, {7: 1, 3: 1, 5: 1}, {8: 1, 2: 2}, {5: 24, 1: 8, 8: 1}, {6: 516, 8: 17, 2: 5, 5: 4, 3: 2}, {6: 1, 9: 14, 4: 5, 7: 6, 8: 1}, {9: 8, 5: 21, 8: 10, 4: 1, 6: 8}, {3: 30, 0: 54, 8: 22, 5: 15, 2: 1}, {2: 3, 5: 1}, {3: 4, 6: 1, 2: 1}, {4: 26, 9: 2, 3: 1}, {3: 38, 2: 5, 5: 11, 8: 5, 6: 1}, {0: 14, 8: 3, 2: 11, 5: 16, 6: 4, 3: 5, 4: 1}, {9: 19, 6: 1, 4: 3, 8: 1}, {9: 1}, {8: 1, 2: 15, 6: 6, 3: 2}, {3: 38, 7: 109, 9: 86, 2: 32, 8: 18, 5: 6, 0: 4, 4: 1}, {8: 2, 5: 1, 4: 1}, {5: 29, 4: 1, 8: 1, 9: 1}, {2: 2}, {7: 43, 8: 3, 5: 4, 4: 2, 9: 6}, {6: 7, 2: 1, 4: 1}, {4: 2, 8: 14, 5: 22, 9: 9, 3: 2, 7: 1, 2: 1}, {8: 9, 0: 21, 9: 6, 6: 3, 5: 9, 4: 13}, {9: 146, 4: 171, 7: 38, 6: 1, 2: 2, 1: 1, 8: 2, 5: 1, 3: 1}, {4: 3, 9: 1}, {2: 9, 8: 3}, {2: 1}, {5: 3, 4: 1, 2: 1}, {5: 13, 8: 3, 2: 4, 6: 3, 7: 3, 1: 1}, {4: 23, 9: 3, 5: 2, 7: 2, 0: 1}, {6: 22, 4: 4, 2: 1, 0: 1}, {8: 103, 3: 5, 5: 22, 2: 3, 4: 1, 9: 2}, {4: 51, 9: 11, 2: 51, 7: 6}, {6: 11, 5: 2, 3: 8, 2: 7, 4: 2, 1: 7, 8: 6, 9: 2, 0: 1}, {0: 48, 6: 7, 8: 1, 7: 3, 9: 3, 4: 7, 2: 2, 3: 1}, {8: 27, 0: 4, 6: 21, 9: 1, 4: 4, 5: 15, 3: 1, 2: 5}, {8: 1, 9: 1, 7: 1}, {2: 2, 8: 3, 7: 2}, {3: 17, 8: 7, 6: 2, 2: 1}, {4: 7, 9: 2}, {1: 330, 5: 8, 6: 3, 3: 6, 7: 4, 9: 1, 8: 2, 2: 3}, {3: 4, 6: 7, 2: 5, 8: 13, 5: 3}, {5: 3, 9: 3, 0: 5, 8: 6, 2: 2}, {3: 38, 8: 4, 5: 7, 9: 7, 4: 2}, {0: 150, 3: 5, 5: 3, 8: 2}, {8: 11, 6: 13, 4: 7, 5: 5, 0: 2, 2: 3, 9: 1}, {0: 5, 7: 7, 5: 10, 8: 1, 6: 1}, {6: 178, 0: 30, 4: 20, 8: 2, 5: 1}, {3: 4}, {9: 30, 7: 1, 4: 3, 8: 1}, {5: 3, 3: 12, 4: 12, 8: 8, 6: 2, 2: 6, 0: 1, 9: 1}, {5: 1, 8: 3}, {8: 7, 5: 27, 6: 1, 9: 8}, {4: 2, 0: 20, 6: 57}, {7: 12, 5: 3, 2: 6, 8: 5, 9: 2, 4: 9, 3: 13, 6: 5, 1: 2}, {5: 6, 0: 3, 3: 1}, {3: 1, 6: 7, 2: 2, 5: 1}, {}, {9: 7, 2: 1}, {8: 3, 3: 12, 1: 1, 6: 12, 5: 7, 2: 2, 7: 1}, {4: 5, 2: 2, 8: 1, 5: 2, 0: 1}, {8: 13, 2: 3, 4: 1, 9: 1, 3: 1}, {4: 4, 7: 1, 8: 1}, {8: 5, 3: 1}, {7: 48, 3: 10, 2: 20, 5: 8, 9: 4, 1: 1, 6: 2, 8: 1, 4: 1}, {8: 9, 5: 1, 4: 1, 0: 1, 6: 1, 2: 1}, {9: 36, 8: 5, 5: 3, 7: 3, 2: 2}, {5: 1, 8: 2}, {4: 13, 8: 2, 6: 1, 0: 1, 7: 1}, {5: 2, 2: 1, 8: 2, 4: 1}, {2: 1}, {5: 2, 8: 1}, {2: 5, 4: 5, 3: 5, 9: 14, 6: 6, 1: 4, 8: 20, 7: 8}, {8: 18, 6: 18, 0: 13, 5: 10, 3: 1, 4: 1}, {4: 7, 7: 4, 9: 15, 6: 3, 8: 3}, {3: 44, 5: 1, 6: 27, 8: 8, 4: 1}, {8: 1, 6: 12, 2: 2}, {5: 37, 3: 12, 8: 1, 4: 1}, {2: 4, 0: 3, 3: 1}, {2: 7}, {}, {3: 46, 0: 98, 8: 5, 5: 5, 7: 3, 9: 2, 2: 2}, {6: 15, 2: 19, 1: 1}, {6: 47, 8: 14, 5: 7, 3: 1, 4: 1, 2: 2}, {3: 8, 4: 2, 5: 5, 0: 1, 7: 3, 6: 1}, {4: 35, 2: 13, 9: 3, 3: 1}, {2: 9, 9: 1, 5: 4, 7: 4, 8: 3, 1: 1, 3: 1}, {9: 8, 5: 2, 7: 3, 2: 1, 4: 1}, {7: 5, 5: 3, 4: 7, 8: 4, 9: 8, 3: 3, 0: 1}, {4: 2, 6: 4, 2: 3, 1: 1}, {2: 21, 1: 11, 8: 15, 4: 1, 7: 5}, {2: 30, 4: 1, 8: 2}, {6: 20, 5: 1, 1: 17, 2: 4, 9: 2, 7: 1, 4: 1, 8: 1}, {9: 11, 8: 7, 5: 6, 4: 1, 3: 5}, {0: 13, 2: 5, 6: 3}, {2: 1}, {4: 1, 9: 2}, {3: 18, 5: 1, 0: 1}, {8: 42, 2: 6, 5: 4, 3: 2}, {5: 1, 9: 2, 7: 4}, {7: 127, 2: 1, 1: 4, 9: 1}, {0: 2, 7: 1, 9: 5, 2: 3, 8: 2}, {4: 1}, {3: 22, 5: 24, 9: 18, 8: 57, 0: 1}, {7: 15, 8: 3, 9: 1}, {4: 7, 8: 21, 2: 3, 9: 4}, {8: 5, 2: 2}, {6: 6}, {2: 3, 3: 5, 4: 1, 8: 3, 5: 2}, {0: 125, 7: 7, 6: 2, 3: 1, 5: 3, 8: 1}, {8: 13, 9: 4, 5: 12, 0: 3}, {3: 1, 4: 1}, {6: 4, 4: 1, 2: 1, 3: 1}, {2: 13, 4: 5, 3: 2, 6: 13, 5: 6, 9: 1, 8: 2, 7: 1}, {5: 4, 6: 15, 4: 3, 2: 7, 8: 4, 7: 8}, {2: 7, 9: 1, 3: 4, 8: 5, 5: 1}, {7: 4, 8: 1}, {3: 1, 4: 14, 6: 1, 7: 1}, {3: 4, 2: 1}, {2: 5, 6: 36, 4: 14, 9: 3, 5: 1, 8: 1}, {6: 28, 0: 2, 4: 9, 5: 1, 3: 1, 8: 1}, {}, {2: 8, 4: 5, 0: 1}, {7: 10, 4: 10, 2: 2, 9: 1, 0: 5}, {6: 33, 8: 6, 4: 10, 0: 24, 5: 2, 2: 1}, {3: 7, 5: 9, 2: 1}, {7: 2, 5: 19, 8: 3, 4: 4}, {2: 382, 6: 35, 1: 1, 8: 2, 7: 3, 3: 3, 4: 3, 9: 1}, {7: 2, 3: 1}, {9: 18, 8: 2, 4: 4}, {8: 56, 2: 6, 3: 1, 5: 1}, {}, {5: 2, 3: 7}, {3: 21, 8: 13, 6: 4, 7: 13, 4: 3}, {3: 9, 9: 1, 2: 2, 4: 1, 5: 4}, {5: 25, 3: 2, 8: 10, 2: 1, 0: 1, 6: 1}, {0: 20, 7: 3, 6: 5, 5: 7, 3: 1}, {2: 1, 4: 3, 7: 5, 8: 3, 9: 1}, {2: 19, 9: 14, 4: 3, 3: 1}, {9: 79, 4: 17, 7: 4, 5: 5, 8: 1}, {6: 109, 5: 1, 2: 2, 4: 2}, {0: 46, 6: 2, 5: 5, 8: 1}, {3: 22, 0: 2, 5: 2, 8: 1, 2: 2}]\n"
     ]
    }
   ],
   "source": [
    "print(list_of_dicts)"
   ]
  },
  {
   "cell_type": "code",
   "execution_count": null,
   "metadata": {},
   "outputs": [],
   "source": []
  }
 ],
 "metadata": {
  "kaggle": {
   "accelerator": "gpu",
   "dataSources": [],
   "dockerImageVersionId": 31011,
   "isGpuEnabled": true,
   "isInternetEnabled": true,
   "language": "python",
   "sourceType": "notebook"
  },
  "kernelspec": {
   "display_name": "Python 3 (ipykernel)",
   "language": "python",
   "name": "python3"
  },
  "language_info": {
   "codemirror_mode": {
    "name": "ipython",
    "version": 3
   },
   "file_extension": ".py",
   "mimetype": "text/x-python",
   "name": "python",
   "nbconvert_exporter": "python",
   "pygments_lexer": "ipython3",
   "version": "3.12.3"
  }
 },
 "nbformat": 4,
 "nbformat_minor": 4
}
